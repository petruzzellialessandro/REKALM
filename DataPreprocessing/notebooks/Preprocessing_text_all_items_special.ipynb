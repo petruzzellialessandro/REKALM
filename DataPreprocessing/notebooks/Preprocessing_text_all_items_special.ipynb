{
 "cells": [
  {
   "cell_type": "code",
   "execution_count": 1,
   "metadata": {},
   "outputs": [],
   "source": [
    "dataset = 'movielens'\n",
    "\n",
    "domain = {\n",
    "    'lastfm': 'music',\n",
    "    'dbbook': 'book',\n",
    "    'movielens': 'movie'\n",
    "}[dataset]\n",
    "import os\n",
    "datapath = os.path.join('..', 'data', dataset)\n",
    "\n",
    "special_token = '<|reserved_special_token_22|>'\n",
    "k_prompt = 100\n",
    "resp_frac = 0.5"
   ]
  },
  {
   "cell_type": "markdown",
   "metadata": {},
   "source": [
    "# Set names"
   ]
  },
  {
   "cell_type": "code",
   "execution_count": 2,
   "metadata": {},
   "outputs": [],
   "source": [
    "import pandas as pd\n",
    "import os\n",
    "import random\n",
    "import numpy as np\n",
    "import swifter  "
   ]
  },
  {
   "cell_type": "code",
   "execution_count": 3,
   "metadata": {},
   "outputs": [],
   "source": [
    "user_item_df_train = pd.read_csv(os.path.join(datapath, 'user-item', 'train.tsv'), \\\n",
    "            names=['user', 'item', 'rating'], sep='\\t')\n",
    "\n",
    "user_item_df_test = pd.read_csv(os.path.join(datapath, 'user-item', 'test.tsv'), \\\n",
    "            names=['user', 'item', 'rating'], sep='\\t')\n",
    "\n",
    "\n",
    "df = pd.concat([user_item_df_train, user_item_df_test], ignore_index=True)\n",
    "all_items = df['item'].unique()"
   ]
  },
  {
   "cell_type": "code",
   "execution_count": 4,
   "metadata": {},
   "outputs": [],
   "source": [
    "def get_split_random(list_to_split, frac=0.2, margin=0):\n",
    "    random.seed(22)\n",
    "    sample_list = random.sample(list_to_split, int(frac*len(list_to_split))+margin)\n",
    "    complementary_set = set(list_to_split) - set(sample_list)\n",
    "    return list(set(complementary_set)), list(set(sample_list))"
   ]
  },
  {
   "cell_type": "code",
   "execution_count": 5,
   "metadata": {},
   "outputs": [],
   "source": [
    "random.seed(22)\n",
    "test_frac = 0.2\n",
    "user_list = df['user'].unique().tolist()\n",
    "user_train, user_test = get_split_random(user_list, frac=test_frac, margin=0)"
   ]
  },
  {
   "cell_type": "code",
   "execution_count": 6,
   "metadata": {},
   "outputs": [],
   "source": [
    "user_item_df_train = df[df['user'].isin(user_train)]\n",
    "user_item_df_test = df[df['user'].isin(user_test)]"
   ]
  },
  {
   "cell_type": "code",
   "execution_count": 7,
   "metadata": {},
   "outputs": [
    {
     "data": {
      "text/plain": [
       "4829"
      ]
     },
     "execution_count": 7,
     "metadata": {},
     "output_type": "execute_result"
    }
   ],
   "source": [
    "len(set(user_item_df_train['user'].unique()) - set(user_item_df_test['user'].unique()))"
   ]
  },
  {
   "cell_type": "code",
   "execution_count": 8,
   "metadata": {},
   "outputs": [
    {
     "data": {
      "text/plain": [
       "count    181586.000000\n",
       "mean          0.574697\n",
       "std           0.494390\n",
       "min           0.000000\n",
       "25%           0.000000\n",
       "50%           1.000000\n",
       "75%           1.000000\n",
       "max           1.000000\n",
       "Name: rating, dtype: float64"
      ]
     },
     "execution_count": 8,
     "metadata": {},
     "output_type": "execute_result"
    }
   ],
   "source": [
    "user_item_df_test['rating'].describe()"
   ]
  },
  {
   "cell_type": "code",
   "execution_count": 9,
   "metadata": {},
   "outputs": [
    {
     "data": {
      "text/plain": [
       "count    764534.000000\n",
       "mean          0.572116\n",
       "std           0.494772\n",
       "min           0.000000\n",
       "25%           0.000000\n",
       "50%           1.000000\n",
       "75%           1.000000\n",
       "max           1.000000\n",
       "Name: rating, dtype: float64"
      ]
     },
     "execution_count": 9,
     "metadata": {},
     "output_type": "execute_result"
    }
   ],
   "source": [
    "user_item_df_train['rating'].describe()"
   ]
  },
  {
   "cell_type": "code",
   "execution_count": 10,
   "metadata": {},
   "outputs": [],
   "source": [
    "train_group = user_item_df_train.groupby('user').agg({\n",
    "    'item': list,\n",
    "    'rating': list\n",
    "}).reset_index()\n",
    "test_group = user_item_df_test.groupby('user').agg({\n",
    "    'item': list,\n",
    "    'rating': list\n",
    "}).reset_index()\n",
    "train_group['len'] = train_group['item'].apply(len)\n",
    "test_group['len'] = test_group['item'].apply(len)"
   ]
  },
  {
   "cell_type": "code",
   "execution_count": 11,
   "metadata": {},
   "outputs": [],
   "source": [
    "def split_prompt_resp(row, resp_frac):\n",
    "    items = np.array(row['rating'])\n",
    "    index_likes = np.where(items==1)[0].tolist()\n",
    "    index_dilikes = np.where(items==0)[0].tolist()\n",
    "    index_like_prompt = []\n",
    "    index_like_resp = []    \n",
    "    index_dislike_prompt = []\n",
    "    index_dislike_resp = []\n",
    "    resp_frac=resp_frac\n",
    "    if len(index_likes) > 0:\n",
    "        index_like_prompt, index_like_resp = get_split_random(index_likes, frac=resp_frac, margin=1)\n",
    "    if len(index_dilikes) > 0:\n",
    "        index_dislike_prompt, index_dislike_resp = get_split_random(index_dilikes, frac=resp_frac, margin=1)\n",
    "    row['index_like_prompt'] = index_like_prompt\n",
    "    row['index_like_resp'] = index_like_resp\n",
    "    row['index_dislike_prompt'] = index_dislike_prompt\n",
    "    row['index_dislike_resp'] = index_dislike_resp\n",
    "    return row"
   ]
  },
  {
   "cell_type": "code",
   "execution_count": 12,
   "metadata": {},
   "outputs": [
    {
     "data": {
      "text/plain": [
       "count    1207.000000\n",
       "mean      150.444076\n",
       "std       170.309605\n",
       "min        17.000000\n",
       "25%        39.000000\n",
       "50%        86.000000\n",
       "75%       193.000000\n",
       "max      1276.000000\n",
       "Name: len, dtype: float64"
      ]
     },
     "execution_count": 12,
     "metadata": {},
     "output_type": "execute_result"
    }
   ],
   "source": [
    "test_group['len'].describe()"
   ]
  },
  {
   "cell_type": "code",
   "execution_count": 13,
   "metadata": {},
   "outputs": [
    {
     "data": {
      "text/plain": [
       "count    4829.000000\n",
       "mean      158.321392\n",
       "std       185.232239\n",
       "min        14.000000\n",
       "25%        42.000000\n",
       "50%        91.000000\n",
       "75%       196.000000\n",
       "max      2078.000000\n",
       "Name: len, dtype: float64"
      ]
     },
     "execution_count": 13,
     "metadata": {},
     "output_type": "execute_result"
    }
   ],
   "source": [
    "train_group['len'].describe()"
   ]
  },
  {
   "cell_type": "code",
   "execution_count": 14,
   "metadata": {},
   "outputs": [
    {
     "data": {
      "application/vnd.jupyter.widget-view+json": {
       "model_id": "e0b0b7123a90499094756c00e0bca453",
       "version_major": 2,
       "version_minor": 0
      },
      "text/plain": [
       "Pandas Apply:   0%|          | 0/1207 [00:00<?, ?it/s]"
      ]
     },
     "metadata": {},
     "output_type": "display_data"
    },
    {
     "data": {
      "application/vnd.jupyter.widget-view+json": {
       "model_id": "49f8475595bb4e908f2341ff15769dd3",
       "version_major": 2,
       "version_minor": 0
      },
      "text/plain": [
       "Pandas Apply:   0%|          | 0/4829 [00:00<?, ?it/s]"
      ]
     },
     "metadata": {},
     "output_type": "display_data"
    }
   ],
   "source": [
    "test_group = test_group.swifter.apply(split_prompt_resp, axis=1, resp_frac=resp_frac)\n",
    "train_group = train_group.swifter.apply(split_prompt_resp, axis=1, resp_frac=resp_frac)"
   ]
  },
  {
   "cell_type": "code",
   "execution_count": 15,
   "metadata": {},
   "outputs": [
    {
     "data": {
      "text/html": [
       "<div>\n",
       "<style scoped>\n",
       "    .dataframe tbody tr th:only-of-type {\n",
       "        vertical-align: middle;\n",
       "    }\n",
       "\n",
       "    .dataframe tbody tr th {\n",
       "        vertical-align: top;\n",
       "    }\n",
       "\n",
       "    .dataframe thead th {\n",
       "        text-align: right;\n",
       "    }\n",
       "</style>\n",
       "<table border=\"1\" class=\"dataframe\">\n",
       "  <thead>\n",
       "    <tr style=\"text-align: right;\">\n",
       "      <th></th>\n",
       "      <th>user</th>\n",
       "      <th>item</th>\n",
       "      <th>rating</th>\n",
       "      <th>len</th>\n",
       "      <th>index_like_prompt</th>\n",
       "      <th>index_like_resp</th>\n",
       "      <th>index_dislike_prompt</th>\n",
       "      <th>index_dislike_resp</th>\n",
       "    </tr>\n",
       "  </thead>\n",
       "  <tbody>\n",
       "    <tr>\n",
       "      <th>0</th>\n",
       "      <td>5</td>\n",
       "      <td>[8531, 8533, 9055, 6859, 6271, 7363, 6864, 744...</td>\n",
       "      <td>[1, 1, 1, 1, 1, 1, 1, 0, 0, 1, 0, 1, 0, 1, 1, ...</td>\n",
       "      <td>70</td>\n",
       "      <td>[0, 64, 2, 67, 4, 14, 16, 21, 25, 31, 36, 37, ...</td>\n",
       "      <td>[1, 3, 5, 6, 9, 11, 13, 15, 17, 18, 20, 22, 23...</td>\n",
       "      <td>[35, 68, 38, 10, 51, 53, 62, 27, 29, 30]</td>\n",
       "      <td>[32, 33, 7, 8, 12, 45, 46, 48, 19, 24, 28]</td>\n",
       "    </tr>\n",
       "    <tr>\n",
       "      <th>1</th>\n",
       "      <td>7</td>\n",
       "      <td>[6856, 6042, 6270, 7444, 7889, 8122, 6052, 650...</td>\n",
       "      <td>[1, 0, 1, 0, 0, 1, 1, 1, 1, 1, 1, 1, 1, 0, 1, ...</td>\n",
       "      <td>129</td>\n",
       "      <td>[0, 5, 7, 8, 11, 12, 18, 19, 26, 34, 41, 43, 4...</td>\n",
       "      <td>[2, 6, 9, 10, 14, 15, 17, 21, 23, 25, 27, 28, ...</td>\n",
       "      <td>[128, 1, 65, 4, 71, 72, 73, 74, 16, 83, 84, 87...</td>\n",
       "      <td>[3, 13, 20, 22, 24, 29, 31, 36, 39, 42, 50, 51...</td>\n",
       "    </tr>\n",
       "  </tbody>\n",
       "</table>\n",
       "</div>"
      ],
      "text/plain": [
       "   user                                               item  \\\n",
       "0     5  [8531, 8533, 9055, 6859, 6271, 7363, 6864, 744...   \n",
       "1     7  [6856, 6042, 6270, 7444, 7889, 8122, 6052, 650...   \n",
       "\n",
       "                                              rating  len  \\\n",
       "0  [1, 1, 1, 1, 1, 1, 1, 0, 0, 1, 0, 1, 0, 1, 1, ...   70   \n",
       "1  [1, 0, 1, 0, 0, 1, 1, 1, 1, 1, 1, 1, 1, 0, 1, ...  129   \n",
       "\n",
       "                                   index_like_prompt  \\\n",
       "0  [0, 64, 2, 67, 4, 14, 16, 21, 25, 31, 36, 37, ...   \n",
       "1  [0, 5, 7, 8, 11, 12, 18, 19, 26, 34, 41, 43, 4...   \n",
       "\n",
       "                                     index_like_resp  \\\n",
       "0  [1, 3, 5, 6, 9, 11, 13, 15, 17, 18, 20, 22, 23...   \n",
       "1  [2, 6, 9, 10, 14, 15, 17, 21, 23, 25, 27, 28, ...   \n",
       "\n",
       "                                index_dislike_prompt  \\\n",
       "0           [35, 68, 38, 10, 51, 53, 62, 27, 29, 30]   \n",
       "1  [128, 1, 65, 4, 71, 72, 73, 74, 16, 83, 84, 87...   \n",
       "\n",
       "                                  index_dislike_resp  \n",
       "0         [32, 33, 7, 8, 12, 45, 46, 48, 19, 24, 28]  \n",
       "1  [3, 13, 20, 22, 24, 29, 31, 36, 39, 42, 50, 51...  "
      ]
     },
     "execution_count": 15,
     "metadata": {},
     "output_type": "execute_result"
    }
   ],
   "source": [
    "test_group.head(2)"
   ]
  },
  {
   "cell_type": "code",
   "execution_count": 16,
   "metadata": {},
   "outputs": [
    {
     "data": {
      "text/plain": [
       "(1207, 8)"
      ]
     },
     "execution_count": 16,
     "metadata": {},
     "output_type": "execute_result"
    }
   ],
   "source": [
    "test_group.shape"
   ]
  },
  {
   "cell_type": "code",
   "execution_count": 17,
   "metadata": {},
   "outputs": [
    {
     "data": {
      "text/html": [
       "<div>\n",
       "<style scoped>\n",
       "    .dataframe tbody tr th:only-of-type {\n",
       "        vertical-align: middle;\n",
       "    }\n",
       "\n",
       "    .dataframe tbody tr th {\n",
       "        vertical-align: top;\n",
       "    }\n",
       "\n",
       "    .dataframe thead th {\n",
       "        text-align: right;\n",
       "    }\n",
       "</style>\n",
       "<table border=\"1\" class=\"dataframe\">\n",
       "  <thead>\n",
       "    <tr style=\"text-align: right;\">\n",
       "      <th></th>\n",
       "      <th>user</th>\n",
       "      <th>item</th>\n",
       "      <th>rating</th>\n",
       "      <th>len</th>\n",
       "      <th>index_like_prompt</th>\n",
       "      <th>index_like_resp</th>\n",
       "      <th>index_dislike_prompt</th>\n",
       "      <th>index_dislike_resp</th>\n",
       "    </tr>\n",
       "  </thead>\n",
       "  <tbody>\n",
       "    <tr>\n",
       "      <th>0</th>\n",
       "      <td>0</td>\n",
       "      <td>[8213, 6267, 6857, 6858, 6916, 7258, 8270, 686...</td>\n",
       "      <td>[1, 1, 1, 1, 1, 1, 1, 1, 1, 1, 1, 0, 1, 0, 0, ...</td>\n",
       "      <td>49</td>\n",
       "      <td>[0, 2, 3, 4, 6, 9, 15, 19, 23, 29, 30, 31, 32,...</td>\n",
       "      <td>[1, 5, 7, 8, 10, 12, 16, 17, 18, 20, 21, 22, 2...</td>\n",
       "      <td>[48, 42, 47]</td>\n",
       "      <td>[11, 13, 14, 24, 28]</td>\n",
       "    </tr>\n",
       "    <tr>\n",
       "      <th>1</th>\n",
       "      <td>1</td>\n",
       "      <td>[6493, 8733, 7257, 7887, 7444, 8122, 7061, 789...</td>\n",
       "      <td>[1, 1, 1, 0, 0, 1, 1, 0, 1, 0, 1, 0, 0, 1, 1, ...</td>\n",
       "      <td>122</td>\n",
       "      <td>[0, 2, 6, 10, 14, 15, 20, 28, 31, 37, 42, 46, ...</td>\n",
       "      <td>[1, 5, 8, 13, 25, 26, 30, 34, 36, 38, 40, 44, ...</td>\n",
       "      <td>[66, 3, 67, 70, 7, 71, 73, 74, 11, 19, 21, 85,...</td>\n",
       "      <td>[4, 9, 12, 16, 17, 18, 22, 27, 29, 32, 33, 39,...</td>\n",
       "    </tr>\n",
       "  </tbody>\n",
       "</table>\n",
       "</div>"
      ],
      "text/plain": [
       "   user                                               item  \\\n",
       "0     0  [8213, 6267, 6857, 6858, 6916, 7258, 8270, 686...   \n",
       "1     1  [6493, 8733, 7257, 7887, 7444, 8122, 7061, 789...   \n",
       "\n",
       "                                              rating  len  \\\n",
       "0  [1, 1, 1, 1, 1, 1, 1, 1, 1, 1, 1, 0, 1, 0, 0, ...   49   \n",
       "1  [1, 1, 1, 0, 0, 1, 1, 0, 1, 0, 1, 0, 0, 1, 1, ...  122   \n",
       "\n",
       "                                   index_like_prompt  \\\n",
       "0  [0, 2, 3, 4, 6, 9, 15, 19, 23, 29, 30, 31, 32,...   \n",
       "1  [0, 2, 6, 10, 14, 15, 20, 28, 31, 37, 42, 46, ...   \n",
       "\n",
       "                                     index_like_resp  \\\n",
       "0  [1, 5, 7, 8, 10, 12, 16, 17, 18, 20, 21, 22, 2...   \n",
       "1  [1, 5, 8, 13, 25, 26, 30, 34, 36, 38, 40, 44, ...   \n",
       "\n",
       "                                index_dislike_prompt  \\\n",
       "0                                       [48, 42, 47]   \n",
       "1  [66, 3, 67, 70, 7, 71, 73, 74, 11, 19, 21, 85,...   \n",
       "\n",
       "                                  index_dislike_resp  \n",
       "0                               [11, 13, 14, 24, 28]  \n",
       "1  [4, 9, 12, 16, 17, 18, 22, 27, 29, 32, 33, 39,...  "
      ]
     },
     "execution_count": 17,
     "metadata": {},
     "output_type": "execute_result"
    }
   ],
   "source": [
    "train_group.head(2)"
   ]
  },
  {
   "cell_type": "code",
   "execution_count": 18,
   "metadata": {},
   "outputs": [
    {
     "data": {
      "text/plain": [
       "(4829, 8)"
      ]
     },
     "execution_count": 18,
     "metadata": {},
     "output_type": "execute_result"
    }
   ],
   "source": [
    "train_group.shape"
   ]
  },
  {
   "cell_type": "code",
   "execution_count": 19,
   "metadata": {},
   "outputs": [
    {
     "name": "stderr",
     "output_type": "stream",
     "text": [
      "C:\\Users\\petru\\AppData\\Local\\Temp\\ipykernel_31880\\3822391243.py:11: ParserWarning: Falling back to the 'python' engine because the 'c' engine does not support regex separators (separators > 1 char and different from '\\s+' are interpreted as regex); you can avoid this warning by specifying engine='python'.\n",
      "  df_movies = pd.read_csv(os.path.join(datapath, r\"movies.dat\"), sep=\"::\", names=[\"item_id\", \"name\", \"geners\"], encoding='ISO-8859-1')\n"
     ]
    }
   ],
   "source": [
    "if dataset=='movielens':\n",
    "    def fix_title(title):\n",
    "        if \", The (\" in title:\n",
    "            name_film, _, year = title.rpartition(\", The (\")\n",
    "            title = \"The \" + name_film + \" (\" + year\n",
    "            return title\n",
    "        if \", A (\" in title:\n",
    "            name_film, _, year = title.rpartition(\", A (\")\n",
    "            title = \"A \" + name_film + \" (\" + year\n",
    "        return title\n",
    "    df_movies = pd.read_csv(os.path.join(datapath, r\"movies.dat\"), sep=\"::\", names=[\"item_id\", \"name\", \"geners\"], encoding='ISO-8859-1')\n",
    "    df_movies['name'] = df_movies['name'].apply(lambda x: fix_title(x)[0])\n",
    "    #df_movies['year'] = df_movies['name'].apply(lambda x: fix_title(x)[1])\n",
    "    import re\n",
    "\n",
    "    df_relations = pd.read_csv(os.path.join(datapath, 'mapping_entities.tsv'), \\\n",
    "            names=['url', 'id_set'], sep='\\t')\n",
    "    dbpedia_mapping = pd.read_csv(os.path.join(datapath, 'MappingMovielens2DBpedia-1.2.tsv'), \\\n",
    "            names=['id_movie', 'name', 'dbpedia_url'], sep='\\t')\n",
    "    df_movies = dbpedia_mapping.set_index('dbpedia_url').join(df_relations.set_index('url')).reset_index()\n",
    "    df_movies['name'] = df_movies['name'].apply(lambda x: re.sub(\"\\s+\\(\\d+\\)$\", \"\", x))\n",
    "    df_movies['name'] = df_movies['name'].apply(lambda x: re.sub(r\"[^a-zA-Z0-9]+\", ' ', x).strip())\n",
    "    df_movies.dropna(inplace=True)\n",
    "    df_movies['id_set'] = df_movies['id_set'].astype(int)\n",
    "    mapping_dict = df_movies.loc[:, ['id_set', 'name']].set_index('id_set').to_dict()['name']"
   ]
  },
  {
   "cell_type": "code",
   "execution_count": 20,
   "metadata": {},
   "outputs": [],
   "source": [
    "itemToInt = {x: i for i, x in enumerate(set(mapping_dict.keys()).union(set(all_items.tolist())))}"
   ]
  },
  {
   "cell_type": "code",
   "execution_count": 21,
   "metadata": {},
   "outputs": [],
   "source": [
    "temp = {itemToInt[k]:v for k, v in {**mapping_dict, **{x: str(x) for x in set(mapping_dict.keys()).symmetric_difference(set(all_items.tolist()))}}.items()}"
   ]
  },
  {
   "cell_type": "code",
   "execution_count": 22,
   "metadata": {},
   "outputs": [
    {
     "data": {
      "text/plain": [
       "3218"
      ]
     },
     "execution_count": 22,
     "metadata": {},
     "output_type": "execute_result"
    }
   ],
   "source": [
    "len(temp)"
   ]
  },
  {
   "cell_type": "code",
   "execution_count": 23,
   "metadata": {},
   "outputs": [
    {
     "data": {
      "text/plain": [
       "3217"
      ]
     },
     "execution_count": 23,
     "metadata": {},
     "output_type": "execute_result"
    }
   ],
   "source": [
    "max(temp)"
   ]
  },
  {
   "cell_type": "code",
   "execution_count": 24,
   "metadata": {},
   "outputs": [],
   "source": [
    "pd.to_pickle(temp, os.path.join(datapath, domain+'.pkl'))"
   ]
  },
  {
   "cell_type": "code",
   "execution_count": 25,
   "metadata": {},
   "outputs": [],
   "source": [
    "if dataset=='dbbook':\n",
    "    df_relations = pd.read_csv(os.path.join(datapath, 'mapping_entities.tsv'), sep='\\t')\n",
    "    df_relations['name'] = df_relations['uri'].apply(lambda x: x.split(\";\")[0])\n",
    "    temp = df_relations[df_relations['id'].isin(df['item'].unique())]\n",
    "    mapping_dict = temp.set_index('id').to_dict()['name']"
   ]
  },
  {
   "cell_type": "code",
   "execution_count": 26,
   "metadata": {},
   "outputs": [],
   "source": [
    "if dataset=='lastfm':\n",
    "    df_relations = pd.read_csv(os.path.join(datapath, 'mapping_items.tsv'), \\\n",
    "            names=['id', 'name'], sep='\\t')\n",
    "    mapping_dict = df_relations.set_index('id').to_dict()['name']"
   ]
  },
  {
   "cell_type": "code",
   "execution_count": 27,
   "metadata": {},
   "outputs": [
    {
     "name": "stderr",
     "output_type": "stream",
     "text": [
      "C:\\Users\\petru\\AppData\\Local\\Temp\\ipykernel_31880\\2469010779.py:1: ParserWarning: Falling back to the 'python' engine because the 'c' engine does not support regex separators (separators > 1 char and different from '\\s+' are interpreted as regex); you can avoid this warning by specifying engine='python'.\n",
      "  item_desription = pd.read_csv(os.path.join(datapath, dataset+'.txt'), sep=';;', names=['item_id', 'description'],  on_bad_lines='skip')\n"
     ]
    }
   ],
   "source": [
    "item_desription = pd.read_csv(os.path.join(datapath, dataset+'.txt'), sep=';;', names=['item_id', 'description'],  on_bad_lines='skip')\n",
    "item_desription = item_desription[item_desription['item_id'].isin(all_items)]"
   ]
  },
  {
   "cell_type": "code",
   "execution_count": 28,
   "metadata": {},
   "outputs": [],
   "source": [
    "#item_desription['description'] = item_desription['description'].apply(lambda x: special_token + \" \" + x)"
   ]
  },
  {
   "cell_type": "code",
   "execution_count": 29,
   "metadata": {},
   "outputs": [],
   "source": [
    "import json\n",
    "\n",
    "with open(os.path.join(datapath, f'{dataset}_domain_kn.jsonl'), 'w') as outfile:\n",
    "    for new_id, desc in item_desription.to_dict()['description'].items():\n",
    "        json.dump({'target_id':new_id, 'text':desc}, outfile)\n",
    "        outfile.write('\\n')"
   ]
  },
  {
   "cell_type": "code",
   "execution_count": 30,
   "metadata": {},
   "outputs": [],
   "source": [
    "item_desc_dict = item_desription.to_dict()['description']"
   ]
  },
  {
   "cell_type": "markdown",
   "metadata": {},
   "source": [
    "## Prepare prompt"
   ]
  },
  {
   "cell_type": "code",
   "execution_count": 31,
   "metadata": {},
   "outputs": [
    {
     "data": {
      "text/html": [
       "<div>\n",
       "<style scoped>\n",
       "    .dataframe tbody tr th:only-of-type {\n",
       "        vertical-align: middle;\n",
       "    }\n",
       "\n",
       "    .dataframe tbody tr th {\n",
       "        vertical-align: top;\n",
       "    }\n",
       "\n",
       "    .dataframe thead th {\n",
       "        text-align: right;\n",
       "    }\n",
       "</style>\n",
       "<table border=\"1\" class=\"dataframe\">\n",
       "  <thead>\n",
       "    <tr style=\"text-align: right;\">\n",
       "      <th></th>\n",
       "      <th>user</th>\n",
       "      <th>item</th>\n",
       "      <th>rating</th>\n",
       "      <th>len</th>\n",
       "      <th>index_like_prompt</th>\n",
       "      <th>index_like_resp</th>\n",
       "      <th>index_dislike_prompt</th>\n",
       "      <th>index_dislike_resp</th>\n",
       "    </tr>\n",
       "  </thead>\n",
       "  <tbody>\n",
       "    <tr>\n",
       "      <th>0</th>\n",
       "      <td>0</td>\n",
       "      <td>[8213, 6267, 6857, 6858, 6916, 7258, 8270, 686...</td>\n",
       "      <td>[1, 1, 1, 1, 1, 1, 1, 1, 1, 1, 1, 0, 1, 0, 0, ...</td>\n",
       "      <td>49</td>\n",
       "      <td>[0, 2, 3, 4, 6, 9, 15, 19, 23, 29, 30, 31, 32,...</td>\n",
       "      <td>[1, 5, 7, 8, 10, 12, 16, 17, 18, 20, 21, 22, 2...</td>\n",
       "      <td>[48, 42, 47]</td>\n",
       "      <td>[11, 13, 14, 24, 28]</td>\n",
       "    </tr>\n",
       "    <tr>\n",
       "      <th>1</th>\n",
       "      <td>1</td>\n",
       "      <td>[6493, 8733, 7257, 7887, 7444, 8122, 7061, 789...</td>\n",
       "      <td>[1, 1, 1, 0, 0, 1, 1, 0, 1, 0, 1, 0, 0, 1, 1, ...</td>\n",
       "      <td>122</td>\n",
       "      <td>[0, 2, 6, 10, 14, 15, 20, 28, 31, 37, 42, 46, ...</td>\n",
       "      <td>[1, 5, 8, 13, 25, 26, 30, 34, 36, 38, 40, 44, ...</td>\n",
       "      <td>[66, 3, 67, 70, 7, 71, 73, 74, 11, 19, 21, 85,...</td>\n",
       "      <td>[4, 9, 12, 16, 17, 18, 22, 27, 29, 32, 33, 39,...</td>\n",
       "    </tr>\n",
       "    <tr>\n",
       "      <th>2</th>\n",
       "      <td>2</td>\n",
       "      <td>[7725, 6597, 7059, 6599, 8902, 6560, 7622, 717...</td>\n",
       "      <td>[1, 0, 1, 1, 0, 0, 1, 0, 1, 0, 1, 1, 1, 1, 1, ...</td>\n",
       "      <td>50</td>\n",
       "      <td>[0, 8, 11, 14, 18, 19, 20, 24, 27, 31, 36, 38,...</td>\n",
       "      <td>[2, 3, 6, 10, 12, 13, 15, 16, 22, 25, 28, 29, ...</td>\n",
       "      <td>[34, 35, 21, 39, 9, 26]</td>\n",
       "      <td>[1, 4, 5, 7, 46, 17, 23, 30]</td>\n",
       "    </tr>\n",
       "    <tr>\n",
       "      <th>3</th>\n",
       "      <td>3</td>\n",
       "      <td>[6459, 8213, 6267, 8430, 8897, 6916, 7139, 697...</td>\n",
       "      <td>[1, 1, 1, 1, 0, 1, 1, 0, 1, 1, 1, 1, 1, 0, 1, ...</td>\n",
       "      <td>20</td>\n",
       "      <td>[3, 8, 10, 14, 15, 16, 17, 19]</td>\n",
       "      <td>[0, 1, 2, 5, 6, 9, 11, 12, 18]</td>\n",
       "      <td>[7]</td>\n",
       "      <td>[4, 13]</td>\n",
       "    </tr>\n",
       "    <tr>\n",
       "      <th>4</th>\n",
       "      <td>4</td>\n",
       "      <td>[8113, 7440, 6493, 6044, 6270, 8538, 7671, 812...</td>\n",
       "      <td>[1, 0, 1, 0, 0, 0, 0, 1, 1, 0, 1, 1, 0, 0, 0, ...</td>\n",
       "      <td>188</td>\n",
       "      <td>[0, 2, 130, 10, 11, 138, 141, 19, 147, 155, 28...</td>\n",
       "      <td>[129, 134, 7, 8, 139, 15, 16, 20, 149, 22, 150...</td>\n",
       "      <td>[1, 3, 6, 135, 9, 137, 140, 14, 17, 146, 148, ...</td>\n",
       "      <td>[128, 131, 4, 5, 133, 132, 136, 12, 13, 142, 1...</td>\n",
       "    </tr>\n",
       "  </tbody>\n",
       "</table>\n",
       "</div>"
      ],
      "text/plain": [
       "   user                                               item  \\\n",
       "0     0  [8213, 6267, 6857, 6858, 6916, 7258, 8270, 686...   \n",
       "1     1  [6493, 8733, 7257, 7887, 7444, 8122, 7061, 789...   \n",
       "2     2  [7725, 6597, 7059, 6599, 8902, 6560, 7622, 717...   \n",
       "3     3  [6459, 8213, 6267, 8430, 8897, 6916, 7139, 697...   \n",
       "4     4  [8113, 7440, 6493, 6044, 6270, 8538, 7671, 812...   \n",
       "\n",
       "                                              rating  len  \\\n",
       "0  [1, 1, 1, 1, 1, 1, 1, 1, 1, 1, 1, 0, 1, 0, 0, ...   49   \n",
       "1  [1, 1, 1, 0, 0, 1, 1, 0, 1, 0, 1, 0, 0, 1, 1, ...  122   \n",
       "2  [1, 0, 1, 1, 0, 0, 1, 0, 1, 0, 1, 1, 1, 1, 1, ...   50   \n",
       "3  [1, 1, 1, 1, 0, 1, 1, 0, 1, 1, 1, 1, 1, 0, 1, ...   20   \n",
       "4  [1, 0, 1, 0, 0, 0, 0, 1, 1, 0, 1, 1, 0, 0, 0, ...  188   \n",
       "\n",
       "                                   index_like_prompt  \\\n",
       "0  [0, 2, 3, 4, 6, 9, 15, 19, 23, 29, 30, 31, 32,...   \n",
       "1  [0, 2, 6, 10, 14, 15, 20, 28, 31, 37, 42, 46, ...   \n",
       "2  [0, 8, 11, 14, 18, 19, 20, 24, 27, 31, 36, 38,...   \n",
       "3                     [3, 8, 10, 14, 15, 16, 17, 19]   \n",
       "4  [0, 2, 130, 10, 11, 138, 141, 19, 147, 155, 28...   \n",
       "\n",
       "                                     index_like_resp  \\\n",
       "0  [1, 5, 7, 8, 10, 12, 16, 17, 18, 20, 21, 22, 2...   \n",
       "1  [1, 5, 8, 13, 25, 26, 30, 34, 36, 38, 40, 44, ...   \n",
       "2  [2, 3, 6, 10, 12, 13, 15, 16, 22, 25, 28, 29, ...   \n",
       "3                     [0, 1, 2, 5, 6, 9, 11, 12, 18]   \n",
       "4  [129, 134, 7, 8, 139, 15, 16, 20, 149, 22, 150...   \n",
       "\n",
       "                                index_dislike_prompt  \\\n",
       "0                                       [48, 42, 47]   \n",
       "1  [66, 3, 67, 70, 7, 71, 73, 74, 11, 19, 21, 85,...   \n",
       "2                            [34, 35, 21, 39, 9, 26]   \n",
       "3                                                [7]   \n",
       "4  [1, 3, 6, 135, 9, 137, 140, 14, 17, 146, 148, ...   \n",
       "\n",
       "                                  index_dislike_resp  \n",
       "0                               [11, 13, 14, 24, 28]  \n",
       "1  [4, 9, 12, 16, 17, 18, 22, 27, 29, 32, 33, 39,...  \n",
       "2                       [1, 4, 5, 7, 46, 17, 23, 30]  \n",
       "3                                            [4, 13]  \n",
       "4  [128, 131, 4, 5, 133, 132, 136, 12, 13, 142, 1...  "
      ]
     },
     "execution_count": 31,
     "metadata": {},
     "output_type": "execute_result"
    }
   ],
   "source": [
    "train_group.head()"
   ]
  },
  {
   "cell_type": "code",
   "execution_count": 32,
   "metadata": {},
   "outputs": [
    {
     "data": {
      "text/plain": [
       "'Wayne s World'"
      ]
     },
     "execution_count": 32,
     "metadata": {},
     "output_type": "execute_result"
    }
   ],
   "source": [
    "mapping_dict[8670]"
   ]
  },
  {
   "cell_type": "code",
   "execution_count": 33,
   "metadata": {},
   "outputs": [],
   "source": [
    "def map_with_names(row, col, mapping_dict):\n",
    "    return [mapping_dict.get(x, '') for x in np.array(row['item'])[row[col]] if len(mapping_dict.get(x, ''))>2]\n",
    "\n",
    "\n",
    "train_group['liked_prompt'] = train_group.apply(map_with_names, axis=1, col='index_like_prompt', mapping_dict=mapping_dict)\n",
    "train_group['liked_resp'] = train_group.apply(map_with_names, axis=1, col='index_like_resp', mapping_dict=mapping_dict)\n",
    "train_group['disliked_prompt'] = train_group.apply(map_with_names, axis=1, col='index_dislike_prompt', mapping_dict=mapping_dict)\n",
    "train_group['disliked_resp'] = train_group.apply(map_with_names, axis=1, col='index_dislike_resp', mapping_dict=mapping_dict)\n",
    "\n",
    "test_group['liked_prompt'] = test_group.apply(map_with_names, axis=1, col='index_like_prompt', mapping_dict=mapping_dict)\n",
    "test_group['liked_resp'] = test_group.apply(map_with_names, axis=1, col='index_like_resp', mapping_dict=mapping_dict)\n",
    "test_group['disliked_prompt'] = test_group.apply(map_with_names, axis=1, col='index_dislike_prompt', mapping_dict=mapping_dict)\n",
    "test_group['disliked_resp'] = test_group.apply(map_with_names, axis=1, col='index_dislike_resp', mapping_dict=mapping_dict)"
   ]
  },
  {
   "cell_type": "code",
   "execution_count": 34,
   "metadata": {},
   "outputs": [
    {
     "data": {
      "text/html": [
       "<div>\n",
       "<style scoped>\n",
       "    .dataframe tbody tr th:only-of-type {\n",
       "        vertical-align: middle;\n",
       "    }\n",
       "\n",
       "    .dataframe tbody tr th {\n",
       "        vertical-align: top;\n",
       "    }\n",
       "\n",
       "    .dataframe thead th {\n",
       "        text-align: right;\n",
       "    }\n",
       "</style>\n",
       "<table border=\"1\" class=\"dataframe\">\n",
       "  <thead>\n",
       "    <tr style=\"text-align: right;\">\n",
       "      <th></th>\n",
       "      <th>user</th>\n",
       "      <th>item</th>\n",
       "      <th>rating</th>\n",
       "      <th>len</th>\n",
       "      <th>index_like_prompt</th>\n",
       "      <th>index_like_resp</th>\n",
       "      <th>index_dislike_prompt</th>\n",
       "      <th>index_dislike_resp</th>\n",
       "      <th>liked_prompt</th>\n",
       "      <th>liked_resp</th>\n",
       "      <th>disliked_prompt</th>\n",
       "      <th>disliked_resp</th>\n",
       "    </tr>\n",
       "  </thead>\n",
       "  <tbody>\n",
       "    <tr>\n",
       "      <th>0</th>\n",
       "      <td>0</td>\n",
       "      <td>[8213, 6267, 6857, 6858, 6916, 7258, 8270, 686...</td>\n",
       "      <td>[1, 1, 1, 1, 1, 1, 1, 1, 1, 1, 1, 0, 1, 0, 0, ...</td>\n",
       "      <td>49</td>\n",
       "      <td>[0, 2, 3, 4, 6, 9, 15, 19, 23, 29, 30, 31, 32,...</td>\n",
       "      <td>[1, 5, 7, 8, 10, 12, 16, 17, 18, 20, 21, 22, 2...</td>\n",
       "      <td>[48, 42, 47]</td>\n",
       "      <td>[11, 13, 14, 24, 28]</td>\n",
       "      <td>[Run Lola Run Lola rennt, Mary Poppins, Dumbo,...</td>\n",
       "      <td>[Ponette, Sound of Music The, Aladdin, Hunchba...</td>\n",
       "      <td>[Tarzan, James and the Giant Peach, Princess B...</td>\n",
       "      <td>[Wallace Gromit The Best of Aardman Animation,...</td>\n",
       "    </tr>\n",
       "    <tr>\n",
       "      <th>1</th>\n",
       "      <td>1</td>\n",
       "      <td>[6493, 8733, 7257, 7887, 7444, 8122, 7061, 789...</td>\n",
       "      <td>[1, 1, 1, 0, 0, 1, 1, 0, 1, 0, 1, 0, 0, 1, 1, ...</td>\n",
       "      <td>122</td>\n",
       "      <td>[0, 2, 6, 10, 14, 15, 20, 28, 31, 37, 42, 46, ...</td>\n",
       "      <td>[1, 5, 8, 13, 25, 26, 30, 34, 36, 38, 40, 44, ...</td>\n",
       "      <td>[66, 3, 67, 70, 7, 71, 73, 74, 11, 19, 21, 85,...</td>\n",
       "      <td>[4, 9, 12, 16, 17, 18, 22, 27, 29, 32, 33, 39,...</td>\n",
       "      <td>[Remains of the Day The, Lost World Jurassic P...</td>\n",
       "      <td>[Key Largo, Matrix The, Doctor Zhivago, Green ...</td>\n",
       "      <td>[Breakfast Club The, Children of a Lesser God,...</td>\n",
       "      <td>[Man in the Iron Mask The, Get Shorty, Fisher ...</td>\n",
       "    </tr>\n",
       "  </tbody>\n",
       "</table>\n",
       "</div>"
      ],
      "text/plain": [
       "   user                                               item  \\\n",
       "0     0  [8213, 6267, 6857, 6858, 6916, 7258, 8270, 686...   \n",
       "1     1  [6493, 8733, 7257, 7887, 7444, 8122, 7061, 789...   \n",
       "\n",
       "                                              rating  len  \\\n",
       "0  [1, 1, 1, 1, 1, 1, 1, 1, 1, 1, 1, 0, 1, 0, 0, ...   49   \n",
       "1  [1, 1, 1, 0, 0, 1, 1, 0, 1, 0, 1, 0, 0, 1, 1, ...  122   \n",
       "\n",
       "                                   index_like_prompt  \\\n",
       "0  [0, 2, 3, 4, 6, 9, 15, 19, 23, 29, 30, 31, 32,...   \n",
       "1  [0, 2, 6, 10, 14, 15, 20, 28, 31, 37, 42, 46, ...   \n",
       "\n",
       "                                     index_like_resp  \\\n",
       "0  [1, 5, 7, 8, 10, 12, 16, 17, 18, 20, 21, 22, 2...   \n",
       "1  [1, 5, 8, 13, 25, 26, 30, 34, 36, 38, 40, 44, ...   \n",
       "\n",
       "                                index_dislike_prompt  \\\n",
       "0                                       [48, 42, 47]   \n",
       "1  [66, 3, 67, 70, 7, 71, 73, 74, 11, 19, 21, 85,...   \n",
       "\n",
       "                                  index_dislike_resp  \\\n",
       "0                               [11, 13, 14, 24, 28]   \n",
       "1  [4, 9, 12, 16, 17, 18, 22, 27, 29, 32, 33, 39,...   \n",
       "\n",
       "                                        liked_prompt  \\\n",
       "0  [Run Lola Run Lola rennt, Mary Poppins, Dumbo,...   \n",
       "1  [Remains of the Day The, Lost World Jurassic P...   \n",
       "\n",
       "                                          liked_resp  \\\n",
       "0  [Ponette, Sound of Music The, Aladdin, Hunchba...   \n",
       "1  [Key Largo, Matrix The, Doctor Zhivago, Green ...   \n",
       "\n",
       "                                     disliked_prompt  \\\n",
       "0  [Tarzan, James and the Giant Peach, Princess B...   \n",
       "1  [Breakfast Club The, Children of a Lesser God,...   \n",
       "\n",
       "                                       disliked_resp  \n",
       "0  [Wallace Gromit The Best of Aardman Animation,...  \n",
       "1  [Man in the Iron Mask The, Get Shorty, Fisher ...  "
      ]
     },
     "execution_count": 34,
     "metadata": {},
     "output_type": "execute_result"
    }
   ],
   "source": [
    "train_group.head(2)"
   ]
  },
  {
   "cell_type": "code",
   "execution_count": 35,
   "metadata": {},
   "outputs": [],
   "source": [
    "train = []\n",
    "test = []\n",
    "for _, row in test_group.iterrows():\n",
    "    for item in row['liked_prompt']:\n",
    "        train.append({\n",
    "            'user_id': row['user'],\n",
    "            'item_id': item,\n",
    "            'score': 1\n",
    "        })\n",
    "    for item in row['disliked_prompt']:\n",
    "        train.append({\n",
    "            'user_id': row['user'],\n",
    "            'item_id': item,\n",
    "            'score': 0\n",
    "        })\n",
    "    for item in row['liked_resp']:\n",
    "        test.append({\n",
    "            'user_id': row['user'],\n",
    "            'item_id': item,\n",
    "            'score': 1\n",
    "        })\n",
    "    for item in row['disliked_resp']:\n",
    "        test.append({\n",
    "            'user_id': row['user'],\n",
    "            'item_id': item,\n",
    "            'score': 0\n",
    "        })\n",
    "\n",
    "pd.DataFrame(train).to_csv(\"train_adaptation.csv\")\n",
    "                    "
   ]
  },
  {
   "cell_type": "code",
   "execution_count": 36,
   "metadata": {},
   "outputs": [],
   "source": [
    "import random\n",
    "import itertools\n",
    "\n",
    "def prepare_user_prompt(row, test=False):\n",
    "    random.seed(22)\n",
    "    user_prompt = ''\n",
    "    liked_list = ', '\n",
    "    disliked_list = ', '\n",
    "    liked_part = \"\"\"I like the following items:\\n{liked_list}\\n\"\"\"\n",
    "    disliked_part = \"\"\"I dislike the following items:\\n{disliked_list}\\n\"\"\"\n",
    "    liked_items = sorted(row['liked_prompt'], key=lambda k: random.random())\n",
    "    disliked_items = sorted(row['disliked_prompt'], key=lambda k: random.random())\n",
    "    liked_list = liked_list.join(liked_items)\n",
    "    disliked_list = disliked_list.join(disliked_items)\n",
    "    if len(liked_items)>0:\n",
    "        user_prompt = user_prompt + liked_part.format(liked_list=liked_list)\n",
    "    if len(disliked_list)>0:\n",
    "        user_prompt = user_prompt + disliked_part.format(disliked_list=disliked_list)\n",
    "    \n",
    "    to_rank_list_str = ', '\n",
    "    to_rank_list = list(itertools.chain(*[row['liked_resp'], row['disliked_resp']]))\n",
    "    if test:\n",
    "        response_part = f\"\"\"\\nSugges me {k_prompt} items\"\"\"\n",
    "    else:\n",
    "        response_part = f\"\"\"\\nSugges me {len(to_rank_list)} items\"\"\"\n",
    "    to_rank_list = sorted(to_rank_list, key=lambda k: random.random())\n",
    "    to_rank_list = to_rank_list_str.join(to_rank_list)\n",
    "    user_prompt = user_prompt + response_part#.format(to_rank_list=to_rank_list)\n",
    "    return user_prompt\n",
    "        \n",
    "def get_assistant_prompt(row):\n",
    "    ranked_list_str = ''\n",
    "    rank_part = \"\"\"Here a list:\\n{ranked_list}\\n\"\"\"\n",
    "    prepared_prompt_inter = []\n",
    "    for i, x in enumerate(row['liked_resp']):\n",
    "        ranked_list_str = ranked_list_str + f\"{i+1}. {x} <|reserved_special_token_0|>\"\n",
    "        #prepared_prompt_inter.append(rank_part.format(ranked_list=ranked_list_str))\n",
    "    for i, x in enumerate(row['disliked_resp'], len(row['liked_resp'])):\n",
    "        ranked_list_str = ranked_list_str + f\"{i+1}. {x} <|reserved_special_token_0|>\"\n",
    "    return rank_part.format(ranked_list=ranked_list_str)[:-1]\n",
    "\n",
    "\n",
    "\n",
    "def get_assistant_prompt(row):\n",
    "    ranked_list_str = ''\n",
    "    rank_part = \"\"\"Here a list:\\n{ranked_list}\"\"\"\n",
    "    prepared_prompt_inter = [{'text': rank_part.format(ranked_list=\"\")}]\n",
    "    itemToInt\n",
    "    for i, (x, id_) in enumerate(zip(row['liked_resp'], row['index_like_resp'])):\n",
    "        ranked_list_str = ranked_list_str + f\"{i+1}. {x} <|reserved_special_token_0|>\"\n",
    "        prepared_prompt_inter[-1][\"target\"] = itemToInt[row['item'][id_]]\n",
    "        prepared_prompt_inter[-1][\"target_text\"] = f\"{i+1}. {x} <|reserved_special_token_0|>\"\n",
    "        prepared_prompt_inter.append({'text': rank_part.format(ranked_list=ranked_list_str)})\n",
    "    #for i, x in enumerate(row['disliked_resp'], len(row['liked_resp'])):\n",
    "    #    ranked_list_str = ranked_list_str + f\"{i+1}. {x} <|reserved_special_token_0|>\"\n",
    "    return prepared_prompt_inter\n",
    "\n",
    "\n",
    "train_group['user_prompt'] = train_group.apply(prepare_user_prompt, axis=1)\n",
    "train_group['assistant_prompt'] = train_group.apply(get_assistant_prompt, axis=1)\n",
    "\n",
    "test_group['user_prompt'] = test_group.apply(prepare_user_prompt, axis=1, test=True)\n",
    "test_group['assistant_prompt'] = test_group.apply(get_assistant_prompt, axis=1)"
   ]
  },
  {
   "cell_type": "code",
   "execution_count": 37,
   "metadata": {},
   "outputs": [
    {
     "name": "stdout",
     "output_type": "stream",
     "text": [
      "I like the following items:\n",
      "Maltese Falcon The, Monty Python and the Holy Grail, Magnum Force, Run Silent Run Deep, Who Framed Roger Rabbit, Bell Book and Candle, Bringing Out the Dead, From Here to Eternity, Gladiator, Ravenous, Taking of Pelham One Two Three The, Messenger The Story of Joan of Arc The\n",
      "I dislike the following items:\n",
      "Entrapment, Boiler Room, Braddock Missing in Action III, Clerks, Gone in 60 Seconds, Get Carter, Bowfinger, Star Trek The Motion Picture, Space Cowboys, Wild Wild West, Arachnophobia, Mystery Men, Teaching Mrs Tingle, Pitch Black, Sixth Sense The, Cell The, Civil Action A, Reindeer Games, Payback, Back to the Future\n",
      "\n",
      "Sugges me 34 items\n"
     ]
    }
   ],
   "source": [
    "print(train_group.loc[150, 'user_prompt'])"
   ]
  },
  {
   "cell_type": "code",
   "execution_count": 38,
   "metadata": {},
   "outputs": [
    {
     "name": "stdout",
     "output_type": "stream",
     "text": [
      "[{'text': 'Here a list:\\n', 'target': 1925, 'target_text': '1. Rushmore <|reserved_special_token_0|>'}, {'text': 'Here a list:\\n1. Rushmore <|reserved_special_token_0|>', 'target': 3010, 'target_text': '2. Soapdish <|reserved_special_token_0|>'}, {'text': 'Here a list:\\n1. Rushmore <|reserved_special_token_0|>2. Soapdish <|reserved_special_token_0|>', 'target': 2793, 'target_text': '3. Romeo Must Die <|reserved_special_token_0|>'}, {'text': 'Here a list:\\n1. Rushmore <|reserved_special_token_0|>2. Soapdish <|reserved_special_token_0|>3. Romeo Must Die <|reserved_special_token_0|>', 'target': 2597, 'target_text': '4. Dead Calm <|reserved_special_token_0|>'}, {'text': 'Here a list:\\n1. Rushmore <|reserved_special_token_0|>2. Soapdish <|reserved_special_token_0|>3. Romeo Must Die <|reserved_special_token_0|>4. Dead Calm <|reserved_special_token_0|>', 'target': 2084, 'target_text': '5. Matrix The <|reserved_special_token_0|>'}, {'text': 'Here a list:\\n1. Rushmore <|reserved_special_token_0|>2. Soapdish <|reserved_special_token_0|>3. Romeo Must Die <|reserved_special_token_0|>4. Dead Calm <|reserved_special_token_0|>5. Matrix The <|reserved_special_token_0|>', 'target': 2182, 'target_text': '6. Summer of Sam <|reserved_special_token_0|>'}, {'text': 'Here a list:\\n1. Rushmore <|reserved_special_token_0|>2. Soapdish <|reserved_special_token_0|>3. Romeo Must Die <|reserved_special_token_0|>4. Dead Calm <|reserved_special_token_0|>5. Matrix The <|reserved_special_token_0|>6. Summer of Sam <|reserved_special_token_0|>', 'target': 2395, 'target_text': '7. Fight Club <|reserved_special_token_0|>'}, {'text': 'Here a list:\\n1. Rushmore <|reserved_special_token_0|>2. Soapdish <|reserved_special_token_0|>3. Romeo Must Die <|reserved_special_token_0|>4. Dead Calm <|reserved_special_token_0|>5. Matrix The <|reserved_special_token_0|>6. Summer of Sam <|reserved_special_token_0|>7. Fight Club <|reserved_special_token_0|>', 'target': 2608, 'target_text': '8. Pacific Heights <|reserved_special_token_0|>'}, {'text': 'Here a list:\\n1. Rushmore <|reserved_special_token_0|>2. Soapdish <|reserved_special_token_0|>3. Romeo Must Die <|reserved_special_token_0|>4. Dead Calm <|reserved_special_token_0|>5. Matrix The <|reserved_special_token_0|>6. Summer of Sam <|reserved_special_token_0|>7. Fight Club <|reserved_special_token_0|>8. Pacific Heights <|reserved_special_token_0|>', 'target': 1305, 'target_text': '9. Gattaca <|reserved_special_token_0|>'}, {'text': 'Here a list:\\n1. Rushmore <|reserved_special_token_0|>2. Soapdish <|reserved_special_token_0|>3. Romeo Must Die <|reserved_special_token_0|>4. Dead Calm <|reserved_special_token_0|>5. Matrix The <|reserved_special_token_0|>6. Summer of Sam <|reserved_special_token_0|>7. Fight Club <|reserved_special_token_0|>8. Pacific Heights <|reserved_special_token_0|>9. Gattaca <|reserved_special_token_0|>', 'target': 938, 'target_text': '10. Election <|reserved_special_token_0|>'}, {'text': 'Here a list:\\n1. Rushmore <|reserved_special_token_0|>2. Soapdish <|reserved_special_token_0|>3. Romeo Must Die <|reserved_special_token_0|>4. Dead Calm <|reserved_special_token_0|>5. Matrix The <|reserved_special_token_0|>6. Summer of Sam <|reserved_special_token_0|>7. Fight Club <|reserved_special_token_0|>8. Pacific Heights <|reserved_special_token_0|>9. Gattaca <|reserved_special_token_0|>10. Election <|reserved_special_token_0|>', 'target': 2102, 'target_text': '11. 13th Warrior The <|reserved_special_token_0|>'}, {'text': 'Here a list:\\n1. Rushmore <|reserved_special_token_0|>2. Soapdish <|reserved_special_token_0|>3. Romeo Must Die <|reserved_special_token_0|>4. Dead Calm <|reserved_special_token_0|>5. Matrix The <|reserved_special_token_0|>6. Summer of Sam <|reserved_special_token_0|>7. Fight Club <|reserved_special_token_0|>8. Pacific Heights <|reserved_special_token_0|>9. Gattaca <|reserved_special_token_0|>10. Election <|reserved_special_token_0|>11. 13th Warrior The <|reserved_special_token_0|>', 'target': 2290, 'target_text': '12. Predator <|reserved_special_token_0|>'}, {'text': 'Here a list:\\n1. Rushmore <|reserved_special_token_0|>2. Soapdish <|reserved_special_token_0|>3. Romeo Must Die <|reserved_special_token_0|>4. Dead Calm <|reserved_special_token_0|>5. Matrix The <|reserved_special_token_0|>6. Summer of Sam <|reserved_special_token_0|>7. Fight Club <|reserved_special_token_0|>8. Pacific Heights <|reserved_special_token_0|>9. Gattaca <|reserved_special_token_0|>10. Election <|reserved_special_token_0|>11. 13th Warrior The <|reserved_special_token_0|>12. Predator <|reserved_special_token_0|>'}]\n"
     ]
    }
   ],
   "source": [
    "print(train_group.loc[150, 'assistant_prompt'])"
   ]
  },
  {
   "cell_type": "code",
   "execution_count": 39,
   "metadata": {},
   "outputs": [
    {
     "name": "stderr",
     "output_type": "stream",
     "text": [
      "\n",
      "A module that was compiled using NumPy 1.x cannot be run in\n",
      "NumPy 2.0.1 as it may crash. To support both 1.x and 2.x\n",
      "versions of NumPy, modules must be compiled with NumPy 2.0.\n",
      "Some module may need to rebuild instead e.g. with 'pybind11>=2.12'.\n",
      "\n",
      "If you are a user of the module, the easiest solution will be to\n",
      "downgrade to 'numpy<2' or try to upgrade the affected module.\n",
      "We expect that some modules will need time to support NumPy 2.\n",
      "\n",
      "Traceback (most recent call last):  File \"C:\\Users\\petru\\.pyenv\\pyenv-win\\versions\\3.10.0\\lib\\runpy.py\", line 196, in _run_module_as_main\n",
      "    return _run_code(code, main_globals, None,\n",
      "  File \"C:\\Users\\petru\\.pyenv\\pyenv-win\\versions\\3.10.0\\lib\\runpy.py\", line 86, in _run_code\n",
      "    exec(code, run_globals)\n",
      "  File \"c:\\Users\\petru\\Documents\\python_envs\\transformerVenv\\lib\\site-packages\\ipykernel_launcher.py\", line 18, in <module>\n",
      "    app.launch_new_instance()\n",
      "  File \"c:\\Users\\petru\\Documents\\python_envs\\transformerVenv\\lib\\site-packages\\traitlets\\config\\application.py\", line 1075, in launch_instance\n",
      "    app.start()\n",
      "  File \"c:\\Users\\petru\\Documents\\python_envs\\transformerVenv\\lib\\site-packages\\ipykernel\\kernelapp.py\", line 739, in start\n",
      "    self.io_loop.start()\n",
      "  File \"c:\\Users\\petru\\Documents\\python_envs\\transformerVenv\\lib\\site-packages\\tornado\\platform\\asyncio.py\", line 205, in start\n",
      "    self.asyncio_loop.run_forever()\n",
      "  File \"C:\\Users\\petru\\.pyenv\\pyenv-win\\versions\\3.10.0\\lib\\asyncio\\base_events.py\", line 595, in run_forever\n",
      "    self._run_once()\n",
      "  File \"C:\\Users\\petru\\.pyenv\\pyenv-win\\versions\\3.10.0\\lib\\asyncio\\base_events.py\", line 1881, in _run_once\n",
      "    handle._run()\n",
      "  File \"C:\\Users\\petru\\.pyenv\\pyenv-win\\versions\\3.10.0\\lib\\asyncio\\events.py\", line 80, in _run\n",
      "    self._context.run(self._callback, *self._args)\n",
      "  File \"c:\\Users\\petru\\Documents\\python_envs\\transformerVenv\\lib\\site-packages\\ipykernel\\kernelbase.py\", line 545, in dispatch_queue\n",
      "    await self.process_one()\n",
      "  File \"c:\\Users\\petru\\Documents\\python_envs\\transformerVenv\\lib\\site-packages\\ipykernel\\kernelbase.py\", line 534, in process_one\n",
      "    await dispatch(*args)\n",
      "  File \"c:\\Users\\petru\\Documents\\python_envs\\transformerVenv\\lib\\site-packages\\ipykernel\\kernelbase.py\", line 437, in dispatch_shell\n",
      "    await result\n",
      "  File \"c:\\Users\\petru\\Documents\\python_envs\\transformerVenv\\lib\\site-packages\\ipykernel\\ipkernel.py\", line 362, in execute_request\n",
      "    await super().execute_request(stream, ident, parent)\n",
      "  File \"c:\\Users\\petru\\Documents\\python_envs\\transformerVenv\\lib\\site-packages\\ipykernel\\kernelbase.py\", line 778, in execute_request\n",
      "    reply_content = await reply_content\n",
      "  File \"c:\\Users\\petru\\Documents\\python_envs\\transformerVenv\\lib\\site-packages\\ipykernel\\ipkernel.py\", line 449, in do_execute\n",
      "    res = shell.run_cell(\n",
      "  File \"c:\\Users\\petru\\Documents\\python_envs\\transformerVenv\\lib\\site-packages\\ipykernel\\zmqshell.py\", line 549, in run_cell\n",
      "    return super().run_cell(*args, **kwargs)\n",
      "  File \"c:\\Users\\petru\\Documents\\python_envs\\transformerVenv\\lib\\site-packages\\IPython\\core\\interactiveshell.py\", line 3075, in run_cell\n",
      "    result = self._run_cell(\n",
      "  File \"c:\\Users\\petru\\Documents\\python_envs\\transformerVenv\\lib\\site-packages\\IPython\\core\\interactiveshell.py\", line 3130, in _run_cell\n",
      "    result = runner(coro)\n",
      "  File \"c:\\Users\\petru\\Documents\\python_envs\\transformerVenv\\lib\\site-packages\\IPython\\core\\async_helpers.py\", line 128, in _pseudo_sync_runner\n",
      "    coro.send(None)\n",
      "  File \"c:\\Users\\petru\\Documents\\python_envs\\transformerVenv\\lib\\site-packages\\IPython\\core\\interactiveshell.py\", line 3334, in run_cell_async\n",
      "    has_raised = await self.run_ast_nodes(code_ast.body, cell_name,\n",
      "  File \"c:\\Users\\petru\\Documents\\python_envs\\transformerVenv\\lib\\site-packages\\IPython\\core\\interactiveshell.py\", line 3517, in run_ast_nodes\n",
      "    if await self.run_code(code, result, async_=asy):\n",
      "  File \"c:\\Users\\petru\\Documents\\python_envs\\transformerVenv\\lib\\site-packages\\IPython\\core\\interactiveshell.py\", line 3577, in run_code\n",
      "    exec(code_obj, self.user_global_ns, self.user_ns)\n",
      "  File \"C:\\Users\\petru\\AppData\\Local\\Temp\\ipykernel_31880\\840770870.py\", line 1, in <module>\n",
      "    from transformers import AutoTokenizer\n",
      "  File \"c:\\Users\\petru\\Documents\\python_envs\\transformerVenv\\lib\\site-packages\\transformers\\__init__.py\", line 26, in <module>\n",
      "    from . import dependency_versions_check\n",
      "  File \"c:\\Users\\petru\\Documents\\python_envs\\transformerVenv\\lib\\site-packages\\transformers\\dependency_versions_check.py\", line 16, in <module>\n",
      "    from .utils.versions import require_version, require_version_core\n",
      "  File \"c:\\Users\\petru\\Documents\\python_envs\\transformerVenv\\lib\\site-packages\\transformers\\utils\\__init__.py\", line 34, in <module>\n",
      "    from .generic import (\n",
      "  File \"c:\\Users\\petru\\Documents\\python_envs\\transformerVenv\\lib\\site-packages\\transformers\\utils\\generic.py\", line 462, in <module>\n",
      "    import torch.utils._pytree as _torch_pytree\n",
      "  File \"c:\\Users\\petru\\Documents\\python_envs\\transformerVenv\\lib\\site-packages\\torch\\__init__.py\", line 2120, in <module>\n",
      "    from torch._higher_order_ops import cond\n",
      "  File \"c:\\Users\\petru\\Documents\\python_envs\\transformerVenv\\lib\\site-packages\\torch\\_higher_order_ops\\__init__.py\", line 1, in <module>\n",
      "    from .cond import cond\n",
      "  File \"c:\\Users\\petru\\Documents\\python_envs\\transformerVenv\\lib\\site-packages\\torch\\_higher_order_ops\\cond.py\", line 5, in <module>\n",
      "    import torch._subclasses.functional_tensor\n",
      "  File \"c:\\Users\\petru\\Documents\\python_envs\\transformerVenv\\lib\\site-packages\\torch\\_subclasses\\functional_tensor.py\", line 42, in <module>\n",
      "    class FunctionalTensor(torch.Tensor):\n",
      "  File \"c:\\Users\\petru\\Documents\\python_envs\\transformerVenv\\lib\\site-packages\\torch\\_subclasses\\functional_tensor.py\", line 258, in FunctionalTensor\n",
      "    cpu = _conversion_method_template(device=torch.device(\"cpu\"))\n",
      "c:\\Users\\petru\\Documents\\python_envs\\transformerVenv\\lib\\site-packages\\torch\\_subclasses\\functional_tensor.py:258: UserWarning: Failed to initialize NumPy: _ARRAY_API not found (Triggered internally at C:\\actions-runner\\_work\\pytorch\\pytorch\\builder\\windows\\pytorch\\torch\\csrc\\utils\\tensor_numpy.cpp:84.)\n",
      "  cpu = _conversion_method_template(device=torch.device(\"cpu\"))\n"
     ]
    }
   ],
   "source": [
    "from transformers import AutoTokenizer\n",
    "tokenizer = AutoTokenizer.from_pretrained(\"../llama3.21B\")\n",
    "tokenizer.pad_token = tokenizer.eos_token\n",
    "#tokenizer.chat_template =  \"{% set ns = namespace(i=0) %}\" \\\n",
    "#                            \"{% for message in messages %}\" \\\n",
    "#                                \"{% if message['role'] == 'system' and ns.i == 0 %}\" \\\n",
    "#                                       \"{{ bos_token +' [INST] <<SYS>>\\n' }}\" \\\n",
    "#                                       \"{{ message['content'] + ' <</SYS>>\\n'}}\" \\\n",
    "#                                \"{% elif message['role'] == 'user' %}\" \\\n",
    "#                                    \"{{ message['content'] + ' [/INST]\\n'}}\" \\\n",
    "#                                \"<|reserved_special_token_22|>\\n\"\\\n",
    "#                                \"{% elif message['role'] == 'assistant' %}\" \\\n",
    "#                                    \"{{ message['content'] + ' ' + eos_token }}\" \\\n",
    "#                                \"{% endif %}\" \\\n",
    "#                                \"{% set ns.i = ns.i+1 %}\" \\\n",
    "#                            \"{% endfor %}\"\n",
    "#\n",
    "tokenizer.chat_template =  \"{% set ns = namespace(i=0) %}\" \\\n",
    "                            \"{% for message in messages %}\" \\\n",
    "                                \"{% if message['role'] == 'system' and ns.i == 0 %}\" \\\n",
    "                                       \"{{ bos_token +' [INST] <<SYS>>\\n' }}\" \\\n",
    "                                       \"{{ message['content'] + ' <</SYS>>\\n'}}\" \\\n",
    "                                \"{% elif message['role'] == 'user' %}\" \\\n",
    "                                    \"{{ message['content'] + ' [/INST]\\n'}}\" \\\n",
    "                                \"{% elif message['role'] == 'assistant' %}\" \\\n",
    "                                    \"{{ message['content'] + '' + eos_token }}\" \\\n",
    "                                \"{% endif %}\" \\\n",
    "                                \"{% set ns.i = ns.i+1 %}\" \\\n",
    "                            \"{% endfor %}\""
   ]
  },
  {
   "cell_type": "code",
   "execution_count": 40,
   "metadata": {},
   "outputs": [],
   "source": [
    "def get_prompt(row, is_train=True):\n",
    "    messages = [\n",
    "    {\"role\": \"system\", \"content\": f\"You're operating as a {domain} recommendation system. Your task involves receiving a user's list of liked and disliked items, based on that information, you need to return a ranked list of recommended items the user is most likely to enjoy\"},\n",
    "    {\"role\": \"user\", \"content\": row['user_prompt']}\n",
    "    ]\n",
    "    if is_train:\n",
    "        messages.append({\"role\": \"assistant\", \"content\": row['assistant_prompt']})\n",
    "    return tokenizer.apply_chat_template(messages, tokenize=False)\n",
    "\n",
    "\n",
    "\n",
    "mapping_dict_rev = {v:k for k, v in mapping_dict.items()}\n",
    "def get_prompt_train(row, is_train=True):\n",
    "    istaces_dict = []\n",
    "    if is_train:\n",
    "        for x in row['assistant_prompt'][:-1]:\n",
    "            messages = [\n",
    "            {\"role\": \"system\", \"content\": f\"You're operating as a {domain} recommendation system. Your task involves receiving a user's list of liked and disliked items, based on that information, you need to return a ranked list of recommended items the user is most likely to enjoy\"},\n",
    "            {\"role\": \"user\", \"content\": row['user_prompt']}\n",
    "            ]\n",
    "            messages.append({\"role\": \"assistant\", \"content\": x['text']})\n",
    "            target_text = []\n",
    "            targets = []\n",
    "            for liked_items in row['liked_resp']:\n",
    "                if liked_items not in x['text']:\n",
    "                    targets.append(str(itemToInt[mapping_dict_rev[liked_items]]))\n",
    "                    target_text.append(liked_items)\n",
    "            istaces_dict.append({'text': tokenizer.apply_chat_template(messages, tokenize=False), \"targets_text\": \";;\".join(target_text), 'target_id': \";;\".join(targets), 'target': x['target_text']})\n",
    "    for ist in istaces_dict[:-1]:\n",
    "        ist['text'] = ist['text'].replace('<|end_of_text|>', '')\n",
    "    return istaces_dict[:-1]"
   ]
  },
  {
   "cell_type": "code",
   "execution_count": 41,
   "metadata": {},
   "outputs": [],
   "source": [
    "train_group['prompt'] = train_group.apply(get_prompt_train, axis=1, is_train=True)\n",
    "test_group['prompt'] = test_group.apply(get_prompt, axis=1, is_train=False)"
   ]
  },
  {
   "cell_type": "code",
   "execution_count": 42,
   "metadata": {},
   "outputs": [
    {
     "data": {
      "text/plain": [
       "'Never Cry Wolf'"
      ]
     },
     "execution_count": 42,
     "metadata": {},
     "output_type": "execute_result"
    }
   ],
   "source": [
    "mapping_dict[13294]"
   ]
  },
  {
   "cell_type": "code",
   "execution_count": 43,
   "metadata": {},
   "outputs": [
    {
     "data": {
      "text/plain": [
       "3214"
      ]
     },
     "execution_count": 43,
     "metadata": {},
     "output_type": "execute_result"
    }
   ],
   "source": [
    "itemToInt[13294]"
   ]
  },
  {
   "cell_type": "code",
   "execution_count": 44,
   "metadata": {},
   "outputs": [
    {
     "name": "stdout",
     "output_type": "stream",
     "text": [
      "[{'text': \"<|begin_of_text|> [INST] <<SYS>>\\nYou're operating as a movie recommendation system. Your task involves receiving a user's list of liked and disliked items, based on that information, you need to return a ranked list of recommended items the user is most likely to enjoy <</SYS>>\\nI like the following items:\\nSixth Sense The, Being John Malkovich, Spaceballs, Shakespeare in Love, Amadeus\\nI dislike the following items:\\nHalloween, Fight Club, 10 Things I Hate About You, Breakfast Club The\\n\\nSugges me 12 items [/INST]\\nHere a list:\\n\", 'targets_text': 'Run Lola Run Lola rennt;;Pulp Fiction;;Children of Paradise Les enfants du paradis;;Sleepy Hollow;;Deer Hunter The;;Gladiator', 'target_id': '2175;;261;;2365;;2499;;994;;2897', 'target': '1. Run Lola Run Lola rennt <|reserved_special_token_0|>'}, {'text': \"<|begin_of_text|> [INST] <<SYS>>\\nYou're operating as a movie recommendation system. Your task involves receiving a user's list of liked and disliked items, based on that information, you need to return a ranked list of recommended items the user is most likely to enjoy <</SYS>>\\nI like the following items:\\nSixth Sense The, Being John Malkovich, Spaceballs, Shakespeare in Love, Amadeus\\nI dislike the following items:\\nHalloween, Fight Club, 10 Things I Hate About You, Breakfast Club The\\n\\nSugges me 12 items [/INST]\\nHere a list:\\n1. Run Lola Run Lola rennt <|reserved_special_token_0|>\", 'targets_text': 'Pulp Fiction;;Children of Paradise Les enfants du paradis;;Sleepy Hollow;;Deer Hunter The;;Gladiator', 'target_id': '261;;2365;;2499;;994;;2897', 'target': '2. Pulp Fiction <|reserved_special_token_0|>'}, {'text': \"<|begin_of_text|> [INST] <<SYS>>\\nYou're operating as a movie recommendation system. Your task involves receiving a user's list of liked and disliked items, based on that information, you need to return a ranked list of recommended items the user is most likely to enjoy <</SYS>>\\nI like the following items:\\nSixth Sense The, Being John Malkovich, Spaceballs, Shakespeare in Love, Amadeus\\nI dislike the following items:\\nHalloween, Fight Club, 10 Things I Hate About You, Breakfast Club The\\n\\nSugges me 12 items [/INST]\\nHere a list:\\n1. Run Lola Run Lola rennt <|reserved_special_token_0|>2. Pulp Fiction <|reserved_special_token_0|>\", 'targets_text': 'Children of Paradise Les enfants du paradis;;Sleepy Hollow;;Deer Hunter The;;Gladiator', 'target_id': '2365;;2499;;994;;2897', 'target': '3. Children of Paradise Les enfants du paradis <|reserved_special_token_0|>'}, {'text': \"<|begin_of_text|> [INST] <<SYS>>\\nYou're operating as a movie recommendation system. Your task involves receiving a user's list of liked and disliked items, based on that information, you need to return a ranked list of recommended items the user is most likely to enjoy <</SYS>>\\nI like the following items:\\nSixth Sense The, Being John Malkovich, Spaceballs, Shakespeare in Love, Amadeus\\nI dislike the following items:\\nHalloween, Fight Club, 10 Things I Hate About You, Breakfast Club The\\n\\nSugges me 12 items [/INST]\\nHere a list:\\n1. Run Lola Run Lola rennt <|reserved_special_token_0|>2. Pulp Fiction <|reserved_special_token_0|>3. Children of Paradise Les enfants du paradis <|reserved_special_token_0|>\", 'targets_text': 'Sleepy Hollow;;Deer Hunter The;;Gladiator', 'target_id': '2499;;994;;2897', 'target': '4. Sleepy Hollow <|reserved_special_token_0|>'}, {'text': \"<|begin_of_text|> [INST] <<SYS>>\\nYou're operating as a movie recommendation system. Your task involves receiving a user's list of liked and disliked items, based on that information, you need to return a ranked list of recommended items the user is most likely to enjoy <</SYS>>\\nI like the following items:\\nSixth Sense The, Being John Malkovich, Spaceballs, Shakespeare in Love, Amadeus\\nI dislike the following items:\\nHalloween, Fight Club, 10 Things I Hate About You, Breakfast Club The\\n\\nSugges me 12 items [/INST]\\nHere a list:\\n1. Run Lola Run Lola rennt <|reserved_special_token_0|>2. Pulp Fiction <|reserved_special_token_0|>3. Children of Paradise Les enfants du paradis <|reserved_special_token_0|>4. Sleepy Hollow <|reserved_special_token_0|>\", 'targets_text': 'Deer Hunter The;;Gladiator', 'target_id': '994;;2897', 'target': '5. Deer Hunter The <|reserved_special_token_0|>'}]\n"
     ]
    }
   ],
   "source": [
    "print(train_group['prompt'][10])"
   ]
  },
  {
   "cell_type": "code",
   "execution_count": 45,
   "metadata": {},
   "outputs": [
    {
     "data": {
      "text/plain": [
       "[128000,\n",
       " 128000,\n",
       " 510,\n",
       " 65562,\n",
       " 60,\n",
       " 1134,\n",
       " 39031,\n",
       " 40171,\n",
       " 2675,\n",
       " 2351,\n",
       " 10565,\n",
       " 439,\n",
       " 264,\n",
       " 5818,\n",
       " 28782,\n",
       " 1887,\n",
       " 13,\n",
       " 4718,\n",
       " 3465,\n",
       " 18065,\n",
       " 12588,\n",
       " 264,\n",
       " 1217,\n",
       " 596,\n",
       " 1160,\n",
       " 315,\n",
       " 15262,\n",
       " 323,\n",
       " 99733,\n",
       " 3673,\n",
       " 11,\n",
       " 3196,\n",
       " 389,\n",
       " 430,\n",
       " 2038,\n",
       " 11,\n",
       " 499,\n",
       " 1205,\n",
       " 311,\n",
       " 471,\n",
       " 264,\n",
       " 21682,\n",
       " 1160,\n",
       " 315,\n",
       " 11349,\n",
       " 3673,\n",
       " 279,\n",
       " 1217,\n",
       " 374,\n",
       " 1455,\n",
       " 4461,\n",
       " 311,\n",
       " 4774,\n",
       " 366,\n",
       " 524,\n",
       " 39031,\n",
       " 40171,\n",
       " 40,\n",
       " 1093,\n",
       " 279,\n",
       " 2768,\n",
       " 3673,\n",
       " 512,\n",
       " 35,\n",
       " 49709,\n",
       " 11,\n",
       " 6898,\n",
       " 89,\n",
       " 11,\n",
       " 5124,\n",
       " 485,\n",
       " 1565,\n",
       " 274,\n",
       " 1796,\n",
       " 11,\n",
       " 10455,\n",
       " 393,\n",
       " 80496,\n",
       " 11,\n",
       " 68077,\n",
       " 47329,\n",
       " 578,\n",
       " 11,\n",
       " 22331,\n",
       " 15457,\n",
       " 220,\n",
       " 17,\n",
       " 11,\n",
       " 8155,\n",
       " 21882,\n",
       " 315,\n",
       " 94729,\n",
       " 578,\n",
       " 11,\n",
       " 77064,\n",
       " 389,\n",
       " 220,\n",
       " 1958,\n",
       " 339,\n",
       " 6825,\n",
       " 11,\n",
       " 49538,\n",
       " 9877,\n",
       " 13960,\n",
       " 11,\n",
       " 31601,\n",
       " 274,\n",
       " 9601,\n",
       " 362,\n",
       " 11,\n",
       " 19435,\n",
       " 5929,\n",
       " 323,\n",
       " 279,\n",
       " 31048,\n",
       " 423,\n",
       " 11710,\n",
       " 3933,\n",
       " 11,\n",
       " 393,\n",
       " 511,\n",
       " 1494,\n",
       " 546,\n",
       " 300,\n",
       " 11,\n",
       " 31685,\n",
       " 323,\n",
       " 279,\n",
       " 34282,\n",
       " 11,\n",
       " 6690,\n",
       " 19563,\n",
       " 11,\n",
       " 426,\n",
       " 89502,\n",
       " 11,\n",
       " 11617,\n",
       " 22933,\n",
       " 291,\n",
       " 11,\n",
       " 89862,\n",
       " 11,\n",
       " 6588,\n",
       " 97457,\n",
       " 6588,\n",
       " 97457,\n",
       " 5790,\n",
       " 406,\n",
       " 11,\n",
       " 480,\n",
       " 30637,\n",
       " 11,\n",
       " 469,\n",
       " 350,\n",
       " 279,\n",
       " 26041,\n",
       " 10335,\n",
       " 53686,\n",
       " 198,\n",
       " 40,\n",
       " 48969,\n",
       " 279,\n",
       " 2768,\n",
       " 3673,\n",
       " 512,\n",
       " 29184,\n",
       " 323,\n",
       " 279,\n",
       " 41841,\n",
       " 64695,\n",
       " 11,\n",
       " 24912,\n",
       " 50226,\n",
       " 11,\n",
       " 30389,\n",
       " 78160,\n",
       " 578,\n",
       " 271,\n",
       " 50,\n",
       " 2661,\n",
       " 288,\n",
       " 757,\n",
       " 220,\n",
       " 1187,\n",
       " 3673,\n",
       " 66028,\n",
       " 65562,\n",
       " 933,\n",
       " 8586,\n",
       " 264,\n",
       " 1160,\n",
       " 512]"
      ]
     },
     "execution_count": 45,
     "metadata": {},
     "output_type": "execute_result"
    }
   ],
   "source": [
    "tokenizer(train_group['prompt'][0][0]['text'])['input_ids']"
   ]
  },
  {
   "cell_type": "code",
   "execution_count": 46,
   "metadata": {},
   "outputs": [
    {
     "name": "stdout",
     "output_type": "stream",
     "text": [
      "<|begin_of_text|> [INST] <<SYS>>\n",
      "You're operating as a movie recommendation system. Your task involves receiving a user's list of liked and disliked items, based on that information, you need to return a ranked list of recommended items the user is most likely to enjoy <</SYS>>\n",
      "I like the following items:\n",
      "Gone in 60 Seconds, Tequila Sunrise, To Gillian on Her 37th Birthday, Erin Brockovich, Legends of the Fall, Shanghai Noon, Pocahontas, Mary Poppins, Aladdin, Hercules, My Best Friend s Wedding, Top Gun, Straight Story The, Shakespeare in Love, Where the Heart Is, Murphy s Romance, Gladiator, Babe, Grease, Mask of Zorro The, Moonstruck, Umbrellas of Cherbourg The Parapluies de Cherbourg Les, Beauty and the Beast\n",
      "I dislike the following items:\n",
      "Pulp Fiction, Speed, Arthur, Peggy Sue Got Married, Dances with Wolves, Other Sister The, Splash, Apple Dumpling Gang The\n",
      "\n",
      "Sugges me 100 items [/INST]\n",
      "\n"
     ]
    }
   ],
   "source": [
    "print(test_group['prompt'][0])"
   ]
  },
  {
   "cell_type": "code",
   "execution_count": 47,
   "metadata": {},
   "outputs": [
    {
     "data": {
      "text/html": [
       "<div>\n",
       "<style scoped>\n",
       "    .dataframe tbody tr th:only-of-type {\n",
       "        vertical-align: middle;\n",
       "    }\n",
       "\n",
       "    .dataframe tbody tr th {\n",
       "        vertical-align: top;\n",
       "    }\n",
       "\n",
       "    .dataframe thead th {\n",
       "        text-align: right;\n",
       "    }\n",
       "</style>\n",
       "<table border=\"1\" class=\"dataframe\">\n",
       "  <thead>\n",
       "    <tr style=\"text-align: right;\">\n",
       "      <th></th>\n",
       "      <th>user</th>\n",
       "      <th>item</th>\n",
       "      <th>rating</th>\n",
       "      <th>len</th>\n",
       "      <th>index_like_prompt</th>\n",
       "      <th>index_like_resp</th>\n",
       "      <th>index_dislike_prompt</th>\n",
       "      <th>index_dislike_resp</th>\n",
       "      <th>liked_prompt</th>\n",
       "      <th>liked_resp</th>\n",
       "      <th>disliked_prompt</th>\n",
       "      <th>disliked_resp</th>\n",
       "      <th>user_prompt</th>\n",
       "      <th>assistant_prompt</th>\n",
       "      <th>prompt</th>\n",
       "    </tr>\n",
       "  </thead>\n",
       "  <tbody>\n",
       "    <tr>\n",
       "      <th>0</th>\n",
       "      <td>0</td>\n",
       "      <td>[8213, 6267, 6857, 6858, 6916, 7258, 8270, 686...</td>\n",
       "      <td>[1, 1, 1, 1, 1, 1, 1, 1, 1, 1, 1, 0, 1, 0, 0, ...</td>\n",
       "      <td>49</td>\n",
       "      <td>[0, 2, 3, 4, 6, 9, 15, 19, 23, 29, 30, 31, 32,...</td>\n",
       "      <td>[1, 5, 7, 8, 10, 12, 16, 17, 18, 20, 21, 22, 2...</td>\n",
       "      <td>[48, 42, 47]</td>\n",
       "      <td>[11, 13, 14, 24, 28]</td>\n",
       "      <td>[Run Lola Run Lola rennt, Mary Poppins, Dumbo,...</td>\n",
       "      <td>[Ponette, Sound of Music The, Aladdin, Hunchba...</td>\n",
       "      <td>[Tarzan, James and the Giant Peach, Princess B...</td>\n",
       "      <td>[Wallace Gromit The Best of Aardman Animation,...</td>\n",
       "      <td>I like the following items:\\nDumbo, Antz, Schi...</td>\n",
       "      <td>[{'text': 'Here a list:\n",
       "', 'target': 232, 'tar...</td>\n",
       "      <td>[{'text': '&lt;|begin_of_text|&gt; [INST] &lt;&lt;SYS&gt;&gt;\n",
       "Yo...</td>\n",
       "    </tr>\n",
       "    <tr>\n",
       "      <th>1</th>\n",
       "      <td>1</td>\n",
       "      <td>[6493, 8733, 7257, 7887, 7444, 8122, 7061, 789...</td>\n",
       "      <td>[1, 1, 1, 0, 0, 1, 1, 0, 1, 0, 1, 0, 0, 1, 1, ...</td>\n",
       "      <td>122</td>\n",
       "      <td>[0, 2, 6, 10, 14, 15, 20, 28, 31, 37, 42, 46, ...</td>\n",
       "      <td>[1, 5, 8, 13, 25, 26, 30, 34, 36, 38, 40, 44, ...</td>\n",
       "      <td>[66, 3, 67, 70, 7, 71, 73, 74, 11, 19, 21, 85,...</td>\n",
       "      <td>[4, 9, 12, 16, 17, 18, 22, 27, 29, 32, 33, 39,...</td>\n",
       "      <td>[Remains of the Day The, Lost World Jurassic P...</td>\n",
       "      <td>[Key Largo, Matrix The, Doctor Zhivago, Green ...</td>\n",
       "      <td>[Breakfast Club The, Children of a Lesser God,...</td>\n",
       "      <td>[Man in the Iron Mask The, Get Shorty, Fisher ...</td>\n",
       "      <td>I like the following items:\\nGandhi, Strictly ...</td>\n",
       "      <td>[{'text': 'Here a list:\n",
       "', 'target': 2694, 'ta...</td>\n",
       "      <td>[{'text': '&lt;|begin_of_text|&gt; [INST] &lt;&lt;SYS&gt;&gt;\n",
       "Yo...</td>\n",
       "    </tr>\n",
       "  </tbody>\n",
       "</table>\n",
       "</div>"
      ],
      "text/plain": [
       "   user                                               item  \\\n",
       "0     0  [8213, 6267, 6857, 6858, 6916, 7258, 8270, 686...   \n",
       "1     1  [6493, 8733, 7257, 7887, 7444, 8122, 7061, 789...   \n",
       "\n",
       "                                              rating  len  \\\n",
       "0  [1, 1, 1, 1, 1, 1, 1, 1, 1, 1, 1, 0, 1, 0, 0, ...   49   \n",
       "1  [1, 1, 1, 0, 0, 1, 1, 0, 1, 0, 1, 0, 0, 1, 1, ...  122   \n",
       "\n",
       "                                   index_like_prompt  \\\n",
       "0  [0, 2, 3, 4, 6, 9, 15, 19, 23, 29, 30, 31, 32,...   \n",
       "1  [0, 2, 6, 10, 14, 15, 20, 28, 31, 37, 42, 46, ...   \n",
       "\n",
       "                                     index_like_resp  \\\n",
       "0  [1, 5, 7, 8, 10, 12, 16, 17, 18, 20, 21, 22, 2...   \n",
       "1  [1, 5, 8, 13, 25, 26, 30, 34, 36, 38, 40, 44, ...   \n",
       "\n",
       "                                index_dislike_prompt  \\\n",
       "0                                       [48, 42, 47]   \n",
       "1  [66, 3, 67, 70, 7, 71, 73, 74, 11, 19, 21, 85,...   \n",
       "\n",
       "                                  index_dislike_resp  \\\n",
       "0                               [11, 13, 14, 24, 28]   \n",
       "1  [4, 9, 12, 16, 17, 18, 22, 27, 29, 32, 33, 39,...   \n",
       "\n",
       "                                        liked_prompt  \\\n",
       "0  [Run Lola Run Lola rennt, Mary Poppins, Dumbo,...   \n",
       "1  [Remains of the Day The, Lost World Jurassic P...   \n",
       "\n",
       "                                          liked_resp  \\\n",
       "0  [Ponette, Sound of Music The, Aladdin, Hunchba...   \n",
       "1  [Key Largo, Matrix The, Doctor Zhivago, Green ...   \n",
       "\n",
       "                                     disliked_prompt  \\\n",
       "0  [Tarzan, James and the Giant Peach, Princess B...   \n",
       "1  [Breakfast Club The, Children of a Lesser God,...   \n",
       "\n",
       "                                       disliked_resp  \\\n",
       "0  [Wallace Gromit The Best of Aardman Animation,...   \n",
       "1  [Man in the Iron Mask The, Get Shorty, Fisher ...   \n",
       "\n",
       "                                         user_prompt  \\\n",
       "0  I like the following items:\\nDumbo, Antz, Schi...   \n",
       "1  I like the following items:\\nGandhi, Strictly ...   \n",
       "\n",
       "                                    assistant_prompt  \\\n",
       "0  [{'text': 'Here a list:\n",
       "', 'target': 232, 'tar...   \n",
       "1  [{'text': 'Here a list:\n",
       "', 'target': 2694, 'ta...   \n",
       "\n",
       "                                              prompt  \n",
       "0  [{'text': '<|begin_of_text|> [INST] <<SYS>>\n",
       "Yo...  \n",
       "1  [{'text': '<|begin_of_text|> [INST] <<SYS>>\n",
       "Yo...  "
      ]
     },
     "execution_count": 47,
     "metadata": {},
     "output_type": "execute_result"
    }
   ],
   "source": [
    "train_group.head(2)"
   ]
  },
  {
   "cell_type": "code",
   "execution_count": 48,
   "metadata": {},
   "outputs": [],
   "source": [
    "def get_description_liked(row):\n",
    "    liked_item_index = row['index_like_resp']\n",
    "    likex_items = np.array(row['item'])[liked_item_index]\n",
    "    return '\\n'.join([item_desc_dict.get(y, '') for y in likex_items])"
   ]
  },
  {
   "cell_type": "code",
   "execution_count": 49,
   "metadata": {},
   "outputs": [],
   "source": [
    "train_group['descriptions'] = train_group['item'].apply(lambda x: [item_desc_dict.get(y, '') for y in x if len(item_desc_dict.get(y, ''))>2])\n",
    "#train_group['descriptions'] = train_group.apply(get_description_liked, axis=1)"
   ]
  },
  {
   "cell_type": "code",
   "execution_count": 50,
   "metadata": {},
   "outputs": [
    {
     "data": {
      "text/html": [
       "<div>\n",
       "<style scoped>\n",
       "    .dataframe tbody tr th:only-of-type {\n",
       "        vertical-align: middle;\n",
       "    }\n",
       "\n",
       "    .dataframe tbody tr th {\n",
       "        vertical-align: top;\n",
       "    }\n",
       "\n",
       "    .dataframe thead th {\n",
       "        text-align: right;\n",
       "    }\n",
       "</style>\n",
       "<table border=\"1\" class=\"dataframe\">\n",
       "  <thead>\n",
       "    <tr style=\"text-align: right;\">\n",
       "      <th></th>\n",
       "      <th>user</th>\n",
       "      <th>item</th>\n",
       "      <th>rating</th>\n",
       "      <th>len</th>\n",
       "      <th>index_like_prompt</th>\n",
       "      <th>index_like_resp</th>\n",
       "      <th>index_dislike_prompt</th>\n",
       "      <th>index_dislike_resp</th>\n",
       "      <th>liked_prompt</th>\n",
       "      <th>liked_resp</th>\n",
       "      <th>disliked_prompt</th>\n",
       "      <th>disliked_resp</th>\n",
       "      <th>user_prompt</th>\n",
       "      <th>assistant_prompt</th>\n",
       "      <th>prompt</th>\n",
       "      <th>descriptions</th>\n",
       "    </tr>\n",
       "  </thead>\n",
       "  <tbody>\n",
       "    <tr>\n",
       "      <th>0</th>\n",
       "      <td>0</td>\n",
       "      <td>[8213, 6267, 6857, 6858, 6916, 7258, 8270, 686...</td>\n",
       "      <td>[1, 1, 1, 1, 1, 1, 1, 1, 1, 1, 1, 0, 1, 0, 0, ...</td>\n",
       "      <td>49</td>\n",
       "      <td>[0, 2, 3, 4, 6, 9, 15, 19, 23, 29, 30, 31, 32,...</td>\n",
       "      <td>[1, 5, 7, 8, 10, 12, 16, 17, 18, 20, 21, 22, 2...</td>\n",
       "      <td>[48, 42, 47]</td>\n",
       "      <td>[11, 13, 14, 24, 28]</td>\n",
       "      <td>[Run Lola Run Lola rennt, Mary Poppins, Dumbo,...</td>\n",
       "      <td>[Ponette, Sound of Music The, Aladdin, Hunchba...</td>\n",
       "      <td>[Tarzan, James and the Giant Peach, Princess B...</td>\n",
       "      <td>[Wallace Gromit The Best of Aardman Animation,...</td>\n",
       "      <td>I like the following items:\\nDumbo, Antz, Schi...</td>\n",
       "      <td>[{'text': 'Here a list:\n",
       "', 'target': 232, 'tar...</td>\n",
       "      <td>[{'text': '&lt;|begin_of_text|&gt; [INST] &lt;&lt;SYS&gt;&gt;\n",
       "Yo...</td>\n",
       "      <td>[]</td>\n",
       "    </tr>\n",
       "    <tr>\n",
       "      <th>1</th>\n",
       "      <td>1</td>\n",
       "      <td>[6493, 8733, 7257, 7887, 7444, 8122, 7061, 789...</td>\n",
       "      <td>[1, 1, 1, 0, 0, 1, 1, 0, 1, 0, 1, 0, 0, 1, 1, ...</td>\n",
       "      <td>122</td>\n",
       "      <td>[0, 2, 6, 10, 14, 15, 20, 28, 31, 37, 42, 46, ...</td>\n",
       "      <td>[1, 5, 8, 13, 25, 26, 30, 34, 36, 38, 40, 44, ...</td>\n",
       "      <td>[66, 3, 67, 70, 7, 71, 73, 74, 11, 19, 21, 85,...</td>\n",
       "      <td>[4, 9, 12, 16, 17, 18, 22, 27, 29, 32, 33, 39,...</td>\n",
       "      <td>[Remains of the Day The, Lost World Jurassic P...</td>\n",
       "      <td>[Key Largo, Matrix The, Doctor Zhivago, Green ...</td>\n",
       "      <td>[Breakfast Club The, Children of a Lesser God,...</td>\n",
       "      <td>[Man in the Iron Mask The, Get Shorty, Fisher ...</td>\n",
       "      <td>I like the following items:\\nGandhi, Strictly ...</td>\n",
       "      <td>[{'text': 'Here a list:\n",
       "', 'target': 2694, 'ta...</td>\n",
       "      <td>[{'text': '&lt;|begin_of_text|&gt; [INST] &lt;&lt;SYS&gt;&gt;\n",
       "Yo...</td>\n",
       "      <td>[]</td>\n",
       "    </tr>\n",
       "  </tbody>\n",
       "</table>\n",
       "</div>"
      ],
      "text/plain": [
       "   user                                               item  \\\n",
       "0     0  [8213, 6267, 6857, 6858, 6916, 7258, 8270, 686...   \n",
       "1     1  [6493, 8733, 7257, 7887, 7444, 8122, 7061, 789...   \n",
       "\n",
       "                                              rating  len  \\\n",
       "0  [1, 1, 1, 1, 1, 1, 1, 1, 1, 1, 1, 0, 1, 0, 0, ...   49   \n",
       "1  [1, 1, 1, 0, 0, 1, 1, 0, 1, 0, 1, 0, 0, 1, 1, ...  122   \n",
       "\n",
       "                                   index_like_prompt  \\\n",
       "0  [0, 2, 3, 4, 6, 9, 15, 19, 23, 29, 30, 31, 32,...   \n",
       "1  [0, 2, 6, 10, 14, 15, 20, 28, 31, 37, 42, 46, ...   \n",
       "\n",
       "                                     index_like_resp  \\\n",
       "0  [1, 5, 7, 8, 10, 12, 16, 17, 18, 20, 21, 22, 2...   \n",
       "1  [1, 5, 8, 13, 25, 26, 30, 34, 36, 38, 40, 44, ...   \n",
       "\n",
       "                                index_dislike_prompt  \\\n",
       "0                                       [48, 42, 47]   \n",
       "1  [66, 3, 67, 70, 7, 71, 73, 74, 11, 19, 21, 85,...   \n",
       "\n",
       "                                  index_dislike_resp  \\\n",
       "0                               [11, 13, 14, 24, 28]   \n",
       "1  [4, 9, 12, 16, 17, 18, 22, 27, 29, 32, 33, 39,...   \n",
       "\n",
       "                                        liked_prompt  \\\n",
       "0  [Run Lola Run Lola rennt, Mary Poppins, Dumbo,...   \n",
       "1  [Remains of the Day The, Lost World Jurassic P...   \n",
       "\n",
       "                                          liked_resp  \\\n",
       "0  [Ponette, Sound of Music The, Aladdin, Hunchba...   \n",
       "1  [Key Largo, Matrix The, Doctor Zhivago, Green ...   \n",
       "\n",
       "                                     disliked_prompt  \\\n",
       "0  [Tarzan, James and the Giant Peach, Princess B...   \n",
       "1  [Breakfast Club The, Children of a Lesser God,...   \n",
       "\n",
       "                                       disliked_resp  \\\n",
       "0  [Wallace Gromit The Best of Aardman Animation,...   \n",
       "1  [Man in the Iron Mask The, Get Shorty, Fisher ...   \n",
       "\n",
       "                                         user_prompt  \\\n",
       "0  I like the following items:\\nDumbo, Antz, Schi...   \n",
       "1  I like the following items:\\nGandhi, Strictly ...   \n",
       "\n",
       "                                    assistant_prompt  \\\n",
       "0  [{'text': 'Here a list:\n",
       "', 'target': 232, 'tar...   \n",
       "1  [{'text': 'Here a list:\n",
       "', 'target': 2694, 'ta...   \n",
       "\n",
       "                                              prompt descriptions  \n",
       "0  [{'text': '<|begin_of_text|> [INST] <<SYS>>\n",
       "Yo...           []  \n",
       "1  [{'text': '<|begin_of_text|> [INST] <<SYS>>\n",
       "Yo...           []  "
      ]
     },
     "execution_count": 50,
     "metadata": {},
     "output_type": "execute_result"
    }
   ],
   "source": [
    "train_group.head(2)"
   ]
  },
  {
   "cell_type": "code",
   "execution_count": 51,
   "metadata": {},
   "outputs": [],
   "source": [
    "train_group.to_pickle(os.path.join(datapath, f'{dataset}_train_dataset_all_items.pkl'))\n",
    "test_group.to_pickle(os.path.join(datapath, f'{dataset}_test_dataset_all_items.pkl'))"
   ]
  },
  {
   "cell_type": "code",
   "execution_count": 52,
   "metadata": {},
   "outputs": [],
   "source": [
    "prompts = train_group['prompt'].tolist() * 3"
   ]
  },
  {
   "cell_type": "code",
   "execution_count": 53,
   "metadata": {},
   "outputs": [],
   "source": [
    "descriptions = list(item_desc_dict.values())"
   ]
  },
  {
   "cell_type": "code",
   "execution_count": 54,
   "metadata": {},
   "outputs": [],
   "source": [
    "descriptions = [f'{tokenizer.bos_token} ' + x + f' {tokenizer.eos_token}' for x in descriptions]"
   ]
  },
  {
   "cell_type": "code",
   "execution_count": 55,
   "metadata": {},
   "outputs": [],
   "source": [
    "import random \n",
    "\n",
    "random.seed(22)\n",
    "train_set = prompts + descriptions\n",
    "\n",
    "random.shuffle(train_set)"
   ]
  },
  {
   "cell_type": "code",
   "execution_count": 56,
   "metadata": {},
   "outputs": [
    {
     "data": {
      "text/plain": [
       "17555"
      ]
     },
     "execution_count": 56,
     "metadata": {},
     "output_type": "execute_result"
    }
   ],
   "source": [
    "len(train_set)"
   ]
  },
  {
   "cell_type": "code",
   "execution_count": 57,
   "metadata": {},
   "outputs": [
    {
     "data": {
      "text/plain": [
       "20"
      ]
     },
     "execution_count": 57,
     "metadata": {},
     "output_type": "execute_result"
    }
   ],
   "source": [
    "len(list(itertools.chain(*train_group['prompt'].tolist()))[:20])"
   ]
  },
  {
   "cell_type": "code",
   "execution_count": 59,
   "metadata": {},
   "outputs": [],
   "source": [
    "import json\n",
    "\n",
    "with open(os.path.join(datapath, f'{dataset}_train_set_no_kn_all_items_special_target_temp.jsonl'), 'w') as outfile:\n",
    "    for x in list(itertools.chain(*train_group['prompt'].tolist()))[:20]:\n",
    "        json.dump(x, outfile)\n",
    "        outfile.write('\\n')"
   ]
  },
  {
   "cell_type": "code",
   "execution_count": 50,
   "metadata": {},
   "outputs": [],
   "source": [
    "import json\n",
    "\n",
    "with open(os.path.join(datapath, f'{dataset}_train_set_all_items.jsonl'), 'w') as outfile:\n",
    "    for x in train_set:\n",
    "        json.dump({'text':x}, outfile)\n",
    "        outfile.write('\\n')"
   ]
  },
  {
   "cell_type": "code",
   "execution_count": 51,
   "metadata": {},
   "outputs": [],
   "source": [
    "prompts = test_group['prompt'].tolist()"
   ]
  },
  {
   "cell_type": "code",
   "execution_count": 52,
   "metadata": {},
   "outputs": [],
   "source": [
    "import json\n",
    "\n",
    "with open(os.path.join(datapath, f'{dataset}_test_set_all_items.jsonl'), 'w') as outfile:\n",
    "    for x in prompts:\n",
    "        json.dump({'text':x}, outfile)\n",
    "        outfile.write('\\n')"
   ]
  },
  {
   "cell_type": "markdown",
   "metadata": {},
   "source": [
    "# Baseline"
   ]
  },
  {
   "cell_type": "code",
   "execution_count": 53,
   "metadata": {},
   "outputs": [
    {
     "data": {
      "text/plain": [
       "\"train_bs = pd.concat([test_group.loc[:, ['user', 'index_like_prompt', 'index_dislike_prompt', 'item']],                      train_group.loc[:, ['user', 'index_like_prompt', 'index_dislike_prompt', 'item']]])\\ntest_bs = test_group.loc[:, ['user', 'index_like_resp', 'index_dislike_resp', 'item']]\""
      ]
     },
     "execution_count": 53,
     "metadata": {},
     "output_type": "execute_result"
    }
   ],
   "source": [
    "\"\"\"train_bs = pd.concat([test_group.loc[:, ['user', 'index_like_prompt', 'index_dislike_prompt', 'item']],\\\n",
    "                      train_group.loc[:, ['user', 'index_like_prompt', 'index_dislike_prompt', 'item']]])\n",
    "test_bs = test_group.loc[:, ['user', 'index_like_resp', 'index_dislike_resp', 'item']]\"\"\""
   ]
  },
  {
   "cell_type": "code",
   "execution_count": 54,
   "metadata": {},
   "outputs": [
    {
     "data": {
      "text/plain": [
       "\"train_bs['bs_format'] = train_bs.apply(lambda x:[{'user_id:token': x['user'], 'item_id:token': x['item'][item], 'rating:float': 1} for item in x['index_like_prompt']], axis=1)\\ntrain_bs['bs_format'] = train_bs['bs_format'] + train_bs.apply(lambda x:[{'user_id:token': x['user'], 'item_id:token': x['item'][item], 'rating:float': 0} for item in x['index_dislike_prompt']], axis=1)\\n\\ntest_bs['bs_format'] = test_bs.apply(lambda x:[{'user_id:token': x['user'], 'item_id:token': x['item'][item], 'rating:float': 1} for item in x['index_like_resp']], axis=1)\\ntest_bs['bs_format'] = test_bs['bs_format'] + test_bs.apply(lambda x:[{'user_id:token': x['user'], 'item_id:token': x['item'][item], 'rating:float': 0} for item in x['index_dislike_resp']], axis=1)\""
      ]
     },
     "execution_count": 54,
     "metadata": {},
     "output_type": "execute_result"
    }
   ],
   "source": [
    "\"\"\"train_bs['bs_format'] = train_bs.apply(lambda x:[{'user_id:token': x['user'], 'item_id:token': x['item'][item], 'rating:float': 1} for item in x['index_like_prompt']], axis=1)\n",
    "train_bs['bs_format'] = train_bs['bs_format'] + train_bs.apply(lambda x:[{'user_id:token': x['user'], 'item_id:token': x['item'][item], 'rating:float': 0} for item in x['index_dislike_prompt']], axis=1)\n",
    "\n",
    "test_bs['bs_format'] = test_bs.apply(lambda x:[{'user_id:token': x['user'], 'item_id:token': x['item'][item], 'rating:float': 1} for item in x['index_like_resp']], axis=1)\n",
    "test_bs['bs_format'] = test_bs['bs_format'] + test_bs.apply(lambda x:[{'user_id:token': x['user'], 'item_id:token': x['item'][item], 'rating:float': 0} for item in x['index_dislike_resp']], axis=1)\"\"\""
   ]
  },
  {
   "cell_type": "code",
   "execution_count": 55,
   "metadata": {},
   "outputs": [
    {
     "data": {
      "text/plain": [
       "\"import itertools\\n\\nos.makedirs(os.path.join(datapath, 'baseline'), exist_ok=True)\\npd.DataFrame(list(itertools.chain(*test_bs['bs_format'].tolist()))).to_csv(os.path.join(datapath, 'baseline', f'{dataset}.part3.inter'), sep='\\t', index=False)\\npd.DataFrame(list(itertools.chain(*train_bs['bs_format'].tolist()))).to_csv(os.path.join(datapath, 'baseline', f'{dataset}.part1.inter'), sep='\\t', index=False)\""
      ]
     },
     "execution_count": 55,
     "metadata": {},
     "output_type": "execute_result"
    }
   ],
   "source": [
    "\"\"\"import itertools\n",
    "\n",
    "os.makedirs(os.path.join(datapath, 'baseline'), exist_ok=True)\n",
    "pd.DataFrame(list(itertools.chain(*test_bs['bs_format'].tolist()))).to_csv(os.path.join(datapath, 'baseline', f'{dataset}.part3.inter'), sep='\\t', index=False)\n",
    "pd.DataFrame(list(itertools.chain(*train_bs['bs_format'].tolist()))).to_csv(os.path.join(datapath, 'baseline', f'{dataset}.part1.inter'), sep='\\t', index=False)\"\"\""
   ]
  }
 ],
 "metadata": {
  "kernelspec": {
   "display_name": "transformerVenv",
   "language": "python",
   "name": "python3"
  },
  "language_info": {
   "codemirror_mode": {
    "name": "ipython",
    "version": 3
   },
   "file_extension": ".py",
   "mimetype": "text/x-python",
   "name": "python",
   "nbconvert_exporter": "python",
   "pygments_lexer": "ipython3",
   "version": "3.10.0"
  }
 },
 "nbformat": 4,
 "nbformat_minor": 2
}
