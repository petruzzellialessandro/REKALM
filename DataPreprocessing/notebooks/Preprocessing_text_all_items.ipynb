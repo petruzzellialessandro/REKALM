{
 "cells": [
  {
   "cell_type": "code",
   "execution_count": 1,
   "metadata": {},
   "outputs": [],
   "source": [
    "dataset = 'movielens'\n",
    "\n",
    "domain = {\n",
    "    'lastfm': 'music',\n",
    "    'dbbook': 'book',\n",
    "    'movielens': 'movie'\n",
    "}[dataset]\n",
    "import os\n",
    "datapath = os.path.join('..', 'data', dataset)\n",
    "\n",
    "special_token = '<|reserved_special_token_22|>'\n",
    "k_prompt = 100\n",
    "resp_frac = 0.5"
   ]
  },
  {
   "cell_type": "markdown",
   "metadata": {},
   "source": [
    "# Set names"
   ]
  },
  {
   "cell_type": "code",
   "execution_count": 2,
   "metadata": {},
   "outputs": [],
   "source": [
    "import pandas as pd\n",
    "import os\n",
    "import random\n",
    "import numpy as np\n",
    "import swifter  "
   ]
  },
  {
   "cell_type": "code",
   "execution_count": 3,
   "metadata": {},
   "outputs": [],
   "source": [
    "user_item_df_train = pd.read_csv(os.path.join(datapath, 'user-item', 'train.tsv'), \\\n",
    "            names=['user', 'item', 'rating'], sep='\\t')\n",
    "\n",
    "user_item_df_test = pd.read_csv(os.path.join(datapath, 'user-item', 'test.tsv'), \\\n",
    "            names=['user', 'item', 'rating'], sep='\\t')\n",
    "\n",
    "\n",
    "df = pd.concat([user_item_df_train, user_item_df_test], ignore_index=True)\n",
    "all_items = df['item'].unique()"
   ]
  },
  {
   "cell_type": "code",
   "execution_count": 4,
   "metadata": {},
   "outputs": [],
   "source": [
    "def get_split_random(list_to_split, frac=0.2, margin=0):\n",
    "    random.seed(22)\n",
    "    sample_list = random.sample(list_to_split, int(frac*len(list_to_split))+margin)\n",
    "    complementary_set = set(list_to_split) - set(sample_list)\n",
    "    return list(set(complementary_set)), list(set(sample_list))"
   ]
  },
  {
   "cell_type": "code",
   "execution_count": 5,
   "metadata": {},
   "outputs": [],
   "source": [
    "random.seed(22)\n",
    "test_frac = 0.2\n",
    "user_list = df['user'].unique().tolist()\n",
    "user_train, user_test = get_split_random(user_list, frac=test_frac, margin=0)"
   ]
  },
  {
   "cell_type": "code",
   "execution_count": 6,
   "metadata": {},
   "outputs": [],
   "source": [
    "user_item_df_train = df[df['user'].isin(user_train)]\n",
    "user_item_df_test = df[df['user'].isin(user_test)]"
   ]
  },
  {
   "cell_type": "code",
   "execution_count": 7,
   "metadata": {},
   "outputs": [
    {
     "data": {
      "text/plain": [
       "4829"
      ]
     },
     "execution_count": 7,
     "metadata": {},
     "output_type": "execute_result"
    }
   ],
   "source": [
    "len(set(user_item_df_train['user'].unique()) - set(user_item_df_test['user'].unique()))"
   ]
  },
  {
   "cell_type": "code",
   "execution_count": 8,
   "metadata": {},
   "outputs": [
    {
     "data": {
      "text/plain": [
       "count    181586.000000\n",
       "mean          0.574697\n",
       "std           0.494390\n",
       "min           0.000000\n",
       "25%           0.000000\n",
       "50%           1.000000\n",
       "75%           1.000000\n",
       "max           1.000000\n",
       "Name: rating, dtype: float64"
      ]
     },
     "execution_count": 8,
     "metadata": {},
     "output_type": "execute_result"
    }
   ],
   "source": [
    "user_item_df_test['rating'].describe()"
   ]
  },
  {
   "cell_type": "code",
   "execution_count": 9,
   "metadata": {},
   "outputs": [
    {
     "data": {
      "text/plain": [
       "count    764534.000000\n",
       "mean          0.572116\n",
       "std           0.494772\n",
       "min           0.000000\n",
       "25%           0.000000\n",
       "50%           1.000000\n",
       "75%           1.000000\n",
       "max           1.000000\n",
       "Name: rating, dtype: float64"
      ]
     },
     "execution_count": 9,
     "metadata": {},
     "output_type": "execute_result"
    }
   ],
   "source": [
    "user_item_df_train['rating'].describe()"
   ]
  },
  {
   "cell_type": "code",
   "execution_count": 10,
   "metadata": {},
   "outputs": [],
   "source": [
    "train_group = user_item_df_train.groupby('user').agg({\n",
    "    'item': list,\n",
    "    'rating': list\n",
    "}).reset_index()\n",
    "test_group = user_item_df_test.groupby('user').agg({\n",
    "    'item': list,\n",
    "    'rating': list\n",
    "}).reset_index()\n",
    "train_group['len'] = train_group['item'].apply(len)\n",
    "test_group['len'] = test_group['item'].apply(len)"
   ]
  },
  {
   "cell_type": "code",
   "execution_count": 11,
   "metadata": {},
   "outputs": [],
   "source": [
    "def split_prompt_resp(row, resp_frac):\n",
    "    items = np.array(row['rating'])\n",
    "    index_likes = np.where(items==1)[0].tolist()\n",
    "    index_dilikes = np.where(items==0)[0].tolist()\n",
    "    index_like_prompt = []\n",
    "    index_like_resp = []    \n",
    "    index_dislike_prompt = []\n",
    "    index_dislike_resp = []\n",
    "    resp_frac=resp_frac\n",
    "    if len(index_likes) > 0:\n",
    "        index_like_prompt, index_like_resp = get_split_random(index_likes, frac=resp_frac, margin=1)\n",
    "    if len(index_dilikes) > 0:\n",
    "        index_dislike_prompt, index_dislike_resp = get_split_random(index_dilikes, frac=resp_frac, margin=1)\n",
    "    row['index_like_prompt'] = index_like_prompt\n",
    "    row['index_like_resp'] = index_like_resp\n",
    "    row['index_dislike_prompt'] = index_dislike_prompt\n",
    "    row['index_dislike_resp'] = index_dislike_resp\n",
    "    return row"
   ]
  },
  {
   "cell_type": "code",
   "execution_count": 12,
   "metadata": {},
   "outputs": [
    {
     "data": {
      "text/plain": [
       "count    1207.000000\n",
       "mean      150.444076\n",
       "std       170.309605\n",
       "min        17.000000\n",
       "25%        39.000000\n",
       "50%        86.000000\n",
       "75%       193.000000\n",
       "max      1276.000000\n",
       "Name: len, dtype: float64"
      ]
     },
     "execution_count": 12,
     "metadata": {},
     "output_type": "execute_result"
    }
   ],
   "source": [
    "test_group['len'].describe()"
   ]
  },
  {
   "cell_type": "code",
   "execution_count": 13,
   "metadata": {},
   "outputs": [
    {
     "data": {
      "text/plain": [
       "count    4829.000000\n",
       "mean      158.321392\n",
       "std       185.232239\n",
       "min        14.000000\n",
       "25%        42.000000\n",
       "50%        91.000000\n",
       "75%       196.000000\n",
       "max      2078.000000\n",
       "Name: len, dtype: float64"
      ]
     },
     "execution_count": 13,
     "metadata": {},
     "output_type": "execute_result"
    }
   ],
   "source": [
    "train_group['len'].describe()"
   ]
  },
  {
   "cell_type": "code",
   "execution_count": 14,
   "metadata": {},
   "outputs": [
    {
     "data": {
      "application/vnd.jupyter.widget-view+json": {
       "model_id": "a0d4d4eca5cb4801b0507288f2680930",
       "version_major": 2,
       "version_minor": 0
      },
      "text/plain": [
       "Pandas Apply:   0%|          | 0/1207 [00:00<?, ?it/s]"
      ]
     },
     "metadata": {},
     "output_type": "display_data"
    },
    {
     "data": {
      "application/vnd.jupyter.widget-view+json": {
       "model_id": "2b586e8af2aa4198b4d36b3661d2e55a",
       "version_major": 2,
       "version_minor": 0
      },
      "text/plain": [
       "Pandas Apply:   0%|          | 0/4829 [00:00<?, ?it/s]"
      ]
     },
     "metadata": {},
     "output_type": "display_data"
    }
   ],
   "source": [
    "test_group = test_group.swifter.apply(split_prompt_resp, axis=1, resp_frac=resp_frac)\n",
    "train_group = train_group.swifter.apply(split_prompt_resp, axis=1, resp_frac=resp_frac)"
   ]
  },
  {
   "cell_type": "code",
   "execution_count": 15,
   "metadata": {},
   "outputs": [
    {
     "data": {
      "text/html": [
       "<div>\n",
       "<style scoped>\n",
       "    .dataframe tbody tr th:only-of-type {\n",
       "        vertical-align: middle;\n",
       "    }\n",
       "\n",
       "    .dataframe tbody tr th {\n",
       "        vertical-align: top;\n",
       "    }\n",
       "\n",
       "    .dataframe thead th {\n",
       "        text-align: right;\n",
       "    }\n",
       "</style>\n",
       "<table border=\"1\" class=\"dataframe\">\n",
       "  <thead>\n",
       "    <tr style=\"text-align: right;\">\n",
       "      <th></th>\n",
       "      <th>user</th>\n",
       "      <th>item</th>\n",
       "      <th>rating</th>\n",
       "      <th>len</th>\n",
       "      <th>index_like_prompt</th>\n",
       "      <th>index_like_resp</th>\n",
       "      <th>index_dislike_prompt</th>\n",
       "      <th>index_dislike_resp</th>\n",
       "    </tr>\n",
       "  </thead>\n",
       "  <tbody>\n",
       "    <tr>\n",
       "      <th>0</th>\n",
       "      <td>5</td>\n",
       "      <td>[8531, 8533, 9055, 6859, 6271, 7363, 6864, 744...</td>\n",
       "      <td>[1, 1, 1, 1, 1, 1, 1, 0, 0, 1, 0, 1, 0, 1, 1, ...</td>\n",
       "      <td>70</td>\n",
       "      <td>[0, 64, 2, 67, 4, 14, 16, 21, 25, 31, 36, 37, ...</td>\n",
       "      <td>[1, 3, 5, 6, 9, 11, 13, 15, 17, 18, 20, 22, 23...</td>\n",
       "      <td>[35, 68, 38, 10, 51, 53, 62, 27, 29, 30]</td>\n",
       "      <td>[32, 33, 7, 8, 12, 45, 46, 48, 19, 24, 28]</td>\n",
       "    </tr>\n",
       "    <tr>\n",
       "      <th>1</th>\n",
       "      <td>7</td>\n",
       "      <td>[6856, 6042, 6270, 7444, 7889, 8122, 6052, 650...</td>\n",
       "      <td>[1, 0, 1, 0, 0, 1, 1, 1, 1, 1, 1, 1, 1, 0, 1, ...</td>\n",
       "      <td>129</td>\n",
       "      <td>[0, 5, 7, 8, 11, 12, 18, 19, 26, 34, 41, 43, 4...</td>\n",
       "      <td>[2, 6, 9, 10, 14, 15, 17, 21, 23, 25, 27, 28, ...</td>\n",
       "      <td>[128, 1, 65, 4, 71, 72, 73, 74, 16, 83, 84, 87...</td>\n",
       "      <td>[3, 13, 20, 22, 24, 29, 31, 36, 39, 42, 50, 51...</td>\n",
       "    </tr>\n",
       "  </tbody>\n",
       "</table>\n",
       "</div>"
      ],
      "text/plain": [
       "   user                                               item  \\\n",
       "0     5  [8531, 8533, 9055, 6859, 6271, 7363, 6864, 744...   \n",
       "1     7  [6856, 6042, 6270, 7444, 7889, 8122, 6052, 650...   \n",
       "\n",
       "                                              rating  len  \\\n",
       "0  [1, 1, 1, 1, 1, 1, 1, 0, 0, 1, 0, 1, 0, 1, 1, ...   70   \n",
       "1  [1, 0, 1, 0, 0, 1, 1, 1, 1, 1, 1, 1, 1, 0, 1, ...  129   \n",
       "\n",
       "                                   index_like_prompt  \\\n",
       "0  [0, 64, 2, 67, 4, 14, 16, 21, 25, 31, 36, 37, ...   \n",
       "1  [0, 5, 7, 8, 11, 12, 18, 19, 26, 34, 41, 43, 4...   \n",
       "\n",
       "                                     index_like_resp  \\\n",
       "0  [1, 3, 5, 6, 9, 11, 13, 15, 17, 18, 20, 22, 23...   \n",
       "1  [2, 6, 9, 10, 14, 15, 17, 21, 23, 25, 27, 28, ...   \n",
       "\n",
       "                                index_dislike_prompt  \\\n",
       "0           [35, 68, 38, 10, 51, 53, 62, 27, 29, 30]   \n",
       "1  [128, 1, 65, 4, 71, 72, 73, 74, 16, 83, 84, 87...   \n",
       "\n",
       "                                  index_dislike_resp  \n",
       "0         [32, 33, 7, 8, 12, 45, 46, 48, 19, 24, 28]  \n",
       "1  [3, 13, 20, 22, 24, 29, 31, 36, 39, 42, 50, 51...  "
      ]
     },
     "execution_count": 15,
     "metadata": {},
     "output_type": "execute_result"
    }
   ],
   "source": [
    "test_group.head(2)"
   ]
  },
  {
   "cell_type": "code",
   "execution_count": 16,
   "metadata": {},
   "outputs": [
    {
     "data": {
      "text/plain": [
       "(1207, 8)"
      ]
     },
     "execution_count": 16,
     "metadata": {},
     "output_type": "execute_result"
    }
   ],
   "source": [
    "test_group.shape"
   ]
  },
  {
   "cell_type": "code",
   "execution_count": 17,
   "metadata": {},
   "outputs": [
    {
     "data": {
      "text/html": [
       "<div>\n",
       "<style scoped>\n",
       "    .dataframe tbody tr th:only-of-type {\n",
       "        vertical-align: middle;\n",
       "    }\n",
       "\n",
       "    .dataframe tbody tr th {\n",
       "        vertical-align: top;\n",
       "    }\n",
       "\n",
       "    .dataframe thead th {\n",
       "        text-align: right;\n",
       "    }\n",
       "</style>\n",
       "<table border=\"1\" class=\"dataframe\">\n",
       "  <thead>\n",
       "    <tr style=\"text-align: right;\">\n",
       "      <th></th>\n",
       "      <th>user</th>\n",
       "      <th>item</th>\n",
       "      <th>rating</th>\n",
       "      <th>len</th>\n",
       "      <th>index_like_prompt</th>\n",
       "      <th>index_like_resp</th>\n",
       "      <th>index_dislike_prompt</th>\n",
       "      <th>index_dislike_resp</th>\n",
       "    </tr>\n",
       "  </thead>\n",
       "  <tbody>\n",
       "    <tr>\n",
       "      <th>0</th>\n",
       "      <td>0</td>\n",
       "      <td>[8213, 6267, 6857, 6858, 6916, 7258, 8270, 686...</td>\n",
       "      <td>[1, 1, 1, 1, 1, 1, 1, 1, 1, 1, 1, 0, 1, 0, 0, ...</td>\n",
       "      <td>49</td>\n",
       "      <td>[0, 2, 3, 4, 6, 9, 15, 19, 23, 29, 30, 31, 32,...</td>\n",
       "      <td>[1, 5, 7, 8, 10, 12, 16, 17, 18, 20, 21, 22, 2...</td>\n",
       "      <td>[48, 42, 47]</td>\n",
       "      <td>[11, 13, 14, 24, 28]</td>\n",
       "    </tr>\n",
       "    <tr>\n",
       "      <th>1</th>\n",
       "      <td>1</td>\n",
       "      <td>[6493, 8733, 7257, 7887, 7444, 8122, 7061, 789...</td>\n",
       "      <td>[1, 1, 1, 0, 0, 1, 1, 0, 1, 0, 1, 0, 0, 1, 1, ...</td>\n",
       "      <td>122</td>\n",
       "      <td>[0, 2, 6, 10, 14, 15, 20, 28, 31, 37, 42, 46, ...</td>\n",
       "      <td>[1, 5, 8, 13, 25, 26, 30, 34, 36, 38, 40, 44, ...</td>\n",
       "      <td>[66, 3, 67, 70, 7, 71, 73, 74, 11, 19, 21, 85,...</td>\n",
       "      <td>[4, 9, 12, 16, 17, 18, 22, 27, 29, 32, 33, 39,...</td>\n",
       "    </tr>\n",
       "  </tbody>\n",
       "</table>\n",
       "</div>"
      ],
      "text/plain": [
       "   user                                               item  \\\n",
       "0     0  [8213, 6267, 6857, 6858, 6916, 7258, 8270, 686...   \n",
       "1     1  [6493, 8733, 7257, 7887, 7444, 8122, 7061, 789...   \n",
       "\n",
       "                                              rating  len  \\\n",
       "0  [1, 1, 1, 1, 1, 1, 1, 1, 1, 1, 1, 0, 1, 0, 0, ...   49   \n",
       "1  [1, 1, 1, 0, 0, 1, 1, 0, 1, 0, 1, 0, 0, 1, 1, ...  122   \n",
       "\n",
       "                                   index_like_prompt  \\\n",
       "0  [0, 2, 3, 4, 6, 9, 15, 19, 23, 29, 30, 31, 32,...   \n",
       "1  [0, 2, 6, 10, 14, 15, 20, 28, 31, 37, 42, 46, ...   \n",
       "\n",
       "                                     index_like_resp  \\\n",
       "0  [1, 5, 7, 8, 10, 12, 16, 17, 18, 20, 21, 22, 2...   \n",
       "1  [1, 5, 8, 13, 25, 26, 30, 34, 36, 38, 40, 44, ...   \n",
       "\n",
       "                                index_dislike_prompt  \\\n",
       "0                                       [48, 42, 47]   \n",
       "1  [66, 3, 67, 70, 7, 71, 73, 74, 11, 19, 21, 85,...   \n",
       "\n",
       "                                  index_dislike_resp  \n",
       "0                               [11, 13, 14, 24, 28]  \n",
       "1  [4, 9, 12, 16, 17, 18, 22, 27, 29, 32, 33, 39,...  "
      ]
     },
     "execution_count": 17,
     "metadata": {},
     "output_type": "execute_result"
    }
   ],
   "source": [
    "train_group.head(2)"
   ]
  },
  {
   "cell_type": "code",
   "execution_count": 18,
   "metadata": {},
   "outputs": [
    {
     "data": {
      "text/plain": [
       "(4829, 8)"
      ]
     },
     "execution_count": 18,
     "metadata": {},
     "output_type": "execute_result"
    }
   ],
   "source": [
    "train_group.shape"
   ]
  },
  {
   "cell_type": "code",
   "execution_count": 19,
   "metadata": {},
   "outputs": [
    {
     "name": "stderr",
     "output_type": "stream",
     "text": [
      "C:\\Users\\petru\\AppData\\Local\\Temp\\ipykernel_24280\\3822391243.py:11: ParserWarning: Falling back to the 'python' engine because the 'c' engine does not support regex separators (separators > 1 char and different from '\\s+' are interpreted as regex); you can avoid this warning by specifying engine='python'.\n",
      "  df_movies = pd.read_csv(os.path.join(datapath, r\"movies.dat\"), sep=\"::\", names=[\"item_id\", \"name\", \"geners\"], encoding='ISO-8859-1')\n"
     ]
    }
   ],
   "source": [
    "if dataset=='movielens':\n",
    "    def fix_title(title):\n",
    "        if \", The (\" in title:\n",
    "            name_film, _, year = title.rpartition(\", The (\")\n",
    "            title = \"The \" + name_film + \" (\" + year\n",
    "            return title\n",
    "        if \", A (\" in title:\n",
    "            name_film, _, year = title.rpartition(\", A (\")\n",
    "            title = \"A \" + name_film + \" (\" + year\n",
    "        return title\n",
    "    df_movies = pd.read_csv(os.path.join(datapath, r\"movies.dat\"), sep=\"::\", names=[\"item_id\", \"name\", \"geners\"], encoding='ISO-8859-1')\n",
    "    df_movies['name'] = df_movies['name'].apply(lambda x: fix_title(x)[0])\n",
    "    #df_movies['year'] = df_movies['name'].apply(lambda x: fix_title(x)[1])\n",
    "    import re\n",
    "\n",
    "    df_relations = pd.read_csv(os.path.join(datapath, 'mapping_entities.tsv'), \\\n",
    "            names=['url', 'id_set'], sep='\\t')\n",
    "    dbpedia_mapping = pd.read_csv(os.path.join(datapath, 'MappingMovielens2DBpedia-1.2.tsv'), \\\n",
    "            names=['id_movie', 'name', 'dbpedia_url'], sep='\\t')\n",
    "    df_movies = dbpedia_mapping.set_index('dbpedia_url').join(df_relations.set_index('url')).reset_index()\n",
    "    df_movies['name'] = df_movies['name'].apply(lambda x: re.sub(\"\\s+\\(\\d+\\)$\", \"\", x))\n",
    "    df_movies['name'] = df_movies['name'].apply(lambda x: re.sub(r\"[^a-zA-Z0-9]+\", ' ', x).strip())\n",
    "    df_movies.dropna(inplace=True)\n",
    "    df_movies['id_set'] = df_movies['id_set'].astype(int)\n",
    "    mapping_dict = df_movies.loc[:, ['id_set', 'name']].set_index('id_set').to_dict()['name']"
   ]
  },
  {
   "cell_type": "code",
   "execution_count": 20,
   "metadata": {},
   "outputs": [],
   "source": [
    "if dataset=='dbbook':\n",
    "    df_relations = pd.read_csv(os.path.join(datapath, 'mapping_entities.tsv'), sep='\\t')\n",
    "    df_relations['name'] = df_relations['uri'].apply(lambda x: x.split(\";\")[0])\n",
    "    temp = df_relations[df_relations['id'].isin(df['item'].unique())]\n",
    "    mapping_dict = temp.set_index('id').to_dict()['name']"
   ]
  },
  {
   "cell_type": "code",
   "execution_count": 21,
   "metadata": {},
   "outputs": [],
   "source": [
    "if dataset=='lastfm':\n",
    "    df_relations = pd.read_csv(os.path.join(datapath, 'mapping_items.tsv'), \\\n",
    "            names=['id', 'name'], sep='\\t')\n",
    "    mapping_dict = df_relations.set_index('id').to_dict()['name']"
   ]
  },
  {
   "cell_type": "code",
   "execution_count": 22,
   "metadata": {},
   "outputs": [
    {
     "name": "stderr",
     "output_type": "stream",
     "text": [
      "C:\\Users\\petru\\AppData\\Local\\Temp\\ipykernel_24280\\2469010779.py:1: ParserWarning: Falling back to the 'python' engine because the 'c' engine does not support regex separators (separators > 1 char and different from '\\s+' are interpreted as regex); you can avoid this warning by specifying engine='python'.\n",
      "  item_desription = pd.read_csv(os.path.join(datapath, dataset+'.txt'), sep=';;', names=['item_id', 'description'],  on_bad_lines='skip')\n"
     ]
    }
   ],
   "source": [
    "item_desription = pd.read_csv(os.path.join(datapath, dataset+'.txt'), sep=';;', names=['item_id', 'description'],  on_bad_lines='skip')\n",
    "item_desription = item_desription[item_desription['item_id'].isin(all_items)]"
   ]
  },
  {
   "cell_type": "code",
   "execution_count": 23,
   "metadata": {},
   "outputs": [],
   "source": [
    "#item_desription['description'] = item_desription['description'].apply(lambda x: special_token + \" \" + x)"
   ]
  },
  {
   "cell_type": "code",
   "execution_count": 24,
   "metadata": {},
   "outputs": [],
   "source": [
    "import json\n",
    "\n",
    "with open(os.path.join(datapath, f'{dataset}_domain_kn.jsonl'), 'w') as outfile:\n",
    "    for new_id, desc in item_desription.to_dict()['description'].items():\n",
    "        json.dump({'target_id':new_id, 'text':desc}, outfile)\n",
    "        outfile.write('\\n')"
   ]
  },
  {
   "cell_type": "code",
   "execution_count": 25,
   "metadata": {},
   "outputs": [],
   "source": [
    "item_desc_dict = item_desription.to_dict()['description']"
   ]
  },
  {
   "cell_type": "markdown",
   "metadata": {},
   "source": [
    "## Prepare prompt"
   ]
  },
  {
   "cell_type": "code",
   "execution_count": 26,
   "metadata": {},
   "outputs": [
    {
     "data": {
      "text/html": [
       "<div>\n",
       "<style scoped>\n",
       "    .dataframe tbody tr th:only-of-type {\n",
       "        vertical-align: middle;\n",
       "    }\n",
       "\n",
       "    .dataframe tbody tr th {\n",
       "        vertical-align: top;\n",
       "    }\n",
       "\n",
       "    .dataframe thead th {\n",
       "        text-align: right;\n",
       "    }\n",
       "</style>\n",
       "<table border=\"1\" class=\"dataframe\">\n",
       "  <thead>\n",
       "    <tr style=\"text-align: right;\">\n",
       "      <th></th>\n",
       "      <th>user</th>\n",
       "      <th>item</th>\n",
       "      <th>rating</th>\n",
       "      <th>len</th>\n",
       "      <th>index_like_prompt</th>\n",
       "      <th>index_like_resp</th>\n",
       "      <th>index_dislike_prompt</th>\n",
       "      <th>index_dislike_resp</th>\n",
       "    </tr>\n",
       "  </thead>\n",
       "  <tbody>\n",
       "    <tr>\n",
       "      <th>0</th>\n",
       "      <td>0</td>\n",
       "      <td>[8213, 6267, 6857, 6858, 6916, 7258, 8270, 686...</td>\n",
       "      <td>[1, 1, 1, 1, 1, 1, 1, 1, 1, 1, 1, 0, 1, 0, 0, ...</td>\n",
       "      <td>49</td>\n",
       "      <td>[0, 2, 3, 4, 6, 9, 15, 19, 23, 29, 30, 31, 32,...</td>\n",
       "      <td>[1, 5, 7, 8, 10, 12, 16, 17, 18, 20, 21, 22, 2...</td>\n",
       "      <td>[48, 42, 47]</td>\n",
       "      <td>[11, 13, 14, 24, 28]</td>\n",
       "    </tr>\n",
       "    <tr>\n",
       "      <th>1</th>\n",
       "      <td>1</td>\n",
       "      <td>[6493, 8733, 7257, 7887, 7444, 8122, 7061, 789...</td>\n",
       "      <td>[1, 1, 1, 0, 0, 1, 1, 0, 1, 0, 1, 0, 0, 1, 1, ...</td>\n",
       "      <td>122</td>\n",
       "      <td>[0, 2, 6, 10, 14, 15, 20, 28, 31, 37, 42, 46, ...</td>\n",
       "      <td>[1, 5, 8, 13, 25, 26, 30, 34, 36, 38, 40, 44, ...</td>\n",
       "      <td>[66, 3, 67, 70, 7, 71, 73, 74, 11, 19, 21, 85,...</td>\n",
       "      <td>[4, 9, 12, 16, 17, 18, 22, 27, 29, 32, 33, 39,...</td>\n",
       "    </tr>\n",
       "    <tr>\n",
       "      <th>2</th>\n",
       "      <td>2</td>\n",
       "      <td>[7725, 6597, 7059, 6599, 8902, 6560, 7622, 717...</td>\n",
       "      <td>[1, 0, 1, 1, 0, 0, 1, 0, 1, 0, 1, 1, 1, 1, 1, ...</td>\n",
       "      <td>50</td>\n",
       "      <td>[0, 8, 11, 14, 18, 19, 20, 24, 27, 31, 36, 38,...</td>\n",
       "      <td>[2, 3, 6, 10, 12, 13, 15, 16, 22, 25, 28, 29, ...</td>\n",
       "      <td>[34, 35, 21, 39, 9, 26]</td>\n",
       "      <td>[1, 4, 5, 7, 46, 17, 23, 30]</td>\n",
       "    </tr>\n",
       "    <tr>\n",
       "      <th>3</th>\n",
       "      <td>3</td>\n",
       "      <td>[6459, 8213, 6267, 8430, 8897, 6916, 7139, 697...</td>\n",
       "      <td>[1, 1, 1, 1, 0, 1, 1, 0, 1, 1, 1, 1, 1, 0, 1, ...</td>\n",
       "      <td>20</td>\n",
       "      <td>[3, 8, 10, 14, 15, 16, 17, 19]</td>\n",
       "      <td>[0, 1, 2, 5, 6, 9, 11, 12, 18]</td>\n",
       "      <td>[7]</td>\n",
       "      <td>[4, 13]</td>\n",
       "    </tr>\n",
       "    <tr>\n",
       "      <th>4</th>\n",
       "      <td>4</td>\n",
       "      <td>[8113, 7440, 6493, 6044, 6270, 8538, 7671, 812...</td>\n",
       "      <td>[1, 0, 1, 0, 0, 0, 0, 1, 1, 0, 1, 1, 0, 0, 0, ...</td>\n",
       "      <td>188</td>\n",
       "      <td>[0, 2, 130, 10, 11, 138, 141, 19, 147, 155, 28...</td>\n",
       "      <td>[129, 134, 7, 8, 139, 15, 16, 20, 149, 22, 150...</td>\n",
       "      <td>[1, 3, 6, 135, 9, 137, 140, 14, 17, 146, 148, ...</td>\n",
       "      <td>[128, 131, 4, 5, 133, 132, 136, 12, 13, 142, 1...</td>\n",
       "    </tr>\n",
       "  </tbody>\n",
       "</table>\n",
       "</div>"
      ],
      "text/plain": [
       "   user                                               item  \\\n",
       "0     0  [8213, 6267, 6857, 6858, 6916, 7258, 8270, 686...   \n",
       "1     1  [6493, 8733, 7257, 7887, 7444, 8122, 7061, 789...   \n",
       "2     2  [7725, 6597, 7059, 6599, 8902, 6560, 7622, 717...   \n",
       "3     3  [6459, 8213, 6267, 8430, 8897, 6916, 7139, 697...   \n",
       "4     4  [8113, 7440, 6493, 6044, 6270, 8538, 7671, 812...   \n",
       "\n",
       "                                              rating  len  \\\n",
       "0  [1, 1, 1, 1, 1, 1, 1, 1, 1, 1, 1, 0, 1, 0, 0, ...   49   \n",
       "1  [1, 1, 1, 0, 0, 1, 1, 0, 1, 0, 1, 0, 0, 1, 1, ...  122   \n",
       "2  [1, 0, 1, 1, 0, 0, 1, 0, 1, 0, 1, 1, 1, 1, 1, ...   50   \n",
       "3  [1, 1, 1, 1, 0, 1, 1, 0, 1, 1, 1, 1, 1, 0, 1, ...   20   \n",
       "4  [1, 0, 1, 0, 0, 0, 0, 1, 1, 0, 1, 1, 0, 0, 0, ...  188   \n",
       "\n",
       "                                   index_like_prompt  \\\n",
       "0  [0, 2, 3, 4, 6, 9, 15, 19, 23, 29, 30, 31, 32,...   \n",
       "1  [0, 2, 6, 10, 14, 15, 20, 28, 31, 37, 42, 46, ...   \n",
       "2  [0, 8, 11, 14, 18, 19, 20, 24, 27, 31, 36, 38,...   \n",
       "3                     [3, 8, 10, 14, 15, 16, 17, 19]   \n",
       "4  [0, 2, 130, 10, 11, 138, 141, 19, 147, 155, 28...   \n",
       "\n",
       "                                     index_like_resp  \\\n",
       "0  [1, 5, 7, 8, 10, 12, 16, 17, 18, 20, 21, 22, 2...   \n",
       "1  [1, 5, 8, 13, 25, 26, 30, 34, 36, 38, 40, 44, ...   \n",
       "2  [2, 3, 6, 10, 12, 13, 15, 16, 22, 25, 28, 29, ...   \n",
       "3                     [0, 1, 2, 5, 6, 9, 11, 12, 18]   \n",
       "4  [129, 134, 7, 8, 139, 15, 16, 20, 149, 22, 150...   \n",
       "\n",
       "                                index_dislike_prompt  \\\n",
       "0                                       [48, 42, 47]   \n",
       "1  [66, 3, 67, 70, 7, 71, 73, 74, 11, 19, 21, 85,...   \n",
       "2                            [34, 35, 21, 39, 9, 26]   \n",
       "3                                                [7]   \n",
       "4  [1, 3, 6, 135, 9, 137, 140, 14, 17, 146, 148, ...   \n",
       "\n",
       "                                  index_dislike_resp  \n",
       "0                               [11, 13, 14, 24, 28]  \n",
       "1  [4, 9, 12, 16, 17, 18, 22, 27, 29, 32, 33, 39,...  \n",
       "2                       [1, 4, 5, 7, 46, 17, 23, 30]  \n",
       "3                                            [4, 13]  \n",
       "4  [128, 131, 4, 5, 133, 132, 136, 12, 13, 142, 1...  "
      ]
     },
     "execution_count": 26,
     "metadata": {},
     "output_type": "execute_result"
    }
   ],
   "source": [
    "train_group.head()"
   ]
  },
  {
   "cell_type": "code",
   "execution_count": 27,
   "metadata": {},
   "outputs": [
    {
     "data": {
      "text/plain": [
       "'Wayne s World'"
      ]
     },
     "execution_count": 27,
     "metadata": {},
     "output_type": "execute_result"
    }
   ],
   "source": [
    "mapping_dict[8670]"
   ]
  },
  {
   "cell_type": "code",
   "execution_count": 28,
   "metadata": {},
   "outputs": [],
   "source": [
    "def map_with_names(row, col, mapping_dict):\n",
    "    return [mapping_dict.get(x, '') for x in np.array(row['item'])[row[col]] if len(mapping_dict.get(x, ''))>2]\n",
    "\n",
    "\n",
    "train_group['liked_prompt'] = train_group.apply(map_with_names, axis=1, col='index_like_prompt', mapping_dict=mapping_dict)\n",
    "train_group['liked_resp'] = train_group.apply(map_with_names, axis=1, col='index_like_resp', mapping_dict=mapping_dict)\n",
    "train_group['disliked_prompt'] = train_group.apply(map_with_names, axis=1, col='index_dislike_prompt', mapping_dict=mapping_dict)\n",
    "train_group['disliked_resp'] = train_group.apply(map_with_names, axis=1, col='index_dislike_resp', mapping_dict=mapping_dict)\n",
    "\n",
    "test_group['liked_prompt'] = test_group.apply(map_with_names, axis=1, col='index_like_prompt', mapping_dict=mapping_dict)\n",
    "test_group['liked_resp'] = test_group.apply(map_with_names, axis=1, col='index_like_resp', mapping_dict=mapping_dict)\n",
    "test_group['disliked_prompt'] = test_group.apply(map_with_names, axis=1, col='index_dislike_prompt', mapping_dict=mapping_dict)\n",
    "test_group['disliked_resp'] = test_group.apply(map_with_names, axis=1, col='index_dislike_resp', mapping_dict=mapping_dict)"
   ]
  },
  {
   "cell_type": "code",
   "execution_count": 29,
   "metadata": {},
   "outputs": [
    {
     "data": {
      "text/html": [
       "<div>\n",
       "<style scoped>\n",
       "    .dataframe tbody tr th:only-of-type {\n",
       "        vertical-align: middle;\n",
       "    }\n",
       "\n",
       "    .dataframe tbody tr th {\n",
       "        vertical-align: top;\n",
       "    }\n",
       "\n",
       "    .dataframe thead th {\n",
       "        text-align: right;\n",
       "    }\n",
       "</style>\n",
       "<table border=\"1\" class=\"dataframe\">\n",
       "  <thead>\n",
       "    <tr style=\"text-align: right;\">\n",
       "      <th></th>\n",
       "      <th>user</th>\n",
       "      <th>item</th>\n",
       "      <th>rating</th>\n",
       "      <th>len</th>\n",
       "      <th>index_like_prompt</th>\n",
       "      <th>index_like_resp</th>\n",
       "      <th>index_dislike_prompt</th>\n",
       "      <th>index_dislike_resp</th>\n",
       "      <th>liked_prompt</th>\n",
       "      <th>liked_resp</th>\n",
       "      <th>disliked_prompt</th>\n",
       "      <th>disliked_resp</th>\n",
       "    </tr>\n",
       "  </thead>\n",
       "  <tbody>\n",
       "    <tr>\n",
       "      <th>0</th>\n",
       "      <td>0</td>\n",
       "      <td>[8213, 6267, 6857, 6858, 6916, 7258, 8270, 686...</td>\n",
       "      <td>[1, 1, 1, 1, 1, 1, 1, 1, 1, 1, 1, 0, 1, 0, 0, ...</td>\n",
       "      <td>49</td>\n",
       "      <td>[0, 2, 3, 4, 6, 9, 15, 19, 23, 29, 30, 31, 32,...</td>\n",
       "      <td>[1, 5, 7, 8, 10, 12, 16, 17, 18, 20, 21, 22, 2...</td>\n",
       "      <td>[48, 42, 47]</td>\n",
       "      <td>[11, 13, 14, 24, 28]</td>\n",
       "      <td>[Run Lola Run Lola rennt, Mary Poppins, Dumbo,...</td>\n",
       "      <td>[Ponette, Sound of Music The, Aladdin, Hunchba...</td>\n",
       "      <td>[Tarzan, James and the Giant Peach, Princess B...</td>\n",
       "      <td>[Wallace Gromit The Best of Aardman Animation,...</td>\n",
       "    </tr>\n",
       "    <tr>\n",
       "      <th>1</th>\n",
       "      <td>1</td>\n",
       "      <td>[6493, 8733, 7257, 7887, 7444, 8122, 7061, 789...</td>\n",
       "      <td>[1, 1, 1, 0, 0, 1, 1, 0, 1, 0, 1, 0, 0, 1, 1, ...</td>\n",
       "      <td>122</td>\n",
       "      <td>[0, 2, 6, 10, 14, 15, 20, 28, 31, 37, 42, 46, ...</td>\n",
       "      <td>[1, 5, 8, 13, 25, 26, 30, 34, 36, 38, 40, 44, ...</td>\n",
       "      <td>[66, 3, 67, 70, 7, 71, 73, 74, 11, 19, 21, 85,...</td>\n",
       "      <td>[4, 9, 12, 16, 17, 18, 22, 27, 29, 32, 33, 39,...</td>\n",
       "      <td>[Remains of the Day The, Lost World Jurassic P...</td>\n",
       "      <td>[Key Largo, Matrix The, Doctor Zhivago, Green ...</td>\n",
       "      <td>[Breakfast Club The, Children of a Lesser God,...</td>\n",
       "      <td>[Man in the Iron Mask The, Get Shorty, Fisher ...</td>\n",
       "    </tr>\n",
       "  </tbody>\n",
       "</table>\n",
       "</div>"
      ],
      "text/plain": [
       "   user                                               item  \\\n",
       "0     0  [8213, 6267, 6857, 6858, 6916, 7258, 8270, 686...   \n",
       "1     1  [6493, 8733, 7257, 7887, 7444, 8122, 7061, 789...   \n",
       "\n",
       "                                              rating  len  \\\n",
       "0  [1, 1, 1, 1, 1, 1, 1, 1, 1, 1, 1, 0, 1, 0, 0, ...   49   \n",
       "1  [1, 1, 1, 0, 0, 1, 1, 0, 1, 0, 1, 0, 0, 1, 1, ...  122   \n",
       "\n",
       "                                   index_like_prompt  \\\n",
       "0  [0, 2, 3, 4, 6, 9, 15, 19, 23, 29, 30, 31, 32,...   \n",
       "1  [0, 2, 6, 10, 14, 15, 20, 28, 31, 37, 42, 46, ...   \n",
       "\n",
       "                                     index_like_resp  \\\n",
       "0  [1, 5, 7, 8, 10, 12, 16, 17, 18, 20, 21, 22, 2...   \n",
       "1  [1, 5, 8, 13, 25, 26, 30, 34, 36, 38, 40, 44, ...   \n",
       "\n",
       "                                index_dislike_prompt  \\\n",
       "0                                       [48, 42, 47]   \n",
       "1  [66, 3, 67, 70, 7, 71, 73, 74, 11, 19, 21, 85,...   \n",
       "\n",
       "                                  index_dislike_resp  \\\n",
       "0                               [11, 13, 14, 24, 28]   \n",
       "1  [4, 9, 12, 16, 17, 18, 22, 27, 29, 32, 33, 39,...   \n",
       "\n",
       "                                        liked_prompt  \\\n",
       "0  [Run Lola Run Lola rennt, Mary Poppins, Dumbo,...   \n",
       "1  [Remains of the Day The, Lost World Jurassic P...   \n",
       "\n",
       "                                          liked_resp  \\\n",
       "0  [Ponette, Sound of Music The, Aladdin, Hunchba...   \n",
       "1  [Key Largo, Matrix The, Doctor Zhivago, Green ...   \n",
       "\n",
       "                                     disliked_prompt  \\\n",
       "0  [Tarzan, James and the Giant Peach, Princess B...   \n",
       "1  [Breakfast Club The, Children of a Lesser God,...   \n",
       "\n",
       "                                       disliked_resp  \n",
       "0  [Wallace Gromit The Best of Aardman Animation,...  \n",
       "1  [Man in the Iron Mask The, Get Shorty, Fisher ...  "
      ]
     },
     "execution_count": 29,
     "metadata": {},
     "output_type": "execute_result"
    }
   ],
   "source": [
    "train_group.head(2)"
   ]
  },
  {
   "cell_type": "code",
   "execution_count": 30,
   "metadata": {},
   "outputs": [],
   "source": [
    "train = []\n",
    "test = []\n",
    "for _, row in test_group.iterrows():\n",
    "    for item in row['liked_prompt']:\n",
    "        train.append({\n",
    "            'user_id': row['user'],\n",
    "            'item_id': item,\n",
    "            'score': 1\n",
    "        })\n",
    "    for item in row['disliked_prompt']:\n",
    "        train.append({\n",
    "            'user_id': row['user'],\n",
    "            'item_id': item,\n",
    "            'score': 0\n",
    "        })\n",
    "    for item in row['liked_resp']:\n",
    "        test.append({\n",
    "            'user_id': row['user'],\n",
    "            'item_id': item,\n",
    "            'score': 1\n",
    "        })\n",
    "    for item in row['disliked_resp']:\n",
    "        test.append({\n",
    "            'user_id': row['user'],\n",
    "            'item_id': item,\n",
    "            'score': 0\n",
    "        })\n",
    "\n",
    "pd.DataFrame(train).to_csv(\"train_adaptation.csv\")\n",
    "                    "
   ]
  },
  {
   "cell_type": "code",
   "execution_count": 31,
   "metadata": {},
   "outputs": [],
   "source": [
    "import random\n",
    "import itertools\n",
    "\n",
    "def prepare_user_prompt(row, test=False):\n",
    "    random.seed(22)\n",
    "    user_prompt = ''\n",
    "    liked_list = ', '\n",
    "    disliked_list = ', '\n",
    "    liked_part = \"\"\"I like the following items:\\n{liked_list}\\n\"\"\"\n",
    "    disliked_part = \"\"\"I dislike the following items:\\n{disliked_list}\\n\"\"\"\n",
    "    liked_items = sorted(row['liked_prompt'], key=lambda k: random.random())\n",
    "    disliked_items = sorted(row['disliked_prompt'], key=lambda k: random.random())\n",
    "    liked_list = liked_list.join(liked_items)\n",
    "    disliked_list = disliked_list.join(disliked_items)\n",
    "    if len(liked_items)>0:\n",
    "        user_prompt = user_prompt + liked_part.format(liked_list=liked_list)\n",
    "    if len(disliked_list)>0:\n",
    "        user_prompt = user_prompt + disliked_part.format(disliked_list=disliked_list)\n",
    "    \n",
    "    to_rank_list_str = ', '\n",
    "    to_rank_list = list(itertools.chain(*[row['liked_resp'], row['disliked_resp']]))\n",
    "    if test:\n",
    "        response_part = f\"\"\"\\nSugges me {k_prompt} items\"\"\"\n",
    "    else:\n",
    "        response_part = f\"\"\"\\nSugges me {len(to_rank_list)} items\"\"\"\n",
    "    to_rank_list = sorted(to_rank_list, key=lambda k: random.random())\n",
    "    to_rank_list = to_rank_list_str.join(to_rank_list)\n",
    "    user_prompt = user_prompt + response_part#.format(to_rank_list=to_rank_list)\n",
    "    return user_prompt\n",
    "        \n",
    "def get_assistant_prompt(row):\n",
    "    ranked_list_str = ''\n",
    "    rank_part = \"\"\"Here a list:\\n{ranked_list}\\n\"\"\"\n",
    "    for i, x in enumerate(row['liked_resp']):\n",
    "        ranked_list_str = ranked_list_str + f\"{i+1}. {x}\\n\"\n",
    "    for i, x in enumerate(row['disliked_resp'], len(row['liked_resp'])):\n",
    "        ranked_list_str = ranked_list_str + f\"{i+1}. {x}\\n\"\n",
    "    return rank_part.format(ranked_list=ranked_list_str)[:-1]\n",
    "\n",
    "\n",
    "train_group['user_prompt'] = train_group.apply(prepare_user_prompt, axis=1)\n",
    "train_group['assistant_prompt'] = train_group.apply(get_assistant_prompt, axis=1)\n",
    "\n",
    "test_group['user_prompt'] = test_group.apply(prepare_user_prompt, axis=1, test=True)\n",
    "test_group['assistant_prompt'] = test_group.apply(get_assistant_prompt, axis=1)"
   ]
  },
  {
   "cell_type": "code",
   "execution_count": 32,
   "metadata": {},
   "outputs": [
    {
     "name": "stdout",
     "output_type": "stream",
     "text": [
      "I like the following items:\n",
      "Maltese Falcon The, Monty Python and the Holy Grail, Magnum Force, Run Silent Run Deep, Who Framed Roger Rabbit, Bell Book and Candle, Bringing Out the Dead, From Here to Eternity, Gladiator, Ravenous, Taking of Pelham One Two Three The, Messenger The Story of Joan of Arc The\n",
      "I dislike the following items:\n",
      "Entrapment, Boiler Room, Braddock Missing in Action III, Clerks, Gone in 60 Seconds, Get Carter, Bowfinger, Star Trek The Motion Picture, Space Cowboys, Wild Wild West, Arachnophobia, Mystery Men, Teaching Mrs Tingle, Pitch Black, Sixth Sense The, Cell The, Civil Action A, Reindeer Games, Payback, Back to the Future\n",
      "\n",
      "Sugges me 34 items\n"
     ]
    }
   ],
   "source": [
    "print(train_group.loc[150, 'user_prompt'])"
   ]
  },
  {
   "cell_type": "code",
   "execution_count": 33,
   "metadata": {},
   "outputs": [
    {
     "name": "stdout",
     "output_type": "stream",
     "text": [
      "Here a list:\n",
      "1. Rushmore\n",
      "2. Soapdish\n",
      "3. Romeo Must Die\n",
      "4. Dead Calm\n",
      "5. Matrix The\n",
      "6. Summer of Sam\n",
      "7. Fight Club\n",
      "8. Pacific Heights\n",
      "9. Gattaca\n",
      "10. Election\n",
      "11. 13th Warrior The\n",
      "12. Predator\n",
      "13. Moonstruck\n",
      "14. General s Daughter The\n",
      "15. Battlefield Earth\n",
      "16. Blair Witch Project The\n",
      "17. Until the End of the World Bis ans Ende der Welt\n",
      "18. Shaft\n",
      "19. Pushing Tin\n",
      "20. Art of War The\n",
      "21. Quick and the Dead The\n",
      "22. Tron\n",
      "23. Carrie\n",
      "24. Thomas Crown Affair The\n",
      "25. Under Siege 2 Dark Territory\n",
      "26. X Men\n",
      "27. Godfather The\n",
      "28. Poseidon Adventure The\n",
      "29. Meteor\n",
      "30. Hollow Man\n",
      "31. Faculty The\n",
      "32. Mission Impossible 2\n",
      "33. eXistenZ\n",
      "34. Powder\n",
      "\n"
     ]
    }
   ],
   "source": [
    "print(train_group.loc[150, 'assistant_prompt'])"
   ]
  },
  {
   "cell_type": "code",
   "execution_count": 34,
   "metadata": {},
   "outputs": [
    {
     "name": "stderr",
     "output_type": "stream",
     "text": [
      "Special tokens have been added in the vocabulary, make sure the associated word embeddings are fine-tuned or trained.\n"
     ]
    }
   ],
   "source": [
    "from transformers import AutoTokenizer\n",
    "tokenizer = AutoTokenizer.from_pretrained(\"../llama3\")\n",
    "tokenizer.pad_token = tokenizer.eos_token\n",
    "#tokenizer.chat_template =  \"{% set ns = namespace(i=0) %}\" \\\n",
    "#                            \"{% for message in messages %}\" \\\n",
    "#                                \"{% if message['role'] == 'system' and ns.i == 0 %}\" \\\n",
    "#                                       \"{{ bos_token +' [INST] <<SYS>>\\n' }}\" \\\n",
    "#                                       \"{{ message['content'] + ' <</SYS>>\\n'}}\" \\\n",
    "#                                \"{% elif message['role'] == 'user' %}\" \\\n",
    "#                                    \"{{ message['content'] + ' [/INST]\\n'}}\" \\\n",
    "#                                \"<|reserved_special_token_22|>\\n\"\\\n",
    "#                                \"{% elif message['role'] == 'assistant' %}\" \\\n",
    "#                                    \"{{ message['content'] + ' ' + eos_token }}\" \\\n",
    "#                                \"{% endif %}\" \\\n",
    "#                                \"{% set ns.i = ns.i+1 %}\" \\\n",
    "#                            \"{% endfor %}\"\n",
    "#\n",
    "tokenizer.chat_template =  \"{% set ns = namespace(i=0) %}\" \\\n",
    "                            \"{% for message in messages %}\" \\\n",
    "                                \"{% if message['role'] == 'system' and ns.i == 0 %}\" \\\n",
    "                                       \"{{ bos_token +' [INST] <<SYS>>\\n' }}\" \\\n",
    "                                       \"{{ message['content'] + ' <</SYS>>\\n'}}\" \\\n",
    "                                \"{% elif message['role'] == 'user' %}\" \\\n",
    "                                    \"{{ message['content'] + ' [/INST]\\n'}}\" \\\n",
    "                                \"{% elif message['role'] == 'assistant' %}\" \\\n",
    "                                    \"{{ message['content'] + '' + eos_token }}\" \\\n",
    "                                \"{% endif %}\" \\\n",
    "                                \"{% set ns.i = ns.i+1 %}\" \\\n",
    "                            \"{% endfor %}\""
   ]
  },
  {
   "cell_type": "code",
   "execution_count": 35,
   "metadata": {},
   "outputs": [],
   "source": [
    "def get_prompt(row, is_train=True):\n",
    "    messages = [\n",
    "    {\"role\": \"system\", \"content\": f\"You're operating as a {domain} recommendation system. Your task involves receiving a user's list of liked and disliked items, based on that information, you need to return a ranked list of recommended items the user is most likely to enjoy\"},\n",
    "    {\"role\": \"user\", \"content\": row['user_prompt']}\n",
    "    ]\n",
    "    if is_train:\n",
    "        messages.append({\"role\": \"assistant\", \"content\": row['assistant_prompt']})\n",
    "    return tokenizer.apply_chat_template(messages, tokenize=False)"
   ]
  },
  {
   "cell_type": "code",
   "execution_count": 36,
   "metadata": {},
   "outputs": [],
   "source": [
    "train_group['prompt'] = train_group.apply(get_prompt, axis=1, is_train=True)\n",
    "test_group['prompt'] = test_group.apply(get_prompt, axis=1, is_train=False)"
   ]
  },
  {
   "cell_type": "code",
   "execution_count": 37,
   "metadata": {},
   "outputs": [
    {
     "name": "stdout",
     "output_type": "stream",
     "text": [
      "<|begin_of_text|> [INST] <<SYS>>\n",
      "You're operating as a movie recommendation system. Your task involves receiving a user's list of liked and disliked items, based on that information, you need to return a ranked list of recommended items the user is most likely to enjoy <</SYS>>\n",
      "I like the following items:\n",
      "Dumbo, Antz, Schindler s List, Mary Poppins, Sixth Sense The, Toy Story 2, Last Days of Disco The, Miracle on 34th Street, Saving Private Ryan, Bug s Life A, Snow White and the Seven Dwarfs, Pocahontas, Beauty and the Beast, Airplane, Bambi, Girl Interrupted, Titanic, Run Lola Run Lola rennt, Gigi, E T the Extra Terrestrial\n",
      "I dislike the following items:\n",
      "James and the Giant Peach, Tarzan, Princess Bride The\n",
      "\n",
      "Sugges me 24 items [/INST]\n",
      "Here a list:\n",
      "1. Ponette\n",
      "2. Sound of Music The\n",
      "3. Aladdin\n",
      "4. Hunchback of Notre Dame The\n",
      "5. Erin Brockovich\n",
      "6. Secret Garden The\n",
      "7. Apollo 13\n",
      "8. Wizard of Oz The\n",
      "9. Dead Poets Society\n",
      "10. Hercules\n",
      "11. Awakenings\n",
      "12. Ferris Bueller s Day Off\n",
      "13. One Flew Over the Cuckoo s Nest\n",
      "14. Rain Man\n",
      "15. Christmas Story A\n",
      "16. Back to the Future\n",
      "17. To Kill a Mockingbird\n",
      "18. Cinderella\n",
      "19. Ben Hur\n",
      "20. Wallace Gromit The Best of Aardman Animation\n",
      "21. Pleasantville\n",
      "22. My Fair Lady\n",
      "23. Meet Joe Black\n",
      "24. Close Shave A\n",
      "<|end_of_text|>\n"
     ]
    }
   ],
   "source": [
    "print(train_group['prompt'][0])"
   ]
  },
  {
   "cell_type": "code",
   "execution_count": 38,
   "metadata": {},
   "outputs": [
    {
     "name": "stdout",
     "output_type": "stream",
     "text": [
      "<|begin_of_text|> [INST] <<SYS>>\n",
      "You're operating as a movie recommendation system. Your task involves receiving a user's list of liked and disliked items, based on that information, you need to return a ranked list of recommended items the user is most likely to enjoy <</SYS>>\n",
      "I like the following items:\n",
      "Gone in 60 Seconds, Tequila Sunrise, To Gillian on Her 37th Birthday, Erin Brockovich, Legends of the Fall, Shanghai Noon, Pocahontas, Mary Poppins, Aladdin, Hercules, My Best Friend s Wedding, Top Gun, Straight Story The, Shakespeare in Love, Where the Heart Is, Murphy s Romance, Gladiator, Babe, Grease, Mask of Zorro The, Moonstruck, Umbrellas of Cherbourg The Parapluies de Cherbourg Les, Beauty and the Beast\n",
      "I dislike the following items:\n",
      "Pulp Fiction, Speed, Arthur, Peggy Sue Got Married, Dances with Wolves, Other Sister The, Splash, Apple Dumpling Gang The\n",
      "\n",
      "Sugges me 100 items [/INST]\n",
      "\n"
     ]
    }
   ],
   "source": [
    "print(test_group['prompt'][0])"
   ]
  },
  {
   "cell_type": "code",
   "execution_count": 39,
   "metadata": {},
   "outputs": [
    {
     "data": {
      "text/html": [
       "<div>\n",
       "<style scoped>\n",
       "    .dataframe tbody tr th:only-of-type {\n",
       "        vertical-align: middle;\n",
       "    }\n",
       "\n",
       "    .dataframe tbody tr th {\n",
       "        vertical-align: top;\n",
       "    }\n",
       "\n",
       "    .dataframe thead th {\n",
       "        text-align: right;\n",
       "    }\n",
       "</style>\n",
       "<table border=\"1\" class=\"dataframe\">\n",
       "  <thead>\n",
       "    <tr style=\"text-align: right;\">\n",
       "      <th></th>\n",
       "      <th>user</th>\n",
       "      <th>item</th>\n",
       "      <th>rating</th>\n",
       "      <th>len</th>\n",
       "      <th>index_like_prompt</th>\n",
       "      <th>index_like_resp</th>\n",
       "      <th>index_dislike_prompt</th>\n",
       "      <th>index_dislike_resp</th>\n",
       "      <th>liked_prompt</th>\n",
       "      <th>liked_resp</th>\n",
       "      <th>disliked_prompt</th>\n",
       "      <th>disliked_resp</th>\n",
       "      <th>user_prompt</th>\n",
       "      <th>assistant_prompt</th>\n",
       "      <th>prompt</th>\n",
       "    </tr>\n",
       "  </thead>\n",
       "  <tbody>\n",
       "    <tr>\n",
       "      <th>0</th>\n",
       "      <td>0</td>\n",
       "      <td>[8213, 6267, 6857, 6858, 6916, 7258, 8270, 686...</td>\n",
       "      <td>[1, 1, 1, 1, 1, 1, 1, 1, 1, 1, 1, 0, 1, 0, 0, ...</td>\n",
       "      <td>49</td>\n",
       "      <td>[0, 2, 3, 4, 6, 9, 15, 19, 23, 29, 30, 31, 32,...</td>\n",
       "      <td>[1, 5, 7, 8, 10, 12, 16, 17, 18, 20, 21, 22, 2...</td>\n",
       "      <td>[48, 42, 47]</td>\n",
       "      <td>[11, 13, 14, 24, 28]</td>\n",
       "      <td>[Run Lola Run Lola rennt, Mary Poppins, Dumbo,...</td>\n",
       "      <td>[Ponette, Sound of Music The, Aladdin, Hunchba...</td>\n",
       "      <td>[Tarzan, James and the Giant Peach, Princess B...</td>\n",
       "      <td>[Wallace Gromit The Best of Aardman Animation,...</td>\n",
       "      <td>I like the following items:\\nDumbo, Antz, Schi...</td>\n",
       "      <td>Here a list:\\n1. Ponette\\n2. Sound of Music Th...</td>\n",
       "      <td>&lt;|begin_of_text|&gt; [INST] &lt;&lt;SYS&gt;&gt;\\nYou're opera...</td>\n",
       "    </tr>\n",
       "    <tr>\n",
       "      <th>1</th>\n",
       "      <td>1</td>\n",
       "      <td>[6493, 8733, 7257, 7887, 7444, 8122, 7061, 789...</td>\n",
       "      <td>[1, 1, 1, 0, 0, 1, 1, 0, 1, 0, 1, 0, 0, 1, 1, ...</td>\n",
       "      <td>122</td>\n",
       "      <td>[0, 2, 6, 10, 14, 15, 20, 28, 31, 37, 42, 46, ...</td>\n",
       "      <td>[1, 5, 8, 13, 25, 26, 30, 34, 36, 38, 40, 44, ...</td>\n",
       "      <td>[66, 3, 67, 70, 7, 71, 73, 74, 11, 19, 21, 85,...</td>\n",
       "      <td>[4, 9, 12, 16, 17, 18, 22, 27, 29, 32, 33, 39,...</td>\n",
       "      <td>[Remains of the Day The, Lost World Jurassic P...</td>\n",
       "      <td>[Key Largo, Matrix The, Doctor Zhivago, Green ...</td>\n",
       "      <td>[Breakfast Club The, Children of a Lesser God,...</td>\n",
       "      <td>[Man in the Iron Mask The, Get Shorty, Fisher ...</td>\n",
       "      <td>I like the following items:\\nGandhi, Strictly ...</td>\n",
       "      <td>Here a list:\\n1. Key Largo\\n2. Matrix The\\n3. ...</td>\n",
       "      <td>&lt;|begin_of_text|&gt; [INST] &lt;&lt;SYS&gt;&gt;\\nYou're opera...</td>\n",
       "    </tr>\n",
       "  </tbody>\n",
       "</table>\n",
       "</div>"
      ],
      "text/plain": [
       "   user                                               item  \\\n",
       "0     0  [8213, 6267, 6857, 6858, 6916, 7258, 8270, 686...   \n",
       "1     1  [6493, 8733, 7257, 7887, 7444, 8122, 7061, 789...   \n",
       "\n",
       "                                              rating  len  \\\n",
       "0  [1, 1, 1, 1, 1, 1, 1, 1, 1, 1, 1, 0, 1, 0, 0, ...   49   \n",
       "1  [1, 1, 1, 0, 0, 1, 1, 0, 1, 0, 1, 0, 0, 1, 1, ...  122   \n",
       "\n",
       "                                   index_like_prompt  \\\n",
       "0  [0, 2, 3, 4, 6, 9, 15, 19, 23, 29, 30, 31, 32,...   \n",
       "1  [0, 2, 6, 10, 14, 15, 20, 28, 31, 37, 42, 46, ...   \n",
       "\n",
       "                                     index_like_resp  \\\n",
       "0  [1, 5, 7, 8, 10, 12, 16, 17, 18, 20, 21, 22, 2...   \n",
       "1  [1, 5, 8, 13, 25, 26, 30, 34, 36, 38, 40, 44, ...   \n",
       "\n",
       "                                index_dislike_prompt  \\\n",
       "0                                       [48, 42, 47]   \n",
       "1  [66, 3, 67, 70, 7, 71, 73, 74, 11, 19, 21, 85,...   \n",
       "\n",
       "                                  index_dislike_resp  \\\n",
       "0                               [11, 13, 14, 24, 28]   \n",
       "1  [4, 9, 12, 16, 17, 18, 22, 27, 29, 32, 33, 39,...   \n",
       "\n",
       "                                        liked_prompt  \\\n",
       "0  [Run Lola Run Lola rennt, Mary Poppins, Dumbo,...   \n",
       "1  [Remains of the Day The, Lost World Jurassic P...   \n",
       "\n",
       "                                          liked_resp  \\\n",
       "0  [Ponette, Sound of Music The, Aladdin, Hunchba...   \n",
       "1  [Key Largo, Matrix The, Doctor Zhivago, Green ...   \n",
       "\n",
       "                                     disliked_prompt  \\\n",
       "0  [Tarzan, James and the Giant Peach, Princess B...   \n",
       "1  [Breakfast Club The, Children of a Lesser God,...   \n",
       "\n",
       "                                       disliked_resp  \\\n",
       "0  [Wallace Gromit The Best of Aardman Animation,...   \n",
       "1  [Man in the Iron Mask The, Get Shorty, Fisher ...   \n",
       "\n",
       "                                         user_prompt  \\\n",
       "0  I like the following items:\\nDumbo, Antz, Schi...   \n",
       "1  I like the following items:\\nGandhi, Strictly ...   \n",
       "\n",
       "                                    assistant_prompt  \\\n",
       "0  Here a list:\\n1. Ponette\\n2. Sound of Music Th...   \n",
       "1  Here a list:\\n1. Key Largo\\n2. Matrix The\\n3. ...   \n",
       "\n",
       "                                              prompt  \n",
       "0  <|begin_of_text|> [INST] <<SYS>>\\nYou're opera...  \n",
       "1  <|begin_of_text|> [INST] <<SYS>>\\nYou're opera...  "
      ]
     },
     "execution_count": 39,
     "metadata": {},
     "output_type": "execute_result"
    }
   ],
   "source": [
    "train_group.head(2)"
   ]
  },
  {
   "cell_type": "code",
   "execution_count": 40,
   "metadata": {},
   "outputs": [],
   "source": [
    "def get_description_liked(row):\n",
    "    liked_item_index = row['index_like_resp']\n",
    "    likex_items = np.array(row['item'])[liked_item_index]\n",
    "    return '\\n'.join([item_desc_dict.get(y, '') for y in likex_items])"
   ]
  },
  {
   "cell_type": "code",
   "execution_count": 41,
   "metadata": {},
   "outputs": [],
   "source": [
    "train_group['descriptions'] = train_group['item'].apply(lambda x: [item_desc_dict.get(y, '') for y in x if len(item_desc_dict.get(y, ''))>2])\n",
    "#train_group['descriptions'] = train_group.apply(get_description_liked, axis=1)"
   ]
  },
  {
   "cell_type": "code",
   "execution_count": 42,
   "metadata": {},
   "outputs": [
    {
     "data": {
      "text/html": [
       "<div>\n",
       "<style scoped>\n",
       "    .dataframe tbody tr th:only-of-type {\n",
       "        vertical-align: middle;\n",
       "    }\n",
       "\n",
       "    .dataframe tbody tr th {\n",
       "        vertical-align: top;\n",
       "    }\n",
       "\n",
       "    .dataframe thead th {\n",
       "        text-align: right;\n",
       "    }\n",
       "</style>\n",
       "<table border=\"1\" class=\"dataframe\">\n",
       "  <thead>\n",
       "    <tr style=\"text-align: right;\">\n",
       "      <th></th>\n",
       "      <th>user</th>\n",
       "      <th>item</th>\n",
       "      <th>rating</th>\n",
       "      <th>len</th>\n",
       "      <th>index_like_prompt</th>\n",
       "      <th>index_like_resp</th>\n",
       "      <th>index_dislike_prompt</th>\n",
       "      <th>index_dislike_resp</th>\n",
       "      <th>liked_prompt</th>\n",
       "      <th>liked_resp</th>\n",
       "      <th>disliked_prompt</th>\n",
       "      <th>disliked_resp</th>\n",
       "      <th>user_prompt</th>\n",
       "      <th>assistant_prompt</th>\n",
       "      <th>prompt</th>\n",
       "      <th>descriptions</th>\n",
       "    </tr>\n",
       "  </thead>\n",
       "  <tbody>\n",
       "    <tr>\n",
       "      <th>0</th>\n",
       "      <td>0</td>\n",
       "      <td>[8213, 6267, 6857, 6858, 6916, 7258, 8270, 686...</td>\n",
       "      <td>[1, 1, 1, 1, 1, 1, 1, 1, 1, 1, 1, 0, 1, 0, 0, ...</td>\n",
       "      <td>49</td>\n",
       "      <td>[0, 2, 3, 4, 6, 9, 15, 19, 23, 29, 30, 31, 32,...</td>\n",
       "      <td>[1, 5, 7, 8, 10, 12, 16, 17, 18, 20, 21, 22, 2...</td>\n",
       "      <td>[48, 42, 47]</td>\n",
       "      <td>[11, 13, 14, 24, 28]</td>\n",
       "      <td>[Run Lola Run Lola rennt, Mary Poppins, Dumbo,...</td>\n",
       "      <td>[Ponette, Sound of Music The, Aladdin, Hunchba...</td>\n",
       "      <td>[Tarzan, James and the Giant Peach, Princess B...</td>\n",
       "      <td>[Wallace Gromit The Best of Aardman Animation,...</td>\n",
       "      <td>I like the following items:\\nDumbo, Antz, Schi...</td>\n",
       "      <td>Here a list:\\n1. Ponette\\n2. Sound of Music Th...</td>\n",
       "      <td>&lt;|begin_of_text|&gt; [INST] &lt;&lt;SYS&gt;&gt;\\nYou're opera...</td>\n",
       "      <td>[]</td>\n",
       "    </tr>\n",
       "    <tr>\n",
       "      <th>1</th>\n",
       "      <td>1</td>\n",
       "      <td>[6493, 8733, 7257, 7887, 7444, 8122, 7061, 789...</td>\n",
       "      <td>[1, 1, 1, 0, 0, 1, 1, 0, 1, 0, 1, 0, 0, 1, 1, ...</td>\n",
       "      <td>122</td>\n",
       "      <td>[0, 2, 6, 10, 14, 15, 20, 28, 31, 37, 42, 46, ...</td>\n",
       "      <td>[1, 5, 8, 13, 25, 26, 30, 34, 36, 38, 40, 44, ...</td>\n",
       "      <td>[66, 3, 67, 70, 7, 71, 73, 74, 11, 19, 21, 85,...</td>\n",
       "      <td>[4, 9, 12, 16, 17, 18, 22, 27, 29, 32, 33, 39,...</td>\n",
       "      <td>[Remains of the Day The, Lost World Jurassic P...</td>\n",
       "      <td>[Key Largo, Matrix The, Doctor Zhivago, Green ...</td>\n",
       "      <td>[Breakfast Club The, Children of a Lesser God,...</td>\n",
       "      <td>[Man in the Iron Mask The, Get Shorty, Fisher ...</td>\n",
       "      <td>I like the following items:\\nGandhi, Strictly ...</td>\n",
       "      <td>Here a list:\\n1. Key Largo\\n2. Matrix The\\n3. ...</td>\n",
       "      <td>&lt;|begin_of_text|&gt; [INST] &lt;&lt;SYS&gt;&gt;\\nYou're opera...</td>\n",
       "      <td>[]</td>\n",
       "    </tr>\n",
       "  </tbody>\n",
       "</table>\n",
       "</div>"
      ],
      "text/plain": [
       "   user                                               item  \\\n",
       "0     0  [8213, 6267, 6857, 6858, 6916, 7258, 8270, 686...   \n",
       "1     1  [6493, 8733, 7257, 7887, 7444, 8122, 7061, 789...   \n",
       "\n",
       "                                              rating  len  \\\n",
       "0  [1, 1, 1, 1, 1, 1, 1, 1, 1, 1, 1, 0, 1, 0, 0, ...   49   \n",
       "1  [1, 1, 1, 0, 0, 1, 1, 0, 1, 0, 1, 0, 0, 1, 1, ...  122   \n",
       "\n",
       "                                   index_like_prompt  \\\n",
       "0  [0, 2, 3, 4, 6, 9, 15, 19, 23, 29, 30, 31, 32,...   \n",
       "1  [0, 2, 6, 10, 14, 15, 20, 28, 31, 37, 42, 46, ...   \n",
       "\n",
       "                                     index_like_resp  \\\n",
       "0  [1, 5, 7, 8, 10, 12, 16, 17, 18, 20, 21, 22, 2...   \n",
       "1  [1, 5, 8, 13, 25, 26, 30, 34, 36, 38, 40, 44, ...   \n",
       "\n",
       "                                index_dislike_prompt  \\\n",
       "0                                       [48, 42, 47]   \n",
       "1  [66, 3, 67, 70, 7, 71, 73, 74, 11, 19, 21, 85,...   \n",
       "\n",
       "                                  index_dislike_resp  \\\n",
       "0                               [11, 13, 14, 24, 28]   \n",
       "1  [4, 9, 12, 16, 17, 18, 22, 27, 29, 32, 33, 39,...   \n",
       "\n",
       "                                        liked_prompt  \\\n",
       "0  [Run Lola Run Lola rennt, Mary Poppins, Dumbo,...   \n",
       "1  [Remains of the Day The, Lost World Jurassic P...   \n",
       "\n",
       "                                          liked_resp  \\\n",
       "0  [Ponette, Sound of Music The, Aladdin, Hunchba...   \n",
       "1  [Key Largo, Matrix The, Doctor Zhivago, Green ...   \n",
       "\n",
       "                                     disliked_prompt  \\\n",
       "0  [Tarzan, James and the Giant Peach, Princess B...   \n",
       "1  [Breakfast Club The, Children of a Lesser God,...   \n",
       "\n",
       "                                       disliked_resp  \\\n",
       "0  [Wallace Gromit The Best of Aardman Animation,...   \n",
       "1  [Man in the Iron Mask The, Get Shorty, Fisher ...   \n",
       "\n",
       "                                         user_prompt  \\\n",
       "0  I like the following items:\\nDumbo, Antz, Schi...   \n",
       "1  I like the following items:\\nGandhi, Strictly ...   \n",
       "\n",
       "                                    assistant_prompt  \\\n",
       "0  Here a list:\\n1. Ponette\\n2. Sound of Music Th...   \n",
       "1  Here a list:\\n1. Key Largo\\n2. Matrix The\\n3. ...   \n",
       "\n",
       "                                              prompt descriptions  \n",
       "0  <|begin_of_text|> [INST] <<SYS>>\\nYou're opera...           []  \n",
       "1  <|begin_of_text|> [INST] <<SYS>>\\nYou're opera...           []  "
      ]
     },
     "execution_count": 42,
     "metadata": {},
     "output_type": "execute_result"
    }
   ],
   "source": [
    "train_group.head(2)"
   ]
  },
  {
   "cell_type": "code",
   "execution_count": 43,
   "metadata": {},
   "outputs": [],
   "source": [
    "train_group.to_pickle(os.path.join(datapath, f'{dataset}_train_dataset_all_items.pkl'))\n",
    "test_group.to_pickle(os.path.join(datapath, f'{dataset}_test_dataset_all_items.pkl'))"
   ]
  },
  {
   "cell_type": "code",
   "execution_count": 44,
   "metadata": {},
   "outputs": [],
   "source": [
    "prompts = train_group['prompt'].tolist() * 3"
   ]
  },
  {
   "cell_type": "code",
   "execution_count": 45,
   "metadata": {},
   "outputs": [],
   "source": [
    "descriptions = list(item_desc_dict.values())"
   ]
  },
  {
   "cell_type": "code",
   "execution_count": 46,
   "metadata": {},
   "outputs": [],
   "source": [
    "descriptions = [f'{tokenizer.bos_token} ' + x + f' {tokenizer.eos_token}' for x in descriptions]"
   ]
  },
  {
   "cell_type": "code",
   "execution_count": 47,
   "metadata": {},
   "outputs": [],
   "source": [
    "import random \n",
    "\n",
    "random.seed(22)\n",
    "train_set = prompts + descriptions\n",
    "\n",
    "random.shuffle(train_set)"
   ]
  },
  {
   "cell_type": "code",
   "execution_count": 48,
   "metadata": {},
   "outputs": [
    {
     "data": {
      "text/plain": [
       "17555"
      ]
     },
     "execution_count": 48,
     "metadata": {},
     "output_type": "execute_result"
    }
   ],
   "source": [
    "len(train_set)"
   ]
  },
  {
   "cell_type": "code",
   "execution_count": 49,
   "metadata": {},
   "outputs": [],
   "source": [
    "import json\n",
    "\n",
    "with open(os.path.join(datapath, f'{dataset}_train_set_no_kn_all_items.jsonl'), 'w') as outfile:\n",
    "    for x in train_group['prompt'].tolist():\n",
    "        json.dump({'text':x}, outfile)\n",
    "        outfile.write('\\n')"
   ]
  },
  {
   "cell_type": "code",
   "execution_count": 50,
   "metadata": {},
   "outputs": [],
   "source": [
    "import json\n",
    "\n",
    "with open(os.path.join(datapath, f'{dataset}_train_set_all_items.jsonl'), 'w') as outfile:\n",
    "    for x in train_set:\n",
    "        json.dump({'text':x}, outfile)\n",
    "        outfile.write('\\n')"
   ]
  },
  {
   "cell_type": "code",
   "execution_count": 51,
   "metadata": {},
   "outputs": [],
   "source": [
    "prompts = test_group['prompt'].tolist()"
   ]
  },
  {
   "cell_type": "code",
   "execution_count": 52,
   "metadata": {},
   "outputs": [],
   "source": [
    "import json\n",
    "\n",
    "with open(os.path.join(datapath, f'{dataset}_test_set_all_items.jsonl'), 'w') as outfile:\n",
    "    for x in prompts:\n",
    "        json.dump({'text':x}, outfile)\n",
    "        outfile.write('\\n')"
   ]
  },
  {
   "cell_type": "markdown",
   "metadata": {},
   "source": [
    "# Baseline"
   ]
  },
  {
   "cell_type": "code",
   "execution_count": 53,
   "metadata": {},
   "outputs": [
    {
     "data": {
      "text/plain": [
       "\"train_bs = pd.concat([test_group.loc[:, ['user', 'index_like_prompt', 'index_dislike_prompt', 'item']],                      train_group.loc[:, ['user', 'index_like_prompt', 'index_dislike_prompt', 'item']]])\\ntest_bs = test_group.loc[:, ['user', 'index_like_resp', 'index_dislike_resp', 'item']]\""
      ]
     },
     "execution_count": 53,
     "metadata": {},
     "output_type": "execute_result"
    }
   ],
   "source": [
    "\"\"\"train_bs = pd.concat([test_group.loc[:, ['user', 'index_like_prompt', 'index_dislike_prompt', 'item']],\\\n",
    "                      train_group.loc[:, ['user', 'index_like_prompt', 'index_dislike_prompt', 'item']]])\n",
    "test_bs = test_group.loc[:, ['user', 'index_like_resp', 'index_dislike_resp', 'item']]\"\"\""
   ]
  },
  {
   "cell_type": "code",
   "execution_count": 54,
   "metadata": {},
   "outputs": [
    {
     "data": {
      "text/plain": [
       "\"train_bs['bs_format'] = train_bs.apply(lambda x:[{'user_id:token': x['user'], 'item_id:token': x['item'][item], 'rating:float': 1} for item in x['index_like_prompt']], axis=1)\\ntrain_bs['bs_format'] = train_bs['bs_format'] + train_bs.apply(lambda x:[{'user_id:token': x['user'], 'item_id:token': x['item'][item], 'rating:float': 0} for item in x['index_dislike_prompt']], axis=1)\\n\\ntest_bs['bs_format'] = test_bs.apply(lambda x:[{'user_id:token': x['user'], 'item_id:token': x['item'][item], 'rating:float': 1} for item in x['index_like_resp']], axis=1)\\ntest_bs['bs_format'] = test_bs['bs_format'] + test_bs.apply(lambda x:[{'user_id:token': x['user'], 'item_id:token': x['item'][item], 'rating:float': 0} for item in x['index_dislike_resp']], axis=1)\""
      ]
     },
     "execution_count": 54,
     "metadata": {},
     "output_type": "execute_result"
    }
   ],
   "source": [
    "\"\"\"train_bs['bs_format'] = train_bs.apply(lambda x:[{'user_id:token': x['user'], 'item_id:token': x['item'][item], 'rating:float': 1} for item in x['index_like_prompt']], axis=1)\n",
    "train_bs['bs_format'] = train_bs['bs_format'] + train_bs.apply(lambda x:[{'user_id:token': x['user'], 'item_id:token': x['item'][item], 'rating:float': 0} for item in x['index_dislike_prompt']], axis=1)\n",
    "\n",
    "test_bs['bs_format'] = test_bs.apply(lambda x:[{'user_id:token': x['user'], 'item_id:token': x['item'][item], 'rating:float': 1} for item in x['index_like_resp']], axis=1)\n",
    "test_bs['bs_format'] = test_bs['bs_format'] + test_bs.apply(lambda x:[{'user_id:token': x['user'], 'item_id:token': x['item'][item], 'rating:float': 0} for item in x['index_dislike_resp']], axis=1)\"\"\""
   ]
  },
  {
   "cell_type": "code",
   "execution_count": 55,
   "metadata": {},
   "outputs": [
    {
     "data": {
      "text/plain": [
       "\"import itertools\\n\\nos.makedirs(os.path.join(datapath, 'baseline'), exist_ok=True)\\npd.DataFrame(list(itertools.chain(*test_bs['bs_format'].tolist()))).to_csv(os.path.join(datapath, 'baseline', f'{dataset}.part3.inter'), sep='\\t', index=False)\\npd.DataFrame(list(itertools.chain(*train_bs['bs_format'].tolist()))).to_csv(os.path.join(datapath, 'baseline', f'{dataset}.part1.inter'), sep='\\t', index=False)\""
      ]
     },
     "execution_count": 55,
     "metadata": {},
     "output_type": "execute_result"
    }
   ],
   "source": [
    "\"\"\"import itertools\n",
    "\n",
    "os.makedirs(os.path.join(datapath, 'baseline'), exist_ok=True)\n",
    "pd.DataFrame(list(itertools.chain(*test_bs['bs_format'].tolist()))).to_csv(os.path.join(datapath, 'baseline', f'{dataset}.part3.inter'), sep='\\t', index=False)\n",
    "pd.DataFrame(list(itertools.chain(*train_bs['bs_format'].tolist()))).to_csv(os.path.join(datapath, 'baseline', f'{dataset}.part1.inter'), sep='\\t', index=False)\"\"\""
   ]
  }
 ],
 "metadata": {
  "kernelspec": {
   "display_name": "transfromers_env",
   "language": "python",
   "name": "python3"
  },
  "language_info": {
   "codemirror_mode": {
    "name": "ipython",
    "version": 3
   },
   "file_extension": ".py",
   "mimetype": "text/x-python",
   "name": "python",
   "nbconvert_exporter": "python",
   "pygments_lexer": "ipython3",
   "version": "undefined.undefined.undefined"
  }
 },
 "nbformat": 4,
 "nbformat_minor": 2
}
