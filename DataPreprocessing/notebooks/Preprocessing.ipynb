{
 "cells": [
  {
   "cell_type": "code",
   "execution_count": 1,
   "metadata": {},
   "outputs": [],
   "source": [
    "dataset = 'dbbook'\n",
    "\n",
    "domain = {\n",
    "    'lastfm': 'music',\n",
    "    'dbbook': 'book',\n",
    "    'movielens': 'movie'\n",
    "}[dataset]\n",
    "import os\n",
    "datapath = os.path.join('..', 'data', dataset)\n",
    "\n",
    "special_token = '<|reserved_special_token_22|>'\n",
    "\n",
    "resp_frac = 0.5"
   ]
  },
  {
   "cell_type": "markdown",
   "metadata": {},
   "source": [
    "# Set names"
   ]
  },
  {
   "cell_type": "code",
   "execution_count": 2,
   "metadata": {},
   "outputs": [],
   "source": [
    "import pandas as pd\n",
    "import os\n",
    "import random\n",
    "import numpy as np\n",
    "import swifter  "
   ]
  },
  {
   "cell_type": "code",
   "execution_count": 3,
   "metadata": {},
   "outputs": [],
   "source": [
    "user_item_df_train = pd.read_csv(os.path.join(datapath, 'user-item', 'train.tsv'), \\\n",
    "            names=['user', 'item', 'rating'], sep='\\t')\n",
    "\n",
    "user_item_df_test = pd.read_csv(os.path.join(datapath, 'user-item', 'test.tsv'), \\\n",
    "            names=['user', 'item', 'rating'], sep='\\t')\n",
    "\n",
    "\n",
    "df = pd.concat([user_item_df_train, user_item_df_test], ignore_index=True)\n",
    "all_items = df['item'].unique()"
   ]
  },
  {
   "cell_type": "code",
   "execution_count": 4,
   "metadata": {},
   "outputs": [],
   "source": [
    "def get_split_random(list_to_split, frac=0.2, margin=0):\n",
    "    random.seed(22)\n",
    "    sample_list = random.sample(list_to_split, int(frac*len(list_to_split))+margin)\n",
    "    complementary_set = set(list_to_split) - set(sample_list)\n",
    "    return list(set(complementary_set)), list(set(sample_list))"
   ]
  },
  {
   "cell_type": "code",
   "execution_count": 5,
   "metadata": {},
   "outputs": [],
   "source": [
    "random.seed(22)\n",
    "test_frac = 0.2\n",
    "user_list = df['user'].unique().tolist()\n",
    "user_train, user_test = get_split_random(user_list, frac=test_frac, margin=0)"
   ]
  },
  {
   "cell_type": "code",
   "execution_count": 6,
   "metadata": {},
   "outputs": [],
   "source": [
    "user_item_df_train = df[df['user'].isin(user_train)]\n",
    "user_item_df_test = df[df['user'].isin(user_test)]"
   ]
  },
  {
   "cell_type": "code",
   "execution_count": 7,
   "metadata": {},
   "outputs": [
    {
     "data": {
      "text/plain": [
       "4528"
      ]
     },
     "execution_count": 7,
     "metadata": {},
     "output_type": "execute_result"
    }
   ],
   "source": [
    "len(set(user_item_df_train['user'].unique()) - set(user_item_df_test['user'].unique()))"
   ]
  },
  {
   "cell_type": "code",
   "execution_count": 8,
   "metadata": {},
   "outputs": [
    {
     "data": {
      "text/plain": [
       "count    25955.000000\n",
       "mean         0.526373\n",
       "std          0.499314\n",
       "min          0.000000\n",
       "25%          0.000000\n",
       "50%          1.000000\n",
       "75%          1.000000\n",
       "max          1.000000\n",
       "Name: rating, dtype: float64"
      ]
     },
     "execution_count": 8,
     "metadata": {},
     "output_type": "execute_result"
    }
   ],
   "source": [
    "user_item_df_test['rating'].describe()"
   ]
  },
  {
   "cell_type": "code",
   "execution_count": 9,
   "metadata": {},
   "outputs": [
    {
     "data": {
      "text/plain": [
       "count    103558.000000\n",
       "mean          0.526555\n",
       "std           0.499297\n",
       "min           0.000000\n",
       "25%           0.000000\n",
       "50%           1.000000\n",
       "75%           1.000000\n",
       "max           1.000000\n",
       "Name: rating, dtype: float64"
      ]
     },
     "execution_count": 9,
     "metadata": {},
     "output_type": "execute_result"
    }
   ],
   "source": [
    "user_item_df_train['rating'].describe()"
   ]
  },
  {
   "cell_type": "code",
   "execution_count": 10,
   "metadata": {},
   "outputs": [],
   "source": [
    "train_group = user_item_df_train.groupby('user').agg({\n",
    "    'item': list,\n",
    "    'rating': list\n",
    "}).reset_index()\n",
    "test_group = user_item_df_test.groupby('user').agg({\n",
    "    'item': list,\n",
    "    'rating': list\n",
    "}).reset_index()\n",
    "train_group['len'] = train_group['item'].apply(len)\n",
    "test_group['len'] = test_group['item'].apply(len)"
   ]
  },
  {
   "cell_type": "code",
   "execution_count": 11,
   "metadata": {},
   "outputs": [],
   "source": [
    "def split_prompt_resp(row, resp_frac):\n",
    "    items = np.array(row['rating'])\n",
    "    index_likes = np.where(items==1)[0].tolist()\n",
    "    index_dilikes = np.where(items==0)[0].tolist()\n",
    "    index_like_prompt = []\n",
    "    index_like_resp = []    \n",
    "    index_dislike_prompt = []\n",
    "    index_dislike_resp = []\n",
    "    resp_frac=resp_frac\n",
    "    if len(index_likes) > 0:\n",
    "        index_like_prompt, index_like_resp = get_split_random(index_likes, frac=resp_frac, margin=1)\n",
    "    if len(index_dilikes) > 0:\n",
    "        index_dislike_prompt, index_dislike_resp = get_split_random(index_dilikes, frac=resp_frac, margin=1)\n",
    "    row['index_like_prompt'] = index_like_prompt\n",
    "    row['index_like_resp'] = index_like_resp\n",
    "    row['index_dislike_prompt'] = index_dislike_prompt\n",
    "    row['index_dislike_resp'] = index_dislike_resp\n",
    "    return row"
   ]
  },
  {
   "cell_type": "code",
   "execution_count": 12,
   "metadata": {},
   "outputs": [
    {
     "data": {
      "text/plain": [
       "count    1132.000000\n",
       "mean       22.928445\n",
       "std         7.870594\n",
       "min         7.000000\n",
       "25%        16.000000\n",
       "50%        23.000000\n",
       "75%        29.000000\n",
       "max        42.000000\n",
       "Name: len, dtype: float64"
      ]
     },
     "execution_count": 12,
     "metadata": {},
     "output_type": "execute_result"
    }
   ],
   "source": [
    "test_group['len'].describe()"
   ]
  },
  {
   "cell_type": "code",
   "execution_count": 13,
   "metadata": {},
   "outputs": [
    {
     "data": {
      "text/plain": [
       "count    4528.000000\n",
       "mean       22.870583\n",
       "std         7.754149\n",
       "min         7.000000\n",
       "25%        17.000000\n",
       "50%        23.000000\n",
       "75%        29.000000\n",
       "max        42.000000\n",
       "Name: len, dtype: float64"
      ]
     },
     "execution_count": 13,
     "metadata": {},
     "output_type": "execute_result"
    }
   ],
   "source": [
    "train_group['len'].describe()"
   ]
  },
  {
   "cell_type": "code",
   "execution_count": 14,
   "metadata": {},
   "outputs": [
    {
     "data": {
      "application/vnd.jupyter.widget-view+json": {
       "model_id": "47cd9fe930844ccea64737041d895604",
       "version_major": 2,
       "version_minor": 0
      },
      "text/plain": [
       "Pandas Apply:   0%|          | 0/1132 [00:00<?, ?it/s]"
      ]
     },
     "metadata": {},
     "output_type": "display_data"
    },
    {
     "data": {
      "application/vnd.jupyter.widget-view+json": {
       "model_id": "35384f048ff049dba1567ebd8a5d21f5",
       "version_major": 2,
       "version_minor": 0
      },
      "text/plain": [
       "Pandas Apply:   0%|          | 0/4528 [00:00<?, ?it/s]"
      ]
     },
     "metadata": {},
     "output_type": "display_data"
    }
   ],
   "source": [
    "test_group = test_group.swifter.apply(split_prompt_resp, axis=1, resp_frac=resp_frac)\n",
    "train_group = train_group.swifter.apply(split_prompt_resp, axis=1, resp_frac=resp_frac)"
   ]
  },
  {
   "cell_type": "code",
   "execution_count": 15,
   "metadata": {},
   "outputs": [
    {
     "data": {
      "text/html": [
       "<div>\n",
       "<style scoped>\n",
       "    .dataframe tbody tr th:only-of-type {\n",
       "        vertical-align: middle;\n",
       "    }\n",
       "\n",
       "    .dataframe tbody tr th {\n",
       "        vertical-align: top;\n",
       "    }\n",
       "\n",
       "    .dataframe thead th {\n",
       "        text-align: right;\n",
       "    }\n",
       "</style>\n",
       "<table border=\"1\" class=\"dataframe\">\n",
       "  <thead>\n",
       "    <tr style=\"text-align: right;\">\n",
       "      <th></th>\n",
       "      <th>user</th>\n",
       "      <th>item</th>\n",
       "      <th>rating</th>\n",
       "      <th>len</th>\n",
       "      <th>index_like_prompt</th>\n",
       "      <th>index_like_resp</th>\n",
       "      <th>index_dislike_prompt</th>\n",
       "      <th>index_dislike_resp</th>\n",
       "    </tr>\n",
       "  </thead>\n",
       "  <tbody>\n",
       "    <tr>\n",
       "      <th>0</th>\n",
       "      <td>13</td>\n",
       "      <td>[8062, 9705, 6314, 8587, 9996, 12354, 7374, 10...</td>\n",
       "      <td>[0, 0, 0, 0, 0, 0, 0, 0, 0, 0, 1, 1, 1, 1, 1, ...</td>\n",
       "      <td>23</td>\n",
       "      <td>[16, 19, 21, 11, 14]</td>\n",
       "      <td>[10, 12, 13, 15, 18, 20, 22]</td>\n",
       "      <td>[17, 4, 6, 8, 9]</td>\n",
       "      <td>[0, 1, 2, 3, 5, 7]</td>\n",
       "    </tr>\n",
       "    <tr>\n",
       "      <th>1</th>\n",
       "      <td>15</td>\n",
       "      <td>[12373, 12374, 12140, 11953, 10049, 10347, 743...</td>\n",
       "      <td>[1, 1, 1, 0, 0, 1, 1, 0, 0, 1, 1, 0]</td>\n",
       "      <td>12</td>\n",
       "      <td>[9, 2, 6]</td>\n",
       "      <td>[0, 1, 10, 5]</td>\n",
       "      <td>[8, 7]</td>\n",
       "      <td>[3, 11, 4]</td>\n",
       "    </tr>\n",
       "  </tbody>\n",
       "</table>\n",
       "</div>"
      ],
      "text/plain": [
       "   user                                               item  \\\n",
       "0    13  [8062, 9705, 6314, 8587, 9996, 12354, 7374, 10...   \n",
       "1    15  [12373, 12374, 12140, 11953, 10049, 10347, 743...   \n",
       "\n",
       "                                              rating  len  \\\n",
       "0  [0, 0, 0, 0, 0, 0, 0, 0, 0, 0, 1, 1, 1, 1, 1, ...   23   \n",
       "1               [1, 1, 1, 0, 0, 1, 1, 0, 0, 1, 1, 0]   12   \n",
       "\n",
       "      index_like_prompt               index_like_resp index_dislike_prompt  \\\n",
       "0  [16, 19, 21, 11, 14]  [10, 12, 13, 15, 18, 20, 22]     [17, 4, 6, 8, 9]   \n",
       "1             [9, 2, 6]                 [0, 1, 10, 5]               [8, 7]   \n",
       "\n",
       "   index_dislike_resp  \n",
       "0  [0, 1, 2, 3, 5, 7]  \n",
       "1          [3, 11, 4]  "
      ]
     },
     "execution_count": 15,
     "metadata": {},
     "output_type": "execute_result"
    }
   ],
   "source": [
    "test_group.head(2)"
   ]
  },
  {
   "cell_type": "code",
   "execution_count": 16,
   "metadata": {},
   "outputs": [
    {
     "data": {
      "text/plain": [
       "(1132, 8)"
      ]
     },
     "execution_count": 16,
     "metadata": {},
     "output_type": "execute_result"
    }
   ],
   "source": [
    "test_group.shape"
   ]
  },
  {
   "cell_type": "code",
   "execution_count": 17,
   "metadata": {},
   "outputs": [
    {
     "data": {
      "text/html": [
       "<div>\n",
       "<style scoped>\n",
       "    .dataframe tbody tr th:only-of-type {\n",
       "        vertical-align: middle;\n",
       "    }\n",
       "\n",
       "    .dataframe tbody tr th {\n",
       "        vertical-align: top;\n",
       "    }\n",
       "\n",
       "    .dataframe thead th {\n",
       "        text-align: right;\n",
       "    }\n",
       "</style>\n",
       "<table border=\"1\" class=\"dataframe\">\n",
       "  <thead>\n",
       "    <tr style=\"text-align: right;\">\n",
       "      <th></th>\n",
       "      <th>user</th>\n",
       "      <th>item</th>\n",
       "      <th>rating</th>\n",
       "      <th>len</th>\n",
       "      <th>index_like_prompt</th>\n",
       "      <th>index_like_resp</th>\n",
       "      <th>index_dislike_prompt</th>\n",
       "      <th>index_dislike_resp</th>\n",
       "    </tr>\n",
       "  </thead>\n",
       "  <tbody>\n",
       "    <tr>\n",
       "      <th>0</th>\n",
       "      <td>0</td>\n",
       "      <td>[8706, 9303, 6847, 6921, 6606, 11057, 9129, 12...</td>\n",
       "      <td>[1, 0, 0, 1, 1, 0, 0, 1, 1, 1, 0, 1]</td>\n",
       "      <td>12</td>\n",
       "      <td>[8, 9, 4]</td>\n",
       "      <td>[11, 0, 3, 7]</td>\n",
       "      <td>[5, 6]</td>\n",
       "      <td>[1, 2, 10]</td>\n",
       "    </tr>\n",
       "    <tr>\n",
       "      <th>1</th>\n",
       "      <td>1</td>\n",
       "      <td>[10489, 7463, 12345, 10154, 9875, 12337, 6765,...</td>\n",
       "      <td>[0, 1, 1, 1, 1, 1, 1, 1, 0, 0, 0, 0, 0, 0, 0, ...</td>\n",
       "      <td>20</td>\n",
       "      <td>[16, 18, 6, 7]</td>\n",
       "      <td>[1, 2, 3, 4, 5, 17]</td>\n",
       "      <td>[19, 12, 13, 14]</td>\n",
       "      <td>[0, 8, 9, 10, 11, 15]</td>\n",
       "    </tr>\n",
       "  </tbody>\n",
       "</table>\n",
       "</div>"
      ],
      "text/plain": [
       "   user                                               item  \\\n",
       "0     0  [8706, 9303, 6847, 6921, 6606, 11057, 9129, 12...   \n",
       "1     1  [10489, 7463, 12345, 10154, 9875, 12337, 6765,...   \n",
       "\n",
       "                                              rating  len index_like_prompt  \\\n",
       "0               [1, 0, 0, 1, 1, 0, 0, 1, 1, 1, 0, 1]   12         [8, 9, 4]   \n",
       "1  [0, 1, 1, 1, 1, 1, 1, 1, 0, 0, 0, 0, 0, 0, 0, ...   20    [16, 18, 6, 7]   \n",
       "\n",
       "       index_like_resp index_dislike_prompt     index_dislike_resp  \n",
       "0        [11, 0, 3, 7]               [5, 6]             [1, 2, 10]  \n",
       "1  [1, 2, 3, 4, 5, 17]     [19, 12, 13, 14]  [0, 8, 9, 10, 11, 15]  "
      ]
     },
     "execution_count": 17,
     "metadata": {},
     "output_type": "execute_result"
    }
   ],
   "source": [
    "train_group.head(2)"
   ]
  },
  {
   "cell_type": "code",
   "execution_count": 18,
   "metadata": {},
   "outputs": [
    {
     "data": {
      "text/plain": [
       "(4528, 8)"
      ]
     },
     "execution_count": 18,
     "metadata": {},
     "output_type": "execute_result"
    }
   ],
   "source": [
    "train_group.shape"
   ]
  },
  {
   "cell_type": "code",
   "execution_count": 19,
   "metadata": {},
   "outputs": [],
   "source": [
    "if dataset=='movielens':\n",
    "    def fix_title(title):\n",
    "        if \", The (\" in title:\n",
    "            name_film, _, year = title.rpartition(\", The (\")\n",
    "            title = \"The \" + name_film + \" (\" + year\n",
    "            return title\n",
    "        if \", A (\" in title:\n",
    "            name_film, _, year = title.rpartition(\", A (\")\n",
    "            title = \"A \" + name_film + \" (\" + year\n",
    "        return title, year\n",
    "    df_movies = pd.read_csv(os.path.join(datapath, r\"movies.dat\"), sep=\"::\", names=[\"item_id\", \"name\", \"geners\"], encoding='ISO-8859-1')\n",
    "    df_movies['name'] = df_movies['name'].apply(lambda x: fix_title(x)[0])\n",
    "    df_movies['year'] = df_movies['name'].apply(lambda x: fix_title(x)[1])\n",
    "    import re\n",
    "\n",
    "    df_relations = pd.read_csv(os.path.join(datapath, 'mapping_entities.tsv'), \\\n",
    "            names=['url', 'id_set'], sep='\\t')\n",
    "    dbpedia_mapping = pd.read_csv(os.path.join(datapath, 'MappingMovielens2DBpedia-1.2.tsv'), \\\n",
    "            names=['id_movie', 'name', 'dbpedia_url'], sep='\\t')\n",
    "    df_movies = dbpedia_mapping.set_index('dbpedia_url').join(df_relations.set_index('url')).reset_index()\n",
    "    df_movies['name'] = df_movies['name'].apply(lambda x: re.sub(\"\\s+\\(\\d+\\)$\", \"\", x))\n",
    "    df_movies['name'] = df_movies['name'].apply(lambda x: re.sub(r\"[^a-zA-Z0-9]+\", ' ', x).strip())\n",
    "    df_movies.dropna(inplace=True)\n",
    "    df_movies['id_set'] = df_movies['id_set'].astype(int)\n",
    "    mapping_dict = df_movies.loc[:, ['id_set', 'name', 'year']].set_index('id_set').to_dict()['name']"
   ]
  },
  {
   "cell_type": "code",
   "execution_count": 20,
   "metadata": {},
   "outputs": [],
   "source": [
    "if dataset=='dbbook':\n",
    "    df_relations = pd.read_csv(os.path.join(datapath, 'mapping_entities.tsv'), sep='\\t')\n",
    "    df_relations['name'] = df_relations['uri'].apply(lambda x: x.split(\";\")[0])\n",
    "    temp = df_relations[df_relations['id'].isin(df['item'].unique())]\n",
    "    mapping_dict = temp.set_index('id').to_dict()['name']"
   ]
  },
  {
   "cell_type": "code",
   "execution_count": 21,
   "metadata": {},
   "outputs": [],
   "source": [
    "if dataset=='lastfm':\n",
    "    df_relations = pd.read_csv(os.path.join(datapath, 'mapping_items.tsv'), \\\n",
    "            names=['id', 'name'], sep='\\t')\n",
    "    mapping_dict = df_relations.set_index('id').to_dict()['name']"
   ]
  },
  {
   "cell_type": "code",
   "execution_count": 22,
   "metadata": {},
   "outputs": [
    {
     "name": "stderr",
     "output_type": "stream",
     "text": [
      "C:\\Users\\petru\\AppData\\Local\\Temp\\ipykernel_34472\\2469010779.py:1: ParserWarning: Falling back to the 'python' engine because the 'c' engine does not support regex separators (separators > 1 char and different from '\\s+' are interpreted as regex); you can avoid this warning by specifying engine='python'.\n",
      "  item_desription = pd.read_csv(os.path.join(datapath, dataset+'.txt'), sep=';;', names=['item_id', 'description'],  on_bad_lines='skip')\n"
     ]
    }
   ],
   "source": [
    "item_desription = pd.read_csv(os.path.join(datapath, dataset+'.txt'), sep=';;', names=['item_id', 'description'],  on_bad_lines='skip')\n",
    "item_desription = item_desription[item_desription['item_id'].isin(all_items)]"
   ]
  },
  {
   "cell_type": "code",
   "execution_count": 23,
   "metadata": {},
   "outputs": [],
   "source": [
    "#item_desription['description'] = item_desription['description'].apply(lambda x: special_token + \" \" + x)"
   ]
  },
  {
   "cell_type": "code",
   "execution_count": 24,
   "metadata": {},
   "outputs": [],
   "source": [
    "import json\n",
    "\n",
    "with open(os.path.join(datapath, f'{dataset}_domain_kn.jsonl'), 'w') as outfile:\n",
    "    for new_id, desc in item_desription.to_dict()['description'].items():\n",
    "        json.dump({'target_id':new_id, 'text':desc}, outfile)\n",
    "        outfile.write('\\n')"
   ]
  },
  {
   "cell_type": "code",
   "execution_count": 25,
   "metadata": {},
   "outputs": [],
   "source": [
    "item_desc_dict = item_desription.to_dict()['description']"
   ]
  },
  {
   "cell_type": "markdown",
   "metadata": {},
   "source": [
    "## Prepare prompt"
   ]
  },
  {
   "cell_type": "code",
   "execution_count": 28,
   "metadata": {},
   "outputs": [
    {
     "data": {
      "text/html": [
       "<div>\n",
       "<style scoped>\n",
       "    .dataframe tbody tr th:only-of-type {\n",
       "        vertical-align: middle;\n",
       "    }\n",
       "\n",
       "    .dataframe tbody tr th {\n",
       "        vertical-align: top;\n",
       "    }\n",
       "\n",
       "    .dataframe thead th {\n",
       "        text-align: right;\n",
       "    }\n",
       "</style>\n",
       "<table border=\"1\" class=\"dataframe\">\n",
       "  <thead>\n",
       "    <tr style=\"text-align: right;\">\n",
       "      <th></th>\n",
       "      <th>user</th>\n",
       "      <th>item</th>\n",
       "      <th>rating</th>\n",
       "      <th>len</th>\n",
       "      <th>index_like_prompt</th>\n",
       "      <th>index_like_resp</th>\n",
       "      <th>index_dislike_prompt</th>\n",
       "      <th>index_dislike_resp</th>\n",
       "      <th>liked_prompt</th>\n",
       "      <th>liked_resp</th>\n",
       "      <th>disliked_prompt</th>\n",
       "      <th>disliked_resp</th>\n",
       "    </tr>\n",
       "  </thead>\n",
       "  <tbody>\n",
       "    <tr>\n",
       "      <th>0</th>\n",
       "      <td>0</td>\n",
       "      <td>[8706, 9303, 6847, 6921, 6606, 11057, 9129, 12...</td>\n",
       "      <td>[1, 0, 0, 1, 1, 0, 0, 1, 1, 1, 0, 1]</td>\n",
       "      <td>12</td>\n",
       "      <td>[8, 9, 4]</td>\n",
       "      <td>[11, 0, 3, 7]</td>\n",
       "      <td>[5, 6]</td>\n",
       "      <td>[1, 2, 10]</td>\n",
       "      <td>[7305, 7599, 6606]</td>\n",
       "      <td>[8670, 8706, 6921, 12020]</td>\n",
       "      <td>[11057, 9129]</td>\n",
       "      <td>[9303, 6847, 9021]</td>\n",
       "    </tr>\n",
       "    <tr>\n",
       "      <th>1</th>\n",
       "      <td>1</td>\n",
       "      <td>[10489, 7463, 12345, 10154, 9875, 12337, 6765,...</td>\n",
       "      <td>[0, 1, 1, 1, 1, 1, 1, 1, 0, 0, 0, 0, 0, 0, 0, ...</td>\n",
       "      <td>20</td>\n",
       "      <td>[16, 18, 6, 7]</td>\n",
       "      <td>[1, 2, 3, 4, 5, 17]</td>\n",
       "      <td>[19, 12, 13, 14]</td>\n",
       "      <td>[0, 8, 9, 10, 11, 15]</td>\n",
       "      <td>[6664, 6665, 6765, 12336]</td>\n",
       "      <td>[7463, 12345, 10154, 9875, 12337, 6666]</td>\n",
       "      <td>[9212, 11136, 10509, 11107]</td>\n",
       "      <td>[10489, 10131, 11810, 11257, 8355, 10890]</td>\n",
       "    </tr>\n",
       "    <tr>\n",
       "      <th>2</th>\n",
       "      <td>2</td>\n",
       "      <td>[6753, 10369, 9000, 8997, 8413, 7323, 12041, 1...</td>\n",
       "      <td>[0, 1, 0, 0, 0, 0, 1, 1, 1, 1, 1, 1, 1, 1, 1, ...</td>\n",
       "      <td>21</td>\n",
       "      <td>[16, 6, 9, 11, 13, 15]</td>\n",
       "      <td>[1, 7, 8, 10, 12, 14, 17]</td>\n",
       "      <td>[18, 19, 20]</td>\n",
       "      <td>[0, 2, 3, 4, 5]</td>\n",
       "      <td>[12104, 12041, 12859, 8587, 12150, 8780]</td>\n",
       "      <td>[10369, 12174, 7327, 12142, 8771, 8752, 12120]</td>\n",
       "      <td>[9527, 8563, 7333]</td>\n",
       "      <td>[6753, 9000, 8997, 8413, 7323]</td>\n",
       "    </tr>\n",
       "    <tr>\n",
       "      <th>3</th>\n",
       "      <td>3</td>\n",
       "      <td>[11383, 12338, 7463, 6323, 6321, 11151, 12777,...</td>\n",
       "      <td>[1, 1, 0, 1, 1, 1, 0, 0, 1, 1, 0, 1, 0, 0, 0, ...</td>\n",
       "      <td>19</td>\n",
       "      <td>[8, 9, 18, 11]</td>\n",
       "      <td>[0, 1, 3, 4, 5, 17]</td>\n",
       "      <td>[16, 13, 6, 14]</td>\n",
       "      <td>[2, 7, 10, 12, 15]</td>\n",
       "      <td>[10631, 6304, 12912, 6302]</td>\n",
       "      <td>[11383, 12338, 6323, 6321, 11151, 6316]</td>\n",
       "      <td>[6318, 8957, 12777, 9307]</td>\n",
       "      <td>[7463, 8472, 7374, 7866, 7323]</td>\n",
       "    </tr>\n",
       "    <tr>\n",
       "      <th>4</th>\n",
       "      <td>4</td>\n",
       "      <td>[11318, 11629, 12769, 10190, 10754, 8522, 9208...</td>\n",
       "      <td>[0, 1, 1, 1, 1, 0, 0, 0, 1, 0, 0, 1, 0, 0, 0, ...</td>\n",
       "      <td>17</td>\n",
       "      <td>[8, 11, 3]</td>\n",
       "      <td>[16, 1, 2, 4]</td>\n",
       "      <td>[10, 12, 13, 15]</td>\n",
       "      <td>[0, 5, 6, 7, 9, 14]</td>\n",
       "      <td>[10523, 9985, 10190]</td>\n",
       "      <td>[9822, 11629, 12769, 10754]</td>\n",
       "      <td>[8549, 9313, 10003, 8140]</td>\n",
       "      <td>[11318, 8522, 9208, 9249, 7603, 10409]</td>\n",
       "    </tr>\n",
       "  </tbody>\n",
       "</table>\n",
       "</div>"
      ],
      "text/plain": [
       "   user                                               item  \\\n",
       "0     0  [8706, 9303, 6847, 6921, 6606, 11057, 9129, 12...   \n",
       "1     1  [10489, 7463, 12345, 10154, 9875, 12337, 6765,...   \n",
       "2     2  [6753, 10369, 9000, 8997, 8413, 7323, 12041, 1...   \n",
       "3     3  [11383, 12338, 7463, 6323, 6321, 11151, 12777,...   \n",
       "4     4  [11318, 11629, 12769, 10190, 10754, 8522, 9208...   \n",
       "\n",
       "                                              rating  len  \\\n",
       "0               [1, 0, 0, 1, 1, 0, 0, 1, 1, 1, 0, 1]   12   \n",
       "1  [0, 1, 1, 1, 1, 1, 1, 1, 0, 0, 0, 0, 0, 0, 0, ...   20   \n",
       "2  [0, 1, 0, 0, 0, 0, 1, 1, 1, 1, 1, 1, 1, 1, 1, ...   21   \n",
       "3  [1, 1, 0, 1, 1, 1, 0, 0, 1, 1, 0, 1, 0, 0, 0, ...   19   \n",
       "4  [0, 1, 1, 1, 1, 0, 0, 0, 1, 0, 0, 1, 0, 0, 0, ...   17   \n",
       "\n",
       "        index_like_prompt            index_like_resp index_dislike_prompt  \\\n",
       "0               [8, 9, 4]              [11, 0, 3, 7]               [5, 6]   \n",
       "1          [16, 18, 6, 7]        [1, 2, 3, 4, 5, 17]     [19, 12, 13, 14]   \n",
       "2  [16, 6, 9, 11, 13, 15]  [1, 7, 8, 10, 12, 14, 17]         [18, 19, 20]   \n",
       "3          [8, 9, 18, 11]        [0, 1, 3, 4, 5, 17]      [16, 13, 6, 14]   \n",
       "4              [8, 11, 3]              [16, 1, 2, 4]     [10, 12, 13, 15]   \n",
       "\n",
       "      index_dislike_resp                              liked_prompt  \\\n",
       "0             [1, 2, 10]                        [7305, 7599, 6606]   \n",
       "1  [0, 8, 9, 10, 11, 15]                 [6664, 6665, 6765, 12336]   \n",
       "2        [0, 2, 3, 4, 5]  [12104, 12041, 12859, 8587, 12150, 8780]   \n",
       "3     [2, 7, 10, 12, 15]                [10631, 6304, 12912, 6302]   \n",
       "4    [0, 5, 6, 7, 9, 14]                      [10523, 9985, 10190]   \n",
       "\n",
       "                                       liked_resp  \\\n",
       "0                       [8670, 8706, 6921, 12020]   \n",
       "1         [7463, 12345, 10154, 9875, 12337, 6666]   \n",
       "2  [10369, 12174, 7327, 12142, 8771, 8752, 12120]   \n",
       "3         [11383, 12338, 6323, 6321, 11151, 6316]   \n",
       "4                     [9822, 11629, 12769, 10754]   \n",
       "\n",
       "               disliked_prompt                              disliked_resp  \n",
       "0                [11057, 9129]                         [9303, 6847, 9021]  \n",
       "1  [9212, 11136, 10509, 11107]  [10489, 10131, 11810, 11257, 8355, 10890]  \n",
       "2           [9527, 8563, 7333]             [6753, 9000, 8997, 8413, 7323]  \n",
       "3    [6318, 8957, 12777, 9307]             [7463, 8472, 7374, 7866, 7323]  \n",
       "4    [8549, 9313, 10003, 8140]     [11318, 8522, 9208, 9249, 7603, 10409]  "
      ]
     },
     "execution_count": 28,
     "metadata": {},
     "output_type": "execute_result"
    }
   ],
   "source": [
    "train_group.head()"
   ]
  },
  {
   "cell_type": "code",
   "execution_count": 36,
   "metadata": {},
   "outputs": [
    {
     "data": {
      "text/plain": [
       "'A Heartbreaking Work of Staggering Genius'"
      ]
     },
     "execution_count": 36,
     "metadata": {},
     "output_type": "execute_result"
    }
   ],
   "source": [
    "mapping_dict[8670]"
   ]
  },
  {
   "cell_type": "code",
   "execution_count": 37,
   "metadata": {},
   "outputs": [],
   "source": [
    "def map_with_names(row, col, mapping_dict):\n",
    "    return [mapping_dict.get(x, '') for x in np.array(row['item'])[row[col]] if len(mapping_dict.get(x, ''))>2]\n",
    "\n",
    "\n",
    "train_group['liked_prompt'] = train_group.apply(map_with_names, axis=1, col='index_like_prompt', mapping_dict=mapping_dict)\n",
    "train_group['liked_resp'] = train_group.apply(map_with_names, axis=1, col='index_like_resp', mapping_dict=mapping_dict)\n",
    "train_group['disliked_prompt'] = train_group.apply(map_with_names, axis=1, col='index_dislike_prompt', mapping_dict=mapping_dict)\n",
    "train_group['disliked_resp'] = train_group.apply(map_with_names, axis=1, col='index_dislike_resp', mapping_dict=mapping_dict)\n",
    "\n",
    "test_group['liked_prompt'] = test_group.apply(map_with_names, axis=1, col='index_like_prompt', mapping_dict=mapping_dict)\n",
    "test_group['liked_resp'] = test_group.apply(map_with_names, axis=1, col='index_like_resp', mapping_dict=mapping_dict)\n",
    "test_group['disliked_prompt'] = test_group.apply(map_with_names, axis=1, col='index_dislike_prompt', mapping_dict=mapping_dict)\n",
    "test_group['disliked_resp'] = test_group.apply(map_with_names, axis=1, col='index_dislike_resp', mapping_dict=mapping_dict)"
   ]
  },
  {
   "cell_type": "code",
   "execution_count": 38,
   "metadata": {},
   "outputs": [
    {
     "data": {
      "text/html": [
       "<div>\n",
       "<style scoped>\n",
       "    .dataframe tbody tr th:only-of-type {\n",
       "        vertical-align: middle;\n",
       "    }\n",
       "\n",
       "    .dataframe tbody tr th {\n",
       "        vertical-align: top;\n",
       "    }\n",
       "\n",
       "    .dataframe thead th {\n",
       "        text-align: right;\n",
       "    }\n",
       "</style>\n",
       "<table border=\"1\" class=\"dataframe\">\n",
       "  <thead>\n",
       "    <tr style=\"text-align: right;\">\n",
       "      <th></th>\n",
       "      <th>user</th>\n",
       "      <th>item</th>\n",
       "      <th>rating</th>\n",
       "      <th>len</th>\n",
       "      <th>index_like_prompt</th>\n",
       "      <th>index_like_resp</th>\n",
       "      <th>index_dislike_prompt</th>\n",
       "      <th>index_dislike_resp</th>\n",
       "      <th>liked_prompt</th>\n",
       "      <th>liked_resp</th>\n",
       "      <th>disliked_prompt</th>\n",
       "      <th>disliked_resp</th>\n",
       "    </tr>\n",
       "  </thead>\n",
       "  <tbody>\n",
       "    <tr>\n",
       "      <th>0</th>\n",
       "      <td>0</td>\n",
       "      <td>[8706, 9303, 6847, 6921, 6606, 11057, 9129, 12...</td>\n",
       "      <td>[1, 0, 0, 1, 1, 0, 0, 1, 1, 1, 0, 1]</td>\n",
       "      <td>12</td>\n",
       "      <td>[8, 9, 4]</td>\n",
       "      <td>[11, 0, 3, 7]</td>\n",
       "      <td>[5, 6]</td>\n",
       "      <td>[1, 2, 10]</td>\n",
       "      <td>[The Bell Jar, The Structure of Scientific Rev...</td>\n",
       "      <td>[A Heartbreaking Work of Staggering Genius, A ...</td>\n",
       "      <td>[Me Talk Pretty One Day, Sophie's World]</td>\n",
       "      <td>[Darwin's Black Box, The Solitaire Mystery, Ph...</td>\n",
       "    </tr>\n",
       "    <tr>\n",
       "      <th>1</th>\n",
       "      <td>1</td>\n",
       "      <td>[10489, 7463, 12345, 10154, 9875, 12337, 6765,...</td>\n",
       "      <td>[0, 1, 1, 1, 1, 1, 1, 1, 0, 0, 0, 0, 0, 0, 0, ...</td>\n",
       "      <td>20</td>\n",
       "      <td>[16, 18, 6, 7]</td>\n",
       "      <td>[1, 2, 3, 4, 5, 17]</td>\n",
       "      <td>[19, 12, 13, 14]</td>\n",
       "      <td>[0, 8, 9, 10, 11, 15]</td>\n",
       "      <td>[The Lion, the Witch and the Wardrobe, Prince ...</td>\n",
       "      <td>[The Magician's Nephew, Executive Orders, An E...</td>\n",
       "      <td>[A Letter of Mary, The Shelters of Stone, Gods...</td>\n",
       "      <td>[Troubling a Star, The Young Unicorns, Perelan...</td>\n",
       "    </tr>\n",
       "  </tbody>\n",
       "</table>\n",
       "</div>"
      ],
      "text/plain": [
       "   user                                               item  \\\n",
       "0     0  [8706, 9303, 6847, 6921, 6606, 11057, 9129, 12...   \n",
       "1     1  [10489, 7463, 12345, 10154, 9875, 12337, 6765,...   \n",
       "\n",
       "                                              rating  len index_like_prompt  \\\n",
       "0               [1, 0, 0, 1, 1, 0, 0, 1, 1, 1, 0, 1]   12         [8, 9, 4]   \n",
       "1  [0, 1, 1, 1, 1, 1, 1, 1, 0, 0, 0, 0, 0, 0, 0, ...   20    [16, 18, 6, 7]   \n",
       "\n",
       "       index_like_resp index_dislike_prompt     index_dislike_resp  \\\n",
       "0        [11, 0, 3, 7]               [5, 6]             [1, 2, 10]   \n",
       "1  [1, 2, 3, 4, 5, 17]     [19, 12, 13, 14]  [0, 8, 9, 10, 11, 15]   \n",
       "\n",
       "                                        liked_prompt  \\\n",
       "0  [The Bell Jar, The Structure of Scientific Rev...   \n",
       "1  [The Lion, the Witch and the Wardrobe, Prince ...   \n",
       "\n",
       "                                          liked_resp  \\\n",
       "0  [A Heartbreaking Work of Staggering Genius, A ...   \n",
       "1  [The Magician's Nephew, Executive Orders, An E...   \n",
       "\n",
       "                                     disliked_prompt  \\\n",
       "0           [Me Talk Pretty One Day, Sophie's World]   \n",
       "1  [A Letter of Mary, The Shelters of Stone, Gods...   \n",
       "\n",
       "                                       disliked_resp  \n",
       "0  [Darwin's Black Box, The Solitaire Mystery, Ph...  \n",
       "1  [Troubling a Star, The Young Unicorns, Perelan...  "
      ]
     },
     "execution_count": 38,
     "metadata": {},
     "output_type": "execute_result"
    }
   ],
   "source": [
    "train_group.head(2)"
   ]
  },
  {
   "cell_type": "code",
   "execution_count": 39,
   "metadata": {},
   "outputs": [],
   "source": [
    "train = []\n",
    "test = []\n",
    "for _, row in test_group.iterrows():\n",
    "    for item in row['liked_prompt']:\n",
    "        train.append({\n",
    "            'user_id': row['user'],\n",
    "            'item_id': item,\n",
    "            'score': 1\n",
    "        })\n",
    "    for item in row['disliked_prompt']:\n",
    "        train.append({\n",
    "            'user_id': row['user'],\n",
    "            'item_id': item,\n",
    "            'score': 0\n",
    "        })\n",
    "    for item in row['liked_resp']:\n",
    "        test.append({\n",
    "            'user_id': row['user'],\n",
    "            'item_id': item,\n",
    "            'score': 1\n",
    "        })\n",
    "    for item in row['disliked_resp']:\n",
    "        test.append({\n",
    "            'user_id': row['user'],\n",
    "            'item_id': item,\n",
    "            'score': 0\n",
    "        })\n",
    "\n",
    "pd.DataFrame(train).to_csv(\"train_adaptation.csv\")\n",
    "                    "
   ]
  },
  {
   "cell_type": "code",
   "execution_count": 40,
   "metadata": {},
   "outputs": [],
   "source": [
    "import random\n",
    "import itertools\n",
    "\n",
    "def prepare_user_prompt(row):\n",
    "    random.seed(22)\n",
    "    user_prompt = ''\n",
    "    liked_list = ', '\n",
    "    disliked_list = ', '\n",
    "    liked_part = \"\"\"I like the following items:\\n{liked_list}\\n\"\"\"\n",
    "    disliked_part = \"\"\"I dislike the following items:\\n{disliked_list}\\n\"\"\"\n",
    "    liked_items = sorted(row['liked_prompt'], key=lambda k: random.random())\n",
    "    disliked_items = sorted(row['disliked_prompt'], key=lambda k: random.random())\n",
    "    liked_list = liked_list.join(liked_items)\n",
    "    disliked_list = disliked_list.join(disliked_items)\n",
    "    if len(liked_items)>0:\n",
    "        user_prompt = user_prompt + liked_part.format(liked_list=liked_list)\n",
    "    if len(disliked_list)>0:\n",
    "        user_prompt = user_prompt + disliked_part.format(disliked_list=disliked_list)\n",
    "    \n",
    "    to_rank_list_str = ', '\n",
    "    response_part = \"\"\"\\nRank the following items:\\n{to_rank_list}\"\"\"\n",
    "    to_rank_list = list(itertools.chain(*[row['liked_resp'], row['disliked_resp']]))\n",
    "    to_rank_list = sorted(to_rank_list, key=lambda k: random.random())\n",
    "    to_rank_list = to_rank_list_str.join(to_rank_list)\n",
    "    user_prompt = user_prompt + response_part.format(to_rank_list=to_rank_list)\n",
    "    return user_prompt\n",
    "        \n",
    "def get_assistant_prompt(row):\n",
    "    ranked_list_str = ''\n",
    "    rank_part = \"\"\"Here a list:\\n{ranked_list}\\n\"\"\"\n",
    "    for i, x in enumerate(row['liked_resp']):\n",
    "        ranked_list_str = ranked_list_str + f\"{i+1}. {x}\\n\"\n",
    "    for i, x in enumerate(row['disliked_resp'], len(row['liked_resp'])):\n",
    "        ranked_list_str = ranked_list_str + f\"{i+1}. {x}\\n\"\n",
    "    return rank_part.format(ranked_list=ranked_list_str)[:-1]\n",
    "\n",
    "\n",
    "train_group['user_prompt'] = train_group.apply(prepare_user_prompt, axis=1)\n",
    "train_group['assistant_prompt'] = train_group.apply(get_assistant_prompt, axis=1)\n",
    "\n",
    "test_group['user_prompt'] = test_group.apply(prepare_user_prompt, axis=1)\n",
    "test_group['assistant_prompt'] = test_group.apply(get_assistant_prompt, axis=1)"
   ]
  },
  {
   "cell_type": "code",
   "execution_count": 41,
   "metadata": {},
   "outputs": [
    {
     "name": "stdout",
     "output_type": "stream",
     "text": [
      "I like the following items:\n",
      "The Crow Road, The Wasp Factory, Jonathan Strange & Mr Norrell, Ibid: A Life, Espedair Street, Something Wicked This Way Comes\n",
      "I dislike the following items:\n",
      "The Boy in the Striped Pyjamas, The Angel of Darkness, American Gods\n",
      "\n",
      "Rank the following items:\n",
      "Last Orders, American Psycho, The Razor's Edge, Ella Minnow Pea, The Da Vinci Code, Notes from a Small Island, The Lovely Bones, Winter in Madrid, A Big Boy Did It and Ran Away, The Alienist, Not the End of the World, The Curious Incident of the Dog in the Night-Time\n"
     ]
    }
   ],
   "source": [
    "print(train_group.loc[150, 'user_prompt'])"
   ]
  },
  {
   "cell_type": "code",
   "execution_count": 42,
   "metadata": {},
   "outputs": [
    {
     "name": "stdout",
     "output_type": "stream",
     "text": [
      "Here a list:\n",
      "1. American Psycho\n",
      "2. The Curious Incident of the Dog in the Night-Time\n",
      "3. Ella Minnow Pea\n",
      "4. Notes from a Small Island\n",
      "5. Not the End of the World\n",
      "6. The Lovely Bones\n",
      "7. The Alienist\n",
      "8. Winter in Madrid\n",
      "9. Last Orders\n",
      "10. A Big Boy Did It and Ran Away\n",
      "11. The Da Vinci Code\n",
      "12. The Razor's Edge\n",
      "\n"
     ]
    }
   ],
   "source": [
    "print(train_group.loc[150, 'assistant_prompt'])"
   ]
  },
  {
   "cell_type": "code",
   "execution_count": 43,
   "metadata": {},
   "outputs": [
    {
     "name": "stderr",
     "output_type": "stream",
     "text": [
      "Special tokens have been added in the vocabulary, make sure the associated word embeddings are fine-tuned or trained.\n"
     ]
    }
   ],
   "source": [
    "from transformers import AutoTokenizer\n",
    "tokenizer = AutoTokenizer.from_pretrained(\"meta-llama/Meta-Llama-3-8B\")\n",
    "tokenizer.pad_token = tokenizer.eos_token\n",
    "#tokenizer.chat_template =  \"{% set ns = namespace(i=0) %}\" \\\n",
    "#                            \"{% for message in messages %}\" \\\n",
    "#                                \"{% if message['role'] == 'system' and ns.i == 0 %}\" \\\n",
    "#                                       \"{{ bos_token +' [INST] <<SYS>>\\n' }}\" \\\n",
    "#                                       \"{{ message['content'] + ' <</SYS>>\\n'}}\" \\\n",
    "#                                \"{% elif message['role'] == 'user' %}\" \\\n",
    "#                                    \"{{ message['content'] + ' [/INST]\\n'}}\" \\\n",
    "#                                \"<|reserved_special_token_22|>\\n\"\\\n",
    "#                                \"{% elif message['role'] == 'assistant' %}\" \\\n",
    "#                                    \"{{ message['content'] + ' ' + eos_token }}\" \\\n",
    "#                                \"{% endif %}\" \\\n",
    "#                                \"{% set ns.i = ns.i+1 %}\" \\\n",
    "#                            \"{% endfor %}\"\n",
    "#\n",
    "tokenizer.chat_template =  \"{% set ns = namespace(i=0) %}\" \\\n",
    "                            \"{% for message in messages %}\" \\\n",
    "                                \"{% if message['role'] == 'system' and ns.i == 0 %}\" \\\n",
    "                                       \"{{ bos_token +' [INST] <<SYS>>\\n' }}\" \\\n",
    "                                       \"{{ message['content'] + ' <</SYS>>\\n'}}\" \\\n",
    "                                \"{% elif message['role'] == 'user' %}\" \\\n",
    "                                    \"{{ message['content'] + ' [/INST]\\n'}}\" \\\n",
    "                                \"{% elif message['role'] == 'assistant' %}\" \\\n",
    "                                    \"{{ message['content'] + '' + eos_token }}\" \\\n",
    "                                \"{% endif %}\" \\\n",
    "                                \"{% set ns.i = ns.i+1 %}\" \\\n",
    "                            \"{% endfor %}\""
   ]
  },
  {
   "cell_type": "code",
   "execution_count": 44,
   "metadata": {},
   "outputs": [],
   "source": [
    "def get_prompt(row, is_train=True):\n",
    "    messages = [\n",
    "    {\"role\": \"system\", \"content\": f\"You're operating as a {domain} recommendation system. Your task involves receiving a user's list of liked and disliked items, along with a set of candidate items, and then reordering them based on preferences.\"},\n",
    "    {\"role\": \"user\", \"content\": row['user_prompt']}\n",
    "    ]\n",
    "    if is_train:\n",
    "        messages.append({\"role\": \"assistant\", \"content\": row['assistant_prompt']})\n",
    "    return tokenizer.apply_chat_template(messages, tokenize=False)"
   ]
  },
  {
   "cell_type": "code",
   "execution_count": 45,
   "metadata": {},
   "outputs": [],
   "source": [
    "train_group['prompt'] = train_group.apply(get_prompt, axis=1, is_train=True)\n",
    "test_group['prompt'] = test_group.apply(get_prompt, axis=1, is_train=False)"
   ]
  },
  {
   "cell_type": "code",
   "execution_count": 46,
   "metadata": {},
   "outputs": [
    {
     "data": {
      "text/html": [
       "<div>\n",
       "<style scoped>\n",
       "    .dataframe tbody tr th:only-of-type {\n",
       "        vertical-align: middle;\n",
       "    }\n",
       "\n",
       "    .dataframe tbody tr th {\n",
       "        vertical-align: top;\n",
       "    }\n",
       "\n",
       "    .dataframe thead th {\n",
       "        text-align: right;\n",
       "    }\n",
       "</style>\n",
       "<table border=\"1\" class=\"dataframe\">\n",
       "  <thead>\n",
       "    <tr style=\"text-align: right;\">\n",
       "      <th></th>\n",
       "      <th>user</th>\n",
       "      <th>item</th>\n",
       "      <th>rating</th>\n",
       "      <th>len</th>\n",
       "      <th>index_like_prompt</th>\n",
       "      <th>index_like_resp</th>\n",
       "      <th>index_dislike_prompt</th>\n",
       "      <th>index_dislike_resp</th>\n",
       "      <th>liked_prompt</th>\n",
       "      <th>liked_resp</th>\n",
       "      <th>disliked_prompt</th>\n",
       "      <th>disliked_resp</th>\n",
       "      <th>user_prompt</th>\n",
       "      <th>assistant_prompt</th>\n",
       "      <th>prompt</th>\n",
       "    </tr>\n",
       "  </thead>\n",
       "  <tbody>\n",
       "    <tr>\n",
       "      <th>0</th>\n",
       "      <td>0</td>\n",
       "      <td>[8706, 9303, 6847, 6921, 6606, 11057, 9129, 12...</td>\n",
       "      <td>[1, 0, 0, 1, 1, 0, 0, 1, 1, 1, 0, 1]</td>\n",
       "      <td>12</td>\n",
       "      <td>[8, 9, 4]</td>\n",
       "      <td>[11, 0, 3, 7]</td>\n",
       "      <td>[5, 6]</td>\n",
       "      <td>[1, 2, 10]</td>\n",
       "      <td>[The Bell Jar, The Structure of Scientific Rev...</td>\n",
       "      <td>[A Heartbreaking Work of Staggering Genius, A ...</td>\n",
       "      <td>[Me Talk Pretty One Day, Sophie's World]</td>\n",
       "      <td>[Darwin's Black Box, The Solitaire Mystery, Ph...</td>\n",
       "      <td>I like the following items:\\nContingency, Iron...</td>\n",
       "      <td>Here a list:\\n1. A Heartbreaking Work of Stagg...</td>\n",
       "      <td>&lt;|begin_of_text|&gt; [INST] &lt;&lt;SYS&gt;&gt;\\nYou're opera...</td>\n",
       "    </tr>\n",
       "    <tr>\n",
       "      <th>1</th>\n",
       "      <td>1</td>\n",
       "      <td>[10489, 7463, 12345, 10154, 9875, 12337, 6765,...</td>\n",
       "      <td>[0, 1, 1, 1, 1, 1, 1, 1, 0, 0, 0, 0, 0, 0, 0, ...</td>\n",
       "      <td>20</td>\n",
       "      <td>[16, 18, 6, 7]</td>\n",
       "      <td>[1, 2, 3, 4, 5, 17]</td>\n",
       "      <td>[19, 12, 13, 14]</td>\n",
       "      <td>[0, 8, 9, 10, 11, 15]</td>\n",
       "      <td>[The Lion, the Witch and the Wardrobe, Prince ...</td>\n",
       "      <td>[The Magician's Nephew, Executive Orders, An E...</td>\n",
       "      <td>[A Letter of Mary, The Shelters of Stone, Gods...</td>\n",
       "      <td>[Troubling a Star, The Young Unicorns, Perelan...</td>\n",
       "      <td>I like the following items:\\nThe Language of G...</td>\n",
       "      <td>Here a list:\\n1. The Magician's Nephew\\n2. Exe...</td>\n",
       "      <td>&lt;|begin_of_text|&gt; [INST] &lt;&lt;SYS&gt;&gt;\\nYou're opera...</td>\n",
       "    </tr>\n",
       "  </tbody>\n",
       "</table>\n",
       "</div>"
      ],
      "text/plain": [
       "   user                                               item  \\\n",
       "0     0  [8706, 9303, 6847, 6921, 6606, 11057, 9129, 12...   \n",
       "1     1  [10489, 7463, 12345, 10154, 9875, 12337, 6765,...   \n",
       "\n",
       "                                              rating  len index_like_prompt  \\\n",
       "0               [1, 0, 0, 1, 1, 0, 0, 1, 1, 1, 0, 1]   12         [8, 9, 4]   \n",
       "1  [0, 1, 1, 1, 1, 1, 1, 1, 0, 0, 0, 0, 0, 0, 0, ...   20    [16, 18, 6, 7]   \n",
       "\n",
       "       index_like_resp index_dislike_prompt     index_dislike_resp  \\\n",
       "0        [11, 0, 3, 7]               [5, 6]             [1, 2, 10]   \n",
       "1  [1, 2, 3, 4, 5, 17]     [19, 12, 13, 14]  [0, 8, 9, 10, 11, 15]   \n",
       "\n",
       "                                        liked_prompt  \\\n",
       "0  [The Bell Jar, The Structure of Scientific Rev...   \n",
       "1  [The Lion, the Witch and the Wardrobe, Prince ...   \n",
       "\n",
       "                                          liked_resp  \\\n",
       "0  [A Heartbreaking Work of Staggering Genius, A ...   \n",
       "1  [The Magician's Nephew, Executive Orders, An E...   \n",
       "\n",
       "                                     disliked_prompt  \\\n",
       "0           [Me Talk Pretty One Day, Sophie's World]   \n",
       "1  [A Letter of Mary, The Shelters of Stone, Gods...   \n",
       "\n",
       "                                       disliked_resp  \\\n",
       "0  [Darwin's Black Box, The Solitaire Mystery, Ph...   \n",
       "1  [Troubling a Star, The Young Unicorns, Perelan...   \n",
       "\n",
       "                                         user_prompt  \\\n",
       "0  I like the following items:\\nContingency, Iron...   \n",
       "1  I like the following items:\\nThe Language of G...   \n",
       "\n",
       "                                    assistant_prompt  \\\n",
       "0  Here a list:\\n1. A Heartbreaking Work of Stagg...   \n",
       "1  Here a list:\\n1. The Magician's Nephew\\n2. Exe...   \n",
       "\n",
       "                                              prompt  \n",
       "0  <|begin_of_text|> [INST] <<SYS>>\\nYou're opera...  \n",
       "1  <|begin_of_text|> [INST] <<SYS>>\\nYou're opera...  "
      ]
     },
     "execution_count": 46,
     "metadata": {},
     "output_type": "execute_result"
    }
   ],
   "source": [
    "train_group.head(2)"
   ]
  },
  {
   "cell_type": "code",
   "execution_count": 47,
   "metadata": {},
   "outputs": [],
   "source": [
    "def get_description_liked(row):\n",
    "    liked_item_index = row['index_like_resp']\n",
    "    likex_items = np.array(row['item'])[liked_item_index]\n",
    "    return '\\n'.join([item_desc_dict.get(y, '') for y in likex_items])"
   ]
  },
  {
   "cell_type": "code",
   "execution_count": 48,
   "metadata": {},
   "outputs": [],
   "source": [
    "train_group['descriptions'] = train_group['item'].apply(lambda x: [item_desc_dict.get(y, '') for y in x if len(item_desc_dict.get(y, ''))>2])\n",
    "#train_group['descriptions'] = train_group.apply(get_description_liked, axis=1)"
   ]
  },
  {
   "cell_type": "code",
   "execution_count": 49,
   "metadata": {},
   "outputs": [
    {
     "data": {
      "text/html": [
       "<div>\n",
       "<style scoped>\n",
       "    .dataframe tbody tr th:only-of-type {\n",
       "        vertical-align: middle;\n",
       "    }\n",
       "\n",
       "    .dataframe tbody tr th {\n",
       "        vertical-align: top;\n",
       "    }\n",
       "\n",
       "    .dataframe thead th {\n",
       "        text-align: right;\n",
       "    }\n",
       "</style>\n",
       "<table border=\"1\" class=\"dataframe\">\n",
       "  <thead>\n",
       "    <tr style=\"text-align: right;\">\n",
       "      <th></th>\n",
       "      <th>user</th>\n",
       "      <th>item</th>\n",
       "      <th>rating</th>\n",
       "      <th>len</th>\n",
       "      <th>index_like_prompt</th>\n",
       "      <th>index_like_resp</th>\n",
       "      <th>index_dislike_prompt</th>\n",
       "      <th>index_dislike_resp</th>\n",
       "      <th>liked_prompt</th>\n",
       "      <th>liked_resp</th>\n",
       "      <th>disliked_prompt</th>\n",
       "      <th>disliked_resp</th>\n",
       "      <th>user_prompt</th>\n",
       "      <th>assistant_prompt</th>\n",
       "      <th>prompt</th>\n",
       "      <th>descriptions</th>\n",
       "    </tr>\n",
       "  </thead>\n",
       "  <tbody>\n",
       "    <tr>\n",
       "      <th>0</th>\n",
       "      <td>0</td>\n",
       "      <td>[8706, 9303, 6847, 6921, 6606, 11057, 9129, 12...</td>\n",
       "      <td>[1, 0, 0, 1, 1, 0, 0, 1, 1, 1, 0, 1]</td>\n",
       "      <td>12</td>\n",
       "      <td>[8, 9, 4]</td>\n",
       "      <td>[11, 0, 3, 7]</td>\n",
       "      <td>[5, 6]</td>\n",
       "      <td>[1, 2, 10]</td>\n",
       "      <td>[The Bell Jar, The Structure of Scientific Rev...</td>\n",
       "      <td>[A Heartbreaking Work of Staggering Genius, A ...</td>\n",
       "      <td>[Me Talk Pretty One Day, Sophie's World]</td>\n",
       "      <td>[Darwin's Black Box, The Solitaire Mystery, Ph...</td>\n",
       "      <td>I like the following items:\\nContingency, Iron...</td>\n",
       "      <td>Here a list:\\n1. A Heartbreaking Work of Stagg...</td>\n",
       "      <td>&lt;|begin_of_text|&gt; [INST] &lt;&lt;SYS&gt;&gt;\\nYou're opera...</td>\n",
       "      <td>[]</td>\n",
       "    </tr>\n",
       "    <tr>\n",
       "      <th>1</th>\n",
       "      <td>1</td>\n",
       "      <td>[10489, 7463, 12345, 10154, 9875, 12337, 6765,...</td>\n",
       "      <td>[0, 1, 1, 1, 1, 1, 1, 1, 0, 0, 0, 0, 0, 0, 0, ...</td>\n",
       "      <td>20</td>\n",
       "      <td>[16, 18, 6, 7]</td>\n",
       "      <td>[1, 2, 3, 4, 5, 17]</td>\n",
       "      <td>[19, 12, 13, 14]</td>\n",
       "      <td>[0, 8, 9, 10, 11, 15]</td>\n",
       "      <td>[The Lion, the Witch and the Wardrobe, Prince ...</td>\n",
       "      <td>[The Magician's Nephew, Executive Orders, An E...</td>\n",
       "      <td>[A Letter of Mary, The Shelters of Stone, Gods...</td>\n",
       "      <td>[Troubling a Star, The Young Unicorns, Perelan...</td>\n",
       "      <td>I like the following items:\\nThe Language of G...</td>\n",
       "      <td>Here a list:\\n1. The Magician's Nephew\\n2. Exe...</td>\n",
       "      <td>&lt;|begin_of_text|&gt; [INST] &lt;&lt;SYS&gt;&gt;\\nYou're opera...</td>\n",
       "      <td>[]</td>\n",
       "    </tr>\n",
       "  </tbody>\n",
       "</table>\n",
       "</div>"
      ],
      "text/plain": [
       "   user                                               item  \\\n",
       "0     0  [8706, 9303, 6847, 6921, 6606, 11057, 9129, 12...   \n",
       "1     1  [10489, 7463, 12345, 10154, 9875, 12337, 6765,...   \n",
       "\n",
       "                                              rating  len index_like_prompt  \\\n",
       "0               [1, 0, 0, 1, 1, 0, 0, 1, 1, 1, 0, 1]   12         [8, 9, 4]   \n",
       "1  [0, 1, 1, 1, 1, 1, 1, 1, 0, 0, 0, 0, 0, 0, 0, ...   20    [16, 18, 6, 7]   \n",
       "\n",
       "       index_like_resp index_dislike_prompt     index_dislike_resp  \\\n",
       "0        [11, 0, 3, 7]               [5, 6]             [1, 2, 10]   \n",
       "1  [1, 2, 3, 4, 5, 17]     [19, 12, 13, 14]  [0, 8, 9, 10, 11, 15]   \n",
       "\n",
       "                                        liked_prompt  \\\n",
       "0  [The Bell Jar, The Structure of Scientific Rev...   \n",
       "1  [The Lion, the Witch and the Wardrobe, Prince ...   \n",
       "\n",
       "                                          liked_resp  \\\n",
       "0  [A Heartbreaking Work of Staggering Genius, A ...   \n",
       "1  [The Magician's Nephew, Executive Orders, An E...   \n",
       "\n",
       "                                     disliked_prompt  \\\n",
       "0           [Me Talk Pretty One Day, Sophie's World]   \n",
       "1  [A Letter of Mary, The Shelters of Stone, Gods...   \n",
       "\n",
       "                                       disliked_resp  \\\n",
       "0  [Darwin's Black Box, The Solitaire Mystery, Ph...   \n",
       "1  [Troubling a Star, The Young Unicorns, Perelan...   \n",
       "\n",
       "                                         user_prompt  \\\n",
       "0  I like the following items:\\nContingency, Iron...   \n",
       "1  I like the following items:\\nThe Language of G...   \n",
       "\n",
       "                                    assistant_prompt  \\\n",
       "0  Here a list:\\n1. A Heartbreaking Work of Stagg...   \n",
       "1  Here a list:\\n1. The Magician's Nephew\\n2. Exe...   \n",
       "\n",
       "                                              prompt descriptions  \n",
       "0  <|begin_of_text|> [INST] <<SYS>>\\nYou're opera...           []  \n",
       "1  <|begin_of_text|> [INST] <<SYS>>\\nYou're opera...           []  "
      ]
     },
     "execution_count": 49,
     "metadata": {},
     "output_type": "execute_result"
    }
   ],
   "source": [
    "train_group.head(2)"
   ]
  },
  {
   "cell_type": "code",
   "execution_count": 50,
   "metadata": {},
   "outputs": [],
   "source": [
    "train_group.to_pickle(os.path.join(datapath, f'{dataset}_train_dataset.pkl'))\n",
    "test_group.to_pickle(os.path.join(datapath, f'{dataset}_test_dataset.pkl'))"
   ]
  },
  {
   "cell_type": "code",
   "execution_count": 51,
   "metadata": {},
   "outputs": [],
   "source": [
    "prompts = train_group['prompt'].tolist() * 3"
   ]
  },
  {
   "cell_type": "code",
   "execution_count": 52,
   "metadata": {},
   "outputs": [],
   "source": [
    "descriptions = list(item_desc_dict.values())"
   ]
  },
  {
   "cell_type": "code",
   "execution_count": 53,
   "metadata": {},
   "outputs": [],
   "source": [
    "descriptions = [f'{tokenizer.bos_token} ' + x + f' {tokenizer.eos_token}' for x in descriptions]"
   ]
  },
  {
   "cell_type": "code",
   "execution_count": 54,
   "metadata": {},
   "outputs": [],
   "source": [
    "import random \n",
    "\n",
    "random.seed(22)\n",
    "train_set = prompts + descriptions\n",
    "\n",
    "random.shuffle(train_set)"
   ]
  },
  {
   "cell_type": "code",
   "execution_count": 55,
   "metadata": {},
   "outputs": [
    {
     "data": {
      "text/plain": [
       "20070"
      ]
     },
     "execution_count": 55,
     "metadata": {},
     "output_type": "execute_result"
    }
   ],
   "source": [
    "len(train_set)"
   ]
  },
  {
   "cell_type": "code",
   "execution_count": 56,
   "metadata": {},
   "outputs": [],
   "source": [
    "import json\n",
    "\n",
    "with open(os.path.join(datapath, f'{dataset}_train_set_no_kn.jsonl'), 'w') as outfile:\n",
    "    for x in train_group['prompt'].tolist():\n",
    "        json.dump({'text':x}, outfile)\n",
    "        outfile.write('\\n')"
   ]
  },
  {
   "cell_type": "code",
   "execution_count": 57,
   "metadata": {},
   "outputs": [],
   "source": [
    "import json\n",
    "\n",
    "with open(os.path.join(datapath, f'{dataset}_train_set.jsonl'), 'w') as outfile:\n",
    "    for x in train_set:\n",
    "        json.dump({'text':x}, outfile)\n",
    "        outfile.write('\\n')"
   ]
  },
  {
   "cell_type": "code",
   "execution_count": 58,
   "metadata": {},
   "outputs": [],
   "source": [
    "prompts = test_group['prompt'].tolist()"
   ]
  },
  {
   "cell_type": "code",
   "execution_count": 59,
   "metadata": {},
   "outputs": [],
   "source": [
    "import json\n",
    "\n",
    "with open(os.path.join(datapath, f'{dataset}_test_set.jsonl'), 'w') as outfile:\n",
    "    for x in prompts:\n",
    "        json.dump({'text':x}, outfile)\n",
    "        outfile.write('\\n')"
   ]
  },
  {
   "cell_type": "code",
   "execution_count": 60,
   "metadata": {},
   "outputs": [],
   "source": [
    "train_bs = pd.concat([test_group.loc[:, ['user', 'index_like_prompt', 'index_dislike_prompt', 'item']],\\\n",
    "                      train_group.loc[:, ['user', 'index_like_prompt', 'index_dislike_prompt', 'item']]])\n",
    "test_bs = test_group.loc[:, ['user', 'index_like_resp', 'index_dislike_resp', 'item']]"
   ]
  },
  {
   "cell_type": "code",
   "execution_count": 61,
   "metadata": {},
   "outputs": [],
   "source": [
    "train_bs['bs_format'] = train_bs.apply(lambda x:[{'user_id:token': x['user'], 'item_id:token': x['item'][item], 'rating:float': 1} for item in x['index_like_prompt']], axis=1)\n",
    "train_bs['bs_format'] = train_bs['bs_format'] + train_bs.apply(lambda x:[{'user_id:token': x['user'], 'item_id:token': x['item'][item], 'rating:float': 0} for item in x['index_dislike_prompt']], axis=1)\n",
    "\n",
    "test_bs['bs_format'] = test_bs.apply(lambda x:[{'user_id:token': x['user'], 'item_id:token': x['item'][item], 'rating:float': 1} for item in x['index_like_resp']], axis=1)\n",
    "test_bs['bs_format'] = test_bs['bs_format'] + test_bs.apply(lambda x:[{'user_id:token': x['user'], 'item_id:token': x['item'][item], 'rating:float': 0} for item in x['index_dislike_resp']], axis=1)"
   ]
  },
  {
   "cell_type": "code",
   "execution_count": 62,
   "metadata": {},
   "outputs": [],
   "source": [
    "import itertools\n",
    "\n",
    "os.makedirs(os.path.join(datapath, 'baseline'), exist_ok=True)\n",
    "pd.DataFrame(list(itertools.chain(*test_bs['bs_format'].tolist()))).to_csv(os.path.join(datapath, 'baseline', f'{dataset}.part3.inter'), sep='\\t', index=False)\n",
    "pd.DataFrame(list(itertools.chain(*train_bs['bs_format'].tolist()))).to_csv(os.path.join(datapath, 'baseline', f'{dataset}.part1.inter'), sep='\\t', index=False)"
   ]
  },
  {
   "cell_type": "markdown",
   "metadata": {},
   "source": [
    "# EXTRA"
   ]
  },
  {
   "cell_type": "code",
   "execution_count": 264,
   "metadata": {},
   "outputs": [],
   "source": [
    "splits = np.array_split(train_group['descriptions'].to_list(), 10)"
   ]
  },
  {
   "cell_type": "code",
   "execution_count": 265,
   "metadata": {},
   "outputs": [],
   "source": [
    "lens = []\n",
    "for split in splits:\n",
    "    tok = tokenizer(split.tolist(), return_length=True)\n",
    "    lens.append(tok['length'])"
   ]
  },
  {
   "cell_type": "code",
   "execution_count": 266,
   "metadata": {},
   "outputs": [
    {
     "data": {
      "text/plain": [
       "count     1505.000000\n",
       "mean      5111.520266\n",
       "std       3790.858846\n",
       "min          1.000000\n",
       "25%       2230.000000\n",
       "50%       4281.000000\n",
       "75%       7250.000000\n",
       "max      24073.000000\n",
       "dtype: float64"
      ]
     },
     "metadata": {},
     "output_type": "display_data"
    }
   ],
   "source": [
    "display(pd.Series(list(chain(*lens))).describe())"
   ]
  },
  {
   "cell_type": "code",
   "execution_count": 243,
   "metadata": {},
   "outputs": [
    {
     "data": {
      "text/plain": [
       "[128027]"
      ]
     },
     "execution_count": 243,
     "metadata": {},
     "output_type": "execute_result"
    }
   ],
   "source": [
    "tokenizer.encode(\"<|reserved_special_token_22|>\", add_special_tokens=False)"
   ]
  },
  {
   "cell_type": "code",
   "execution_count": null,
   "metadata": {},
   "outputs": [],
   "source": [
    "if dataset in ['dbbook', 'movielens']:\n",
    "    item_prop_df = pd.read_csv(os.path.join(datapath, 'item-prop', 'train.tsv'), \\\n",
    "                names=['item', 'prop', 'rel'], sep='\\t')\n",
    "else:\n",
    "    item_prop_df = pd.read_csv(os.path.join(datapath, 'item-prop', 'train.tsv'), \\\n",
    "                names=['item', 'rel', 'prop'], sep='\\t')"
   ]
  },
  {
   "cell_type": "code",
   "execution_count": null,
   "metadata": {},
   "outputs": [],
   "source": [
    "item_prop_df"
   ]
  },
  {
   "cell_type": "code",
   "execution_count": null,
   "metadata": {},
   "outputs": [],
   "source": [
    "if dataset == 'dbbook':\n",
    "    mapping_rel = pd.read_csv(os.path.join(datapath, 'mapping_relations.tsv'), \\\n",
    "            names=['id_rel', 'name_rel'], sep='\\t')\n",
    "else:\n",
    "    mapping_rel = pd.read_csv(os.path.join(datapath, 'mapping_relations.tsv'), \\\n",
    "                names=['name_rel', 'id_rel'], sep='\\t')\n",
    "mapping_rel.head()"
   ]
  },
  {
   "cell_type": "code",
   "execution_count": null,
   "metadata": {},
   "outputs": [],
   "source": [
    "mapping_rel['name_rel_red']=mapping_rel['name_rel'].apply(lambda x: x.split(\"/\")[-1])"
   ]
  },
  {
   "cell_type": "code",
   "execution_count": null,
   "metadata": {},
   "outputs": [],
   "source": [
    "mapping_rel"
   ]
  },
  {
   "cell_type": "code",
   "execution_count": null,
   "metadata": {},
   "outputs": [],
   "source": [
    "mapping_rel[mapping_rel['id_rel'].isin(item_prop_df['rel'].unique())]"
   ]
  },
  {
   "cell_type": "code",
   "execution_count": null,
   "metadata": {},
   "outputs": [],
   "source": [
    "item_desription = pd.read_csv(os.path.join(datapath, dataset+'.txt'), sep=';;', names=['item_id', 'description'],  on_bad_lines='skip')"
   ]
  },
  {
   "cell_type": "code",
   "execution_count": null,
   "metadata": {},
   "outputs": [],
   "source": [
    "item_desription.head()"
   ]
  },
  {
   "cell_type": "code",
   "execution_count": null,
   "metadata": {},
   "outputs": [],
   "source": [
    "len(item_desription['description'].unique())"
   ]
  },
  {
   "cell_type": "code",
   "execution_count": null,
   "metadata": {},
   "outputs": [],
   "source": [
    "item_desription.shape"
   ]
  },
  {
   "cell_type": "code",
   "execution_count": null,
   "metadata": {},
   "outputs": [],
   "source": [
    "len(item_desription[item_desription['item_id'].isin(user_item_df['item'].unique())]['description'].unique())"
   ]
  },
  {
   "cell_type": "code",
   "execution_count": null,
   "metadata": {},
   "outputs": [],
   "source": []
  }
 ],
 "metadata": {
  "kernelspec": {
   "display_name": "transfromers_env",
   "language": "python",
   "name": "python3"
  },
  "language_info": {
   "codemirror_mode": {
    "name": "ipython",
    "version": 3
   },
   "file_extension": ".py",
   "mimetype": "text/x-python",
   "name": "python",
   "nbconvert_exporter": "python",
   "pygments_lexer": "ipython3",
   "version": "3.11.3"
  }
 },
 "nbformat": 4,
 "nbformat_minor": 2
}
