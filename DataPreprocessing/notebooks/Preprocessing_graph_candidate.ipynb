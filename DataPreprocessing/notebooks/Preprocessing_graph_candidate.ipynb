{
 "cells": [
  {
   "cell_type": "code",
   "execution_count": 1,
   "metadata": {},
   "outputs": [],
   "source": [
    "dataset = 'dbbook'\n",
    "\n",
    "domain = {\n",
    "    'lastfm': 'music',\n",
    "    'dbbook': 'book',\n",
    "    'movielens': 'movie'\n",
    "}[dataset]\n",
    "\n",
    "items = {\n",
    "    'lastfm': 'artist',\n",
    "    'dbbook': 'book',\n",
    "    'movielens': 'movie'\n",
    "}[dataset]\n",
    "import os\n",
    "datapath = os.path.join('..', 'data', dataset)\n",
    "\n",
    "special_token = '<|reserved_special_token_22|>'\n",
    "\n",
    "resp_frac = 0.5"
   ]
  },
  {
   "cell_type": "markdown",
   "metadata": {},
   "source": [
    "# Set names"
   ]
  },
  {
   "cell_type": "code",
   "execution_count": 2,
   "metadata": {},
   "outputs": [],
   "source": [
    "import pandas as pd\n",
    "import os\n",
    "import random\n",
    "import numpy as np\n",
    "import swifter  "
   ]
  },
  {
   "cell_type": "code",
   "execution_count": 3,
   "metadata": {},
   "outputs": [],
   "source": [
    "user_item_df_train = pd.read_csv(os.path.join(datapath, 'user-item', 'train.tsv'), \\\n",
    "            names=['user', 'item', 'rating'], sep='\\t')\n",
    "\n",
    "user_item_df_test = pd.read_csv(os.path.join(datapath, 'user-item', 'test.tsv'), \\\n",
    "            names=['user', 'item', 'rating'], sep='\\t')\n",
    "\n",
    "\n",
    "df = pd.concat([user_item_df_train, user_item_df_test], ignore_index=True)\n",
    "all_items = df['item'].unique()"
   ]
  },
  {
   "cell_type": "code",
   "execution_count": 4,
   "metadata": {},
   "outputs": [],
   "source": [
    "def get_split_random(list_to_split, frac=0.2, margin=0):\n",
    "    random.seed(22)\n",
    "    sample_list = random.sample(list_to_split, int(frac*len(list_to_split))+margin)\n",
    "    complementary_set = set(list_to_split) - set(sample_list)\n",
    "    return list(set(complementary_set)), list(set(sample_list))"
   ]
  },
  {
   "cell_type": "code",
   "execution_count": 5,
   "metadata": {},
   "outputs": [],
   "source": [
    "random.seed(22)\n",
    "test_frac = 0.2\n",
    "user_list = df['user'].unique().tolist()\n",
    "user_train, user_test = get_split_random(user_list, frac=test_frac, margin=0)"
   ]
  },
  {
   "cell_type": "code",
   "execution_count": 6,
   "metadata": {},
   "outputs": [],
   "source": [
    "user_item_df_train = df[df['user'].isin(user_train)]\n",
    "user_item_df_test = df[df['user'].isin(user_test)]"
   ]
  },
  {
   "cell_type": "code",
   "execution_count": 7,
   "metadata": {},
   "outputs": [
    {
     "data": {
      "text/plain": [
       "134987"
      ]
     },
     "execution_count": 7,
     "metadata": {},
     "output_type": "execute_result"
    }
   ],
   "source": [
    "len(set(user_item_df_train['user'].unique()) - set(user_item_df_test['user'].unique()))"
   ]
  },
  {
   "cell_type": "code",
   "execution_count": 8,
   "metadata": {},
   "outputs": [
    {
     "data": {
      "text/plain": [
       "count    1.259207e+06\n",
       "mean     5.314051e-01\n",
       "std      4.990129e-01\n",
       "min      0.000000e+00\n",
       "25%      0.000000e+00\n",
       "50%      1.000000e+00\n",
       "75%      1.000000e+00\n",
       "max      1.000000e+00\n",
       "Name: rating, dtype: float64"
      ]
     },
     "execution_count": 8,
     "metadata": {},
     "output_type": "execute_result"
    }
   ],
   "source": [
    "user_item_df_test['rating'].describe()"
   ]
  },
  {
   "cell_type": "code",
   "execution_count": 9,
   "metadata": {},
   "outputs": [
    {
     "data": {
      "text/plain": [
       "count    5.020177e+06\n",
       "mean     5.303371e-01\n",
       "std      4.990789e-01\n",
       "min      0.000000e+00\n",
       "25%      0.000000e+00\n",
       "50%      1.000000e+00\n",
       "75%      1.000000e+00\n",
       "max      1.000000e+00\n",
       "Name: rating, dtype: float64"
      ]
     },
     "execution_count": 9,
     "metadata": {},
     "output_type": "execute_result"
    }
   ],
   "source": [
    "user_item_df_train['rating'].describe()"
   ]
  },
  {
   "cell_type": "code",
   "execution_count": 10,
   "metadata": {},
   "outputs": [],
   "source": [
    "train_group = user_item_df_train.groupby('user').agg({\n",
    "    'item': list,\n",
    "    'rating': list\n",
    "}).reset_index()\n",
    "test_group = user_item_df_test.groupby('user').agg({\n",
    "    'item': list,\n",
    "    'rating': list\n",
    "}).reset_index()\n",
    "train_group['len'] = train_group['item'].apply(len)\n",
    "test_group['len'] = test_group['item'].apply(len)"
   ]
  },
  {
   "cell_type": "code",
   "execution_count": 11,
   "metadata": {},
   "outputs": [],
   "source": [
    "def split_prompt_resp(row, resp_frac):\n",
    "    items = np.array(row['rating'])\n",
    "    index_likes = np.where(items==1)[0].tolist()\n",
    "    index_dilikes = np.where(items==0)[0].tolist()\n",
    "    index_like_prompt = []\n",
    "    index_like_resp = []    \n",
    "    index_dislike_prompt = []\n",
    "    index_dislike_resp = []\n",
    "    resp_frac=resp_frac\n",
    "    if len(index_likes) > 0:\n",
    "        index_like_prompt, index_like_resp = get_split_random(index_likes, frac=resp_frac, margin=1)\n",
    "    if len(index_dilikes) > 0:\n",
    "        index_dislike_prompt, index_dislike_resp = get_split_random(index_dilikes, frac=resp_frac, margin=1)\n",
    "    row['index_like_prompt'] = index_like_prompt\n",
    "    row['index_like_resp'] = index_like_resp\n",
    "    row['index_dislike_prompt'] = index_dislike_prompt\n",
    "    row['index_dislike_resp'] = index_dislike_resp\n",
    "    return row"
   ]
  },
  {
   "cell_type": "code",
   "execution_count": 12,
   "metadata": {},
   "outputs": [
    {
     "data": {
      "text/plain": [
       "count    33746.000000\n",
       "mean        37.314259\n",
       "std         23.108289\n",
       "min         11.000000\n",
       "25%         18.000000\n",
       "50%         30.000000\n",
       "75%         52.000000\n",
       "max         99.000000\n",
       "Name: len, dtype: float64"
      ]
     },
     "execution_count": 12,
     "metadata": {},
     "output_type": "execute_result"
    }
   ],
   "source": [
    "test_group['len'].describe()"
   ]
  },
  {
   "cell_type": "code",
   "execution_count": 13,
   "metadata": {},
   "outputs": [
    {
     "data": {
      "text/plain": [
       "count    134987.000000\n",
       "mean         37.190078\n",
       "std          23.121372\n",
       "min          11.000000\n",
       "25%          18.000000\n",
       "50%          30.000000\n",
       "75%          51.000000\n",
       "max          99.000000\n",
       "Name: len, dtype: float64"
      ]
     },
     "execution_count": 13,
     "metadata": {},
     "output_type": "execute_result"
    }
   ],
   "source": [
    "train_group['len'].describe()"
   ]
  },
  {
   "cell_type": "code",
   "execution_count": 14,
   "metadata": {},
   "outputs": [
    {
     "data": {
      "application/vnd.jupyter.widget-view+json": {
       "model_id": "83fe4a1a15d04fadac8c0a035201cb0c",
       "version_major": 2,
       "version_minor": 0
      },
      "text/plain": [
       "Pandas Apply:   0%|          | 0/33746 [00:00<?, ?it/s]"
      ]
     },
     "metadata": {},
     "output_type": "display_data"
    },
    {
     "data": {
      "application/vnd.jupyter.widget-view+json": {
       "model_id": "a2b24ea56c9b43d1bf892d188bd565c9",
       "version_major": 2,
       "version_minor": 0
      },
      "text/plain": [
       "Pandas Apply:   0%|          | 0/134987 [00:00<?, ?it/s]"
      ]
     },
     "metadata": {},
     "output_type": "display_data"
    }
   ],
   "source": [
    "test_group = test_group.swifter.apply(split_prompt_resp, axis=1, resp_frac=resp_frac)\n",
    "train_group = train_group.swifter.apply(split_prompt_resp, axis=1, resp_frac=resp_frac)"
   ]
  },
  {
   "cell_type": "code",
   "execution_count": 15,
   "metadata": {},
   "outputs": [
    {
     "data": {
      "text/html": [
       "<div>\n",
       "<style scoped>\n",
       "    .dataframe tbody tr th:only-of-type {\n",
       "        vertical-align: middle;\n",
       "    }\n",
       "\n",
       "    .dataframe tbody tr th {\n",
       "        vertical-align: top;\n",
       "    }\n",
       "\n",
       "    .dataframe thead th {\n",
       "        text-align: right;\n",
       "    }\n",
       "</style>\n",
       "<table border=\"1\" class=\"dataframe\">\n",
       "  <thead>\n",
       "    <tr style=\"text-align: right;\">\n",
       "      <th></th>\n",
       "      <th>user</th>\n",
       "      <th>item</th>\n",
       "      <th>rating</th>\n",
       "      <th>len</th>\n",
       "      <th>index_like_prompt</th>\n",
       "      <th>index_like_resp</th>\n",
       "      <th>index_dislike_prompt</th>\n",
       "      <th>index_dislike_resp</th>\n",
       "    </tr>\n",
       "  </thead>\n",
       "  <tbody>\n",
       "    <tr>\n",
       "      <th>0</th>\n",
       "      <td>010Dennis</td>\n",
       "      <td>[253215, 77076, 155068, 180974, 91514, 113294,...</td>\n",
       "      <td>[1, 0, 1, 1, 0, 0, 0, 1, 1, 1, 1, 0, 1, 0, 0, ...</td>\n",
       "      <td>40</td>\n",
       "      <td>[33, 34, 35, 7, 39, 10, 15, 17, 23]</td>\n",
       "      <td>[0, 2, 3, 8, 9, 12, 21, 22, 30, 31]</td>\n",
       "      <td>[32, 36, 5, 37, 38, 14, 18, 19, 25, 26]</td>\n",
       "      <td>[1, 4, 6, 11, 13, 16, 20, 24, 27, 28, 29]</td>\n",
       "    </tr>\n",
       "    <tr>\n",
       "      <th>1</th>\n",
       "      <td>01schafi</td>\n",
       "      <td>[18, 37380, 875, 13308, 11, 132, 45986, 40760,...</td>\n",
       "      <td>[1, 1, 1, 1, 1, 1, 1, 0, 1, 1, 0, 1, 1, 1, 1, ...</td>\n",
       "      <td>80</td>\n",
       "      <td>[0, 2, 4, 6, 70, 71, 73, 11, 12, 75, 76, 78, 1...</td>\n",
       "      <td>[1, 3, 5, 8, 9, 13, 14, 17, 18, 19, 21, 26, 28...</td>\n",
       "      <td>[64, 34, 67, 69, 40, 15, 52, 25, 29, 31]</td>\n",
       "      <td>[36, 68, 7, 39, 72, 10, 46, 20, 23, 24, 27, 63]</td>\n",
       "    </tr>\n",
       "  </tbody>\n",
       "</table>\n",
       "</div>"
      ],
      "text/plain": [
       "        user                                               item  \\\n",
       "0  010Dennis  [253215, 77076, 155068, 180974, 91514, 113294,...   \n",
       "1   01schafi  [18, 37380, 875, 13308, 11, 132, 45986, 40760,...   \n",
       "\n",
       "                                              rating  len  \\\n",
       "0  [1, 0, 1, 1, 0, 0, 0, 1, 1, 1, 1, 0, 1, 0, 0, ...   40   \n",
       "1  [1, 1, 1, 1, 1, 1, 1, 0, 1, 1, 0, 1, 1, 1, 1, ...   80   \n",
       "\n",
       "                                   index_like_prompt  \\\n",
       "0                [33, 34, 35, 7, 39, 10, 15, 17, 23]   \n",
       "1  [0, 2, 4, 6, 70, 71, 73, 11, 12, 75, 76, 78, 1...   \n",
       "\n",
       "                                     index_like_resp  \\\n",
       "0                [0, 2, 3, 8, 9, 12, 21, 22, 30, 31]   \n",
       "1  [1, 3, 5, 8, 9, 13, 14, 17, 18, 19, 21, 26, 28...   \n",
       "\n",
       "                       index_dislike_prompt  \\\n",
       "0   [32, 36, 5, 37, 38, 14, 18, 19, 25, 26]   \n",
       "1  [64, 34, 67, 69, 40, 15, 52, 25, 29, 31]   \n",
       "\n",
       "                                index_dislike_resp  \n",
       "0        [1, 4, 6, 11, 13, 16, 20, 24, 27, 28, 29]  \n",
       "1  [36, 68, 7, 39, 72, 10, 46, 20, 23, 24, 27, 63]  "
      ]
     },
     "execution_count": 15,
     "metadata": {},
     "output_type": "execute_result"
    }
   ],
   "source": [
    "test_group.head(2)"
   ]
  },
  {
   "cell_type": "code",
   "execution_count": 16,
   "metadata": {},
   "outputs": [
    {
     "data": {
      "text/plain": [
       "(33746, 8)"
      ]
     },
     "execution_count": 16,
     "metadata": {},
     "output_type": "execute_result"
    }
   ],
   "source": [
    "test_group.shape"
   ]
  },
  {
   "cell_type": "code",
   "execution_count": 17,
   "metadata": {},
   "outputs": [
    {
     "data": {
      "text/html": [
       "<div>\n",
       "<style scoped>\n",
       "    .dataframe tbody tr th:only-of-type {\n",
       "        vertical-align: middle;\n",
       "    }\n",
       "\n",
       "    .dataframe tbody tr th {\n",
       "        vertical-align: top;\n",
       "    }\n",
       "\n",
       "    .dataframe thead th {\n",
       "        text-align: right;\n",
       "    }\n",
       "</style>\n",
       "<table border=\"1\" class=\"dataframe\">\n",
       "  <thead>\n",
       "    <tr style=\"text-align: right;\">\n",
       "      <th></th>\n",
       "      <th>user</th>\n",
       "      <th>item</th>\n",
       "      <th>rating</th>\n",
       "      <th>len</th>\n",
       "      <th>index_like_prompt</th>\n",
       "      <th>index_like_resp</th>\n",
       "      <th>index_dislike_prompt</th>\n",
       "      <th>index_dislike_resp</th>\n",
       "    </tr>\n",
       "  </thead>\n",
       "  <tbody>\n",
       "    <tr>\n",
       "      <th>0</th>\n",
       "      <td>mycroft</td>\n",
       "      <td>[10547, 5029, 15987, 17226, 9609, 7479, 5, 328...</td>\n",
       "      <td>[1, 0, 1, 1, 1, 1, 1, 0, 0, 0, 1, 0, 0, 1]</td>\n",
       "      <td>14</td>\n",
       "      <td>[10, 13, 6]</td>\n",
       "      <td>[0, 2, 3, 4, 5]</td>\n",
       "      <td>[9, 11]</td>\n",
       "      <td>[8, 1, 12, 7]</td>\n",
       "    </tr>\n",
       "    <tr>\n",
       "      <th>1</th>\n",
       "      <td>-Loren-</td>\n",
       "      <td>[700, 27627, 478, 2471, 138788, 17166, 133038,...</td>\n",
       "      <td>[0, 1, 0, 0, 0, 0, 0, 1, 0, 1, 1, 0, 0, 1, 0, ...</td>\n",
       "      <td>79</td>\n",
       "      <td>[69, 70, 71, 74, 13, 23, 26, 35, 37, 42, 43, 4...</td>\n",
       "      <td>[1, 66, 38, 7, 41, 10, 9, 45, 46, 15, 78, 54, ...</td>\n",
       "      <td>[64, 3, 5, 8, 73, 76, 16, 18, 22, 29, 33, 36, ...</td>\n",
       "      <td>[0, 2, 4, 6, 11, 12, 14, 17, 19, 20, 21, 27, 2...</td>\n",
       "    </tr>\n",
       "  </tbody>\n",
       "</table>\n",
       "</div>"
      ],
      "text/plain": [
       "       user                                               item  \\\n",
       "0   mycroft  [10547, 5029, 15987, 17226, 9609, 7479, 5, 328...   \n",
       "1   -Loren-  [700, 27627, 478, 2471, 138788, 17166, 133038,...   \n",
       "\n",
       "                                              rating  len  \\\n",
       "0         [1, 0, 1, 1, 1, 1, 1, 0, 0, 0, 1, 0, 0, 1]   14   \n",
       "1  [0, 1, 0, 0, 0, 0, 0, 1, 0, 1, 1, 0, 0, 1, 0, ...   79   \n",
       "\n",
       "                                   index_like_prompt  \\\n",
       "0                                        [10, 13, 6]   \n",
       "1  [69, 70, 71, 74, 13, 23, 26, 35, 37, 42, 43, 4...   \n",
       "\n",
       "                                     index_like_resp  \\\n",
       "0                                    [0, 2, 3, 4, 5]   \n",
       "1  [1, 66, 38, 7, 41, 10, 9, 45, 46, 15, 78, 54, ...   \n",
       "\n",
       "                                index_dislike_prompt  \\\n",
       "0                                            [9, 11]   \n",
       "1  [64, 3, 5, 8, 73, 76, 16, 18, 22, 29, 33, 36, ...   \n",
       "\n",
       "                                  index_dislike_resp  \n",
       "0                                      [8, 1, 12, 7]  \n",
       "1  [0, 2, 4, 6, 11, 12, 14, 17, 19, 20, 21, 27, 2...  "
      ]
     },
     "execution_count": 17,
     "metadata": {},
     "output_type": "execute_result"
    }
   ],
   "source": [
    "train_group.head(2)"
   ]
  },
  {
   "cell_type": "code",
   "execution_count": 18,
   "metadata": {},
   "outputs": [
    {
     "data": {
      "text/plain": [
       "(134987, 8)"
      ]
     },
     "execution_count": 18,
     "metadata": {},
     "output_type": "execute_result"
    }
   ],
   "source": [
    "train_group.shape"
   ]
  },
  {
   "cell_type": "code",
   "execution_count": 19,
   "metadata": {},
   "outputs": [],
   "source": [
    "if dataset=='movielens':\n",
    "    def fix_title(title):\n",
    "        if \", The (\" in title:\n",
    "            name_film, _, year = title.rpartition(\", The (\")\n",
    "            title = \"The \" + name_film + \" (\" + year\n",
    "            return title\n",
    "        if \", A (\" in title:\n",
    "            name_film, _, year = title.rpartition(\", A (\")\n",
    "            title = \"A \" + name_film + \" (\" + year\n",
    "        return title\n",
    "    df_movies = pd.read_csv(os.path.join(datapath, r\"movies.dat\"), sep=\"::\", names=[\"item_id\", \"name\", \"geners\"], encoding='ISO-8859-1')\n",
    "    df_movies['name'] = df_movies['name'].apply(lambda x: fix_title(x)[0])\n",
    "    #df_movies['year'] = df_movies['name'].apply(lambda x: fix_title(x)[1])\n",
    "    import re\n",
    "\n",
    "    df_relations = pd.read_csv(os.path.join(datapath, 'mapping_entities.tsv'), \\\n",
    "            names=['url', 'id_set'], sep='\\t')\n",
    "    dbpedia_mapping = pd.read_csv(os.path.join(datapath, 'MappingMovielens2DBpedia-1.2.tsv'), \\\n",
    "            names=['id_movie', 'name', 'dbpedia_url'], sep='\\t')\n",
    "    df_movies = dbpedia_mapping.set_index('dbpedia_url').join(df_relations.set_index('url')).reset_index()\n",
    "    df_movies['name'] = df_movies['name'].apply(lambda x: re.sub(\"\\s+\\(\\d+\\)$\", \"\", x))\n",
    "    df_movies['name'] = df_movies['name'].apply(lambda x: re.sub(r\"[^a-zA-Z0-9]+\", ' ', x).strip())\n",
    "    df_movies.dropna(inplace=True)\n",
    "    df_movies['id_set'] = df_movies['id_set'].astype(int)\n",
    "    mapping_dict = df_movies.loc[:, ['id_set', 'name']].set_index('id_set').to_dict()['name']\n",
    "    property_mapping = pd.read_json(os.path.join(datapath, 'entities_names.json'), typ='series')\n",
    "    mapping_relation = pd.read_csv(os.path.join(datapath, 'mapping_relations.tsv'), \\\n",
    "            names=['rel', 'id'], sep='\\t')"
   ]
  },
  {
   "cell_type": "code",
   "execution_count": 20,
   "metadata": {},
   "outputs": [],
   "source": [
    "if dataset=='dbbook':\n",
    "    df_relations = pd.read_csv(os.path.join(datapath, 'mapping_entities.tsv'), sep='\\t')\n",
    "    df_relations['name'] = df_relations['uri'].apply(lambda x: x.split(\";\")[0])\n",
    "    temp = df_relations[df_relations['id'].isin(df['item'].unique())]\n",
    "    mapping_dict = temp.set_index('id').to_dict()['name']\n",
    "    property_mapping = pd.read_json(os.path.join(datapath, 'entities_names.json'), typ='series')\n",
    "    mapping_relation = pd.read_csv(os.path.join(datapath, 'mapping_relations.tsv'), \\\n",
    "            names=['id', 'rel'], sep='\\t')"
   ]
  },
  {
   "cell_type": "code",
   "execution_count": 21,
   "metadata": {},
   "outputs": [],
   "source": [
    "if dataset=='lastfm':\n",
    "    df_relations = pd.read_csv(os.path.join(datapath, 'mapping_items.tsv'), \\\n",
    "            names=['id', 'name'], sep='\\t')\n",
    "    mapping_dict = df_relations.set_index('id').to_dict()['name']\n",
    "    property_mapping = pd.read_json(os.path.join(datapath, 'entities_names.json'), typ='series')\n",
    "    mapping_relation = pd.read_csv(os.path.join(datapath, 'mapping_relations.tsv'), \\\n",
    "            names=['rel', 'id'], sep='\\t')"
   ]
  },
  {
   "cell_type": "code",
   "execution_count": 22,
   "metadata": {},
   "outputs": [
    {
     "name": "stderr",
     "output_type": "stream",
     "text": [
      "C:\\Users\\petru\\AppData\\Local\\Temp\\ipykernel_40184\\830595669.py:5: ParserWarning: Falling back to the 'python' engine because the 'c' engine does not support regex separators (separators > 1 char and different from '\\s+' are interpreted as regex); you can avoid this warning by specifying engine='python'.\n",
      "  property_mapping = pd.read_csv(os.path.join(datapath, 'mapped_prop.csv'), sep=';;', names=['id', 'name'])\n",
      "C:\\Users\\petru\\AppData\\Local\\Temp\\ipykernel_40184\\830595669.py:8: ParserWarning: Falling back to the 'python' engine because the 'c' engine does not support regex separators (separators > 1 char and different from '\\s+' are interpreted as regex); you can avoid this warning by specifying engine='python'.\n",
      "  mapping_relation = pd.read_csv(os.path.join(datapath, 'mapped_rel.csv'), \\\n"
     ]
    }
   ],
   "source": [
    "if dataset=='boardgamegeek':\n",
    "    df_relations = pd.read_csv(os.path.join(datapath, 'mapped_entities.csv'), sep=';')\n",
    "    df_relations['name'] = df_relations['primary']\n",
    "    mapping_dict = df_relations.set_index('id').to_dict()['name']\n",
    "    property_mapping = pd.read_csv(os.path.join(datapath, 'mapped_prop.csv'), sep=';;', names=['id', 'name'])\n",
    "    property_mapping = property_mapping.set_index('id').to_dict()['name'] \n",
    "    property_mapping = pd.Series(property_mapping) \n",
    "    mapping_relation = pd.read_csv(os.path.join(datapath, 'mapped_rel.csv'), \\\n",
    "            names=['id', 'rel'], sep=';;', index_col=False)"
   ]
  },
  {
   "cell_type": "code",
   "execution_count": 23,
   "metadata": {},
   "outputs": [],
   "source": [
    "import re \n",
    "\n",
    "def parse_name_from_url(url):\n",
    "    name = url.split(\"/\")[-1]\n",
    "    name = name.replace(\"_\", \" \")\n",
    "    name = name.split(':')[-1]\n",
    "    name = re.sub(r\"\\([^()]*\\)\", \"\", name)\n",
    "    pattern = r\",.*$\"\n",
    "    name = re.sub(pattern, \"\", name)\n",
    "    name = name[0].upper() + name[1:]\n",
    "    name = \" \".join(re.findall('[A-Z][a-z]*', name))\n",
    "    return name.strip().capitalize()\n",
    "\n",
    "mapping_relation['name_rel'] = mapping_relation['rel'].apply(parse_name_from_url)\n",
    "like_dislike_ids = mapping_relation[mapping_relation['name_rel'].isin(['Like', 'Dislike'])]['id'].tolist()\n",
    "files_prop = [x for x in os.listdir(os.path.join(datapath, 'item-prop')) if 'tsv' in x]\n",
    "property_graph = pd.concat([pd.read_csv(os.path.join(datapath, 'item-prop', f), \\\n",
    "            names=['item','prop','rel'], sep='\\t') for f in files_prop])\n",
    "property_graph = property_graph[~property_graph['rel'].isin(like_dislike_ids)]\n",
    "if dataset == 'lastfm':\n",
    "    property_graph.rename(columns={\n",
    "        'prop': 'rel', 'rel': 'prop'\n",
    "    }, inplace=True)\n",
    "property_graph = property_graph[property_graph['prop'].isin(property_mapping.index)]"
   ]
  },
  {
   "cell_type": "code",
   "execution_count": 24,
   "metadata": {},
   "outputs": [],
   "source": [
    "lessicalized_prop = {}\n",
    "if dataset=='dbbook':\n",
    "    lessicalized_prop['Author'] = 'The book was written by [Author].'\n",
    "    lessicalized_prop['Series'] =  'This book is part of a series called [Series].'\n",
    "    lessicalized_prop['Genre'] =  'This is a [Genre] novel.'\n",
    "    lessicalized_prop['Publisher'] = 'This book was published by [Publisher].'\n",
    "    lessicalized_prop['Preceded by'] = 'This book is preceded by [Preceded by].'\n",
    "    lessicalized_prop['Subject'] = 'The story is centered around the theme of [Subject].'\n",
    "    lessicalized_prop['Illustrator'] = 'The illustrations were done by [Illustrator].'\n",
    "    lessicalized_prop['Writers'] = 'The screenplay was written by [Writers].'\n",
    "    lessicalized_prop['Artists'] = 'The artwork was created by [Artists].'\n",
    "    lessicalized_prop['Letterers'] = 'The lettering was done by [Letterers].'\n",
    "    lessicalized_prop['Director'] = 'The film adaptation was directed by [Director].'\n",
    "    lessicalized_prop['Screenplay'] = 'The screenplay was written by [Screenplay].'\n",
    "    lessicalized_prop['Starring'] = 'The film stars [Starring].'\n",
    "    lessicalized_prop['Cinematography'] = 'The cinematography was handled by [Cinematography].'\n",
    "    lessicalized_prop['Producer'] = 'The film was produced by [Producer].'\n",
    "    lessicalized_prop['Distributor'] = 'The film was distributed by [Distributor].'\n",
    "    lessicalized_prop['Editor'] = 'This book was edited by [Editor].'\n",
    "    lessicalized_prop['Category'] = 'This book falls under the category of [Category].'\n",
    "    lessicalized_prop['Company'] = 'This book was published by [Company].'\n",
    "    lessicalized_prop['Writer'] = 'This book was written by [Writer].'\n",
    "    lessicalized_prop['Place'] = 'The story takes place in [Place].'\n",
    "    lessicalized_prop['Characters'] = 'The main characters include [Characters].'\n",
    "    lessicalized_prop['Setting'] = 'The story is set in [Setting].'\n",
    "    lessicalized_prop['Film adaption'] = 'This book has been adapted into a film titled [Film adaption].'\n",
    "    lessicalized_prop['Political'] = 'This book explores themes of [Political] politics.'\n",
    "    lessicalized_prop['Title'] = 'The title of the book is [Title].'\n",
    "    lessicalized_prop['Editors'] = 'This book was edited by [Editors].'\n",
    "    lessicalized_prop['Creators'] = 'This book was created by [Creators].'\n",
    "    lessicalized_prop['Magazine'] = 'This story was originally serialized in [Magazine].'\n",
    "    lessicalized_prop['Studio'] = 'The film adaptation was produced by [Studio].'\n",
    "    lessicalized_prop['Network'] = 'This book has been adapted into a TV series on [Network].'\n",
    "    lessicalized_prop['Narrated'] = 'The audiobook is narrated by [Narrated].'\n",
    "    lessicalized_prop['Creator'] = 'This work was created by [Creator].'\n",
    "    lessicalized_prop['Published'] = 'The book was published in [Published].'\n",
    "    lessicalized_prop['Authors'] = 'This book was written by the following authors: [Authors].'\n",
    "    lessicalized_prop['Co author'] = 'The author co-authored this book with [Co-author name].'\n",
    "\n",
    "if dataset == 'lastfm':\n",
    "    lessicalized_prop['Subject'] = 'The artist\\'s work focuses primarily on themes of [Subject].'\n",
    "    lessicalized_prop['Genre'] = 'The artist is known for their unique contribution to the [Genre] genre.'\n",
    "    lessicalized_prop['Current members'] = 'Currently, the artist\\'s lineup includes [Current members].'\n",
    "    lessicalized_prop['Origin'] = 'The artist hails from [Origin], bringing a distinctive sound to their music.'\n",
    "    lessicalized_prop['Past members'] = 'Over the years, the artist has seen several changes, with past members including [Past members].'\n",
    "    lessicalized_prop['Occupation'] = 'In addition to being a musician, the artist also works as [Occupation].'\n",
    "    lessicalized_prop['Instrument'] = 'The artist is proficient in playing the [Instrument].'\n",
    "    lessicalized_prop['Genres'] = 'Their music spans across multiple genres, including [Genres].'\n",
    "    lessicalized_prop['Home town'] = 'The artist grew up in [Home town], which has greatly influenced their music.'\n",
    "    lessicalized_prop['Religion'] = 'The artist\\'s work is often inspired by their religious beliefs in [Religion].'\n",
    "    lessicalized_prop['Partner'] = 'In their personal life, the artist is partnered with [Partner].'\n",
    "    lessicalized_prop['Alias'] = 'The artist is also known by the alias [Alias].'\n",
    "    lessicalized_prop['Title'] = 'The artist holds the title of [Title] in the music industry.'\n",
    "    lessicalized_prop['Author'] = 'They are also an accomplished author, having written [Author].'\n",
    "    lessicalized_prop['Work'] = 'The artist\\'s notable works include [Work].'\n",
    "    lessicalized_prop['Notable instruments'] = 'They are renowned for their skill with notable instruments such as [Notable instruments].'\n",
    "    lessicalized_prop['Manager'] = 'The artist is managed by [Manager].'\n",
    "    lessicalized_prop['Former members'] = 'Former members of the artist\\'s ensemble include [Former members].'\n",
    "    lessicalized_prop['Voice type'] = 'The artist is recognized for their [Voice type] voice.'\n",
    "    lessicalized_prop['Siblings'] = 'The artist has [Siblings] siblings who have also influenced their music career.'\n",
    "    lessicalized_prop['Nationality'] = 'They proudly represent their [Nationality] heritage in their music.'\n",
    "    lessicalized_prop['Instruments'] = 'The artist is adept at playing several instruments, including [Instruments].'\n",
    "    lessicalized_prop['Television'] = 'In addition to music, the artist has appeared on television shows such as [Television].'\n",
    "    lessicalized_prop['Influences'] = 'Their musical influences include [Influences].'\n",
    "    lessicalized_prop['Agency'] = 'The artist is represented by the agency [Agency].'\n",
    "    lessicalized_prop['Record labels'] = 'They have been signed with record labels such as [Record labels].'\n",
    "    lessicalized_prop['Touring members'] = 'When touring, the artist is accompanied by members such as [Touring members].'\n",
    "    lessicalized_prop['Former labels'] = 'The artist has previously been associated with former labels like [Former labels].'\n",
    "    lessicalized_prop['Trainer'] = 'Their skills have been honed under the guidance of their trainer, [Trainer].'\n",
    "\n",
    "if dataset=='movielens':\n",
    "    lessicalized_prop['Starring'] = 'In this movie, [Starring]  take on a prominent role.'\n",
    "    lessicalized_prop['Producer'] = 'Producing this movie is [Producer].'\n",
    "    lessicalized_prop['Language'] = 'This movie is primarily in [Language].'\n",
    "    lessicalized_prop['Editing'] = 'The editing in this movie is handled by [Editing].'\n",
    "    lessicalized_prop['Country'] = 'This movie is set in [Country].'\n",
    "    lessicalized_prop['Music composer'] = 'The musics of this movie is composed by [Music composer].'\n",
    "    lessicalized_prop['Based on'] = 'This movie is based on [Based on].'\n",
    "    lessicalized_prop['Subject'] = 'this movie explores [Subject] themes.'\n",
    "    lessicalized_prop['Cinematography'] = 'The visuals of this movie are captured by [Cinematography].'\n",
    "    lessicalized_prop['Writer'] = 'The narrative of this movie is penned by [Writer].'\n",
    "    lessicalized_prop['Director'] = 'Guiding the vision of this movie is the director, [Director].'\n",
    "\n",
    "if dataset=='boardgamegeek':\n",
    "    lessicalized_prop['Type'] = 'This game falls under the [Type] category.'\n",
    "    lessicalized_prop['Primary'] = 'The primary feature of this game is [Primary].'\n",
    "    lessicalized_prop['Alternate'] = 'An alternate name for this game is [Alternate].'\n",
    "    lessicalized_prop['Yearpublished'] = 'This game was published in the year [Yearpublished].'\n",
    "    lessicalized_prop['Minplayers'] = 'The minimum number of players required is [Minplayers].'\n",
    "    lessicalized_prop['Maxplayers'] = 'The maximum number of players allowed is [Maxplayers].'\n",
    "    lessicalized_prop['Playingtime'] = 'The average playing time for this game is [Playingtime] minutes.'\n",
    "    lessicalized_prop['Minplaytime'] = 'The minimum playtime for this game is [Minplaytime] minutes.'\n",
    "    lessicalized_prop['Maxplaytime'] = 'The maximum playtime for this game is [Maxplaytime] minutes.'\n",
    "    lessicalized_prop['Minage'] = 'The minimum age recommended to play this game is [Minage] years.'\n",
    "    lessicalized_prop['Boardgamecategory'] = 'This game belongs to the [Boardgamecategory] category.'\n",
    "    lessicalized_prop['Boardgamemechanic'] = 'The main mechanic of this game is [Boardgamemechanic].'\n",
    "    lessicalized_prop['Boardgamefamily'] = 'This game is part of the [Boardgamefamily] family.'\n",
    "    lessicalized_prop['Boardgameexpansion'] = '[Boardgameexpansion] is an expansion for this game.'\n",
    "    lessicalized_prop['Boardgameimplementation'] = 'This game implements [Boardgameimplementation].'\n",
    "    lessicalized_prop['Boardgamedesigner'] = 'The designer of this game is [Boardgamedesigner].'\n",
    "    lessicalized_prop['Boardgameartist'] = 'The artist for this game is [Boardgameartist].'\n",
    "    lessicalized_prop['Boardgamepublisher'] = 'This game is published by [Boardgamepublisher].'\n"
   ]
  },
  {
   "cell_type": "code",
   "execution_count": 25,
   "metadata": {},
   "outputs": [],
   "source": [
    "mapping_name_rel =property_graph.set_index('rel').join(mapping_relation.loc[:, ['name_rel', 'id']].set_index('id')).reset_index()\n",
    "goupd_mapping = mapping_name_rel.groupby(['item', 'name_rel']).agg({\n",
    "    'prop':list\n",
    "})"
   ]
  },
  {
   "cell_type": "code",
   "execution_count": 26,
   "metadata": {},
   "outputs": [],
   "source": [
    "temp = goupd_mapping.reset_index()\n",
    "kn_lex = {}\n",
    "property_mapping_dict = property_mapping.to_dict()\n",
    "for item in temp['item'].unique():\n",
    "    item_df = temp[temp['item'] == item].sort_values('name_rel')\n",
    "    item_name = mapping_dict.get(item, None)\n",
    "    if item_name == None:\n",
    "        continue\n",
    "    prompt = f'{item_name} is a {items}.'\n",
    "    for _, row in item_df.iterrows():\n",
    "        names_property = [property_mapping_dict[x] for x in row['prop'] if property_mapping_dict.get(x, None)!=None]\n",
    "        prompt += f\" {lessicalized_prop[row['name_rel']]}\"\n",
    "        if len(names_property) > 1:\n",
    "            names_property_str = \", \".join(names_property)\n",
    "        else:\n",
    "            names_property_str = names_property[0]\n",
    "        prompt = prompt.replace(f\"[{row['name_rel']}]\", names_property_str)\n",
    "    kn_lex[item] = prompt.strip()"
   ]
  },
  {
   "cell_type": "code",
   "execution_count": 27,
   "metadata": {},
   "outputs": [],
   "source": [
    "import json\n",
    "\n",
    "with open(os.path.join(datapath, f'{dataset}_domain_kn_graph.jsonl'), 'w') as outfile:\n",
    "    for new_id, desc in kn_lex.items():\n",
    "        json.dump({'target_id':str(new_id), 'text':desc}, outfile)\n",
    "        outfile.write('\\n')"
   ]
  },
  {
   "cell_type": "code",
   "execution_count": 28,
   "metadata": {},
   "outputs": [],
   "source": [
    "item_desc_df = pd.read_json(os.path.join(datapath, f'{dataset}_domain_kn_graph.jsonl'), lines=True) \n",
    "item_desc_df['target_id'] = item_desc_df['target_id'].astype(int)\n",
    "item_desc_dict = item_desc_df.set_index('target_id').to_dict()['text']"
   ]
  },
  {
   "cell_type": "markdown",
   "metadata": {},
   "source": [
    "## Prepare prompt"
   ]
  },
  {
   "cell_type": "code",
   "execution_count": 29,
   "metadata": {},
   "outputs": [
    {
     "data": {
      "text/html": [
       "<div>\n",
       "<style scoped>\n",
       "    .dataframe tbody tr th:only-of-type {\n",
       "        vertical-align: middle;\n",
       "    }\n",
       "\n",
       "    .dataframe tbody tr th {\n",
       "        vertical-align: top;\n",
       "    }\n",
       "\n",
       "    .dataframe thead th {\n",
       "        text-align: right;\n",
       "    }\n",
       "</style>\n",
       "<table border=\"1\" class=\"dataframe\">\n",
       "  <thead>\n",
       "    <tr style=\"text-align: right;\">\n",
       "      <th></th>\n",
       "      <th>user</th>\n",
       "      <th>item</th>\n",
       "      <th>rating</th>\n",
       "      <th>len</th>\n",
       "      <th>index_like_prompt</th>\n",
       "      <th>index_like_resp</th>\n",
       "      <th>index_dislike_prompt</th>\n",
       "      <th>index_dislike_resp</th>\n",
       "    </tr>\n",
       "  </thead>\n",
       "  <tbody>\n",
       "    <tr>\n",
       "      <th>0</th>\n",
       "      <td>mycroft</td>\n",
       "      <td>[10547, 5029, 15987, 17226, 9609, 7479, 5, 328...</td>\n",
       "      <td>[1, 0, 1, 1, 1, 1, 1, 0, 0, 0, 1, 0, 0, 1]</td>\n",
       "      <td>14</td>\n",
       "      <td>[10, 13, 6]</td>\n",
       "      <td>[0, 2, 3, 4, 5]</td>\n",
       "      <td>[9, 11]</td>\n",
       "      <td>[8, 1, 12, 7]</td>\n",
       "    </tr>\n",
       "    <tr>\n",
       "      <th>1</th>\n",
       "      <td>-Loren-</td>\n",
       "      <td>[700, 27627, 478, 2471, 138788, 17166, 133038,...</td>\n",
       "      <td>[0, 1, 0, 0, 0, 0, 0, 1, 0, 1, 1, 0, 0, 1, 0, ...</td>\n",
       "      <td>79</td>\n",
       "      <td>[69, 70, 71, 74, 13, 23, 26, 35, 37, 42, 43, 4...</td>\n",
       "      <td>[1, 66, 38, 7, 41, 10, 9, 45, 46, 15, 78, 54, ...</td>\n",
       "      <td>[64, 3, 5, 8, 73, 76, 16, 18, 22, 29, 33, 36, ...</td>\n",
       "      <td>[0, 2, 4, 6, 11, 12, 14, 17, 19, 20, 21, 27, 2...</td>\n",
       "    </tr>\n",
       "    <tr>\n",
       "      <th>2</th>\n",
       "      <td>-LucaS-</td>\n",
       "      <td>[478, 27162, 826, 7976, 12942, 21241, 1261, 13...</td>\n",
       "      <td>[1, 1, 1, 1, 0, 1, 0, 1, 1, 1, 1, 0, 0, 1, 1, ...</td>\n",
       "      <td>23</td>\n",
       "      <td>[1, 18, 5, 8, 10, 14]</td>\n",
       "      <td>[0, 2, 3, 7, 9, 13, 19]</td>\n",
       "      <td>[16, 17, 20, 22]</td>\n",
       "      <td>[4, 6, 11, 12, 15, 21]</td>\n",
       "    </tr>\n",
       "    <tr>\n",
       "      <th>3</th>\n",
       "      <td>-Morphling-</td>\n",
       "      <td>[28143, 307002, 163412, 3076, 30549, 70919, 24...</td>\n",
       "      <td>[1, 1, 0, 0, 1, 0, 0, 1, 0, 1, 0, 1, 0, 0, 1, ...</td>\n",
       "      <td>52</td>\n",
       "      <td>[32, 33, 39, 44, 45, 14, 48, 19, 20, 51, 23, 2...</td>\n",
       "      <td>[0, 1, 34, 36, 4, 7, 9, 41, 11, 42, 15, 16, 50...</td>\n",
       "      <td>[35, 5, 38, 40, 12, 46, 47, 17, 18, 22, 28]</td>\n",
       "      <td>[2, 3, 37, 6, 8, 10, 43, 13, 49, 25, 26, 30]</td>\n",
       "    </tr>\n",
       "    <tr>\n",
       "      <th>4</th>\n",
       "      <td>-mik-</td>\n",
       "      <td>[6249, 822, 43443, 15, 204, 70323, 28720, 1883...</td>\n",
       "      <td>[0, 1, 0, 1, 1, 0, 1, 1, 1, 0, 0, 1, 0, 0, 1, ...</td>\n",
       "      <td>45</td>\n",
       "      <td>[35, 4, 39, 42, 11, 44, 18, 19, 27, 28]</td>\n",
       "      <td>[1, 33, 3, 6, 7, 8, 14, 21, 22, 29, 30]</td>\n",
       "      <td>[32, 2, 38, 41, 13, 16, 17, 20, 24, 25, 31]</td>\n",
       "      <td>[0, 34, 36, 37, 5, 40, 9, 10, 43, 12, 15, 23, 26]</td>\n",
       "    </tr>\n",
       "  </tbody>\n",
       "</table>\n",
       "</div>"
      ],
      "text/plain": [
       "          user                                               item  \\\n",
       "0      mycroft  [10547, 5029, 15987, 17226, 9609, 7479, 5, 328...   \n",
       "1      -Loren-  [700, 27627, 478, 2471, 138788, 17166, 133038,...   \n",
       "2      -LucaS-  [478, 27162, 826, 7976, 12942, 21241, 1261, 13...   \n",
       "3  -Morphling-  [28143, 307002, 163412, 3076, 30549, 70919, 24...   \n",
       "4        -mik-  [6249, 822, 43443, 15, 204, 70323, 28720, 1883...   \n",
       "\n",
       "                                              rating  len  \\\n",
       "0         [1, 0, 1, 1, 1, 1, 1, 0, 0, 0, 1, 0, 0, 1]   14   \n",
       "1  [0, 1, 0, 0, 0, 0, 0, 1, 0, 1, 1, 0, 0, 1, 0, ...   79   \n",
       "2  [1, 1, 1, 1, 0, 1, 0, 1, 1, 1, 1, 0, 0, 1, 1, ...   23   \n",
       "3  [1, 1, 0, 0, 1, 0, 0, 1, 0, 1, 0, 1, 0, 0, 1, ...   52   \n",
       "4  [0, 1, 0, 1, 1, 0, 1, 1, 1, 0, 0, 1, 0, 0, 1, ...   45   \n",
       "\n",
       "                                   index_like_prompt  \\\n",
       "0                                        [10, 13, 6]   \n",
       "1  [69, 70, 71, 74, 13, 23, 26, 35, 37, 42, 43, 4...   \n",
       "2                              [1, 18, 5, 8, 10, 14]   \n",
       "3  [32, 33, 39, 44, 45, 14, 48, 19, 20, 51, 23, 2...   \n",
       "4            [35, 4, 39, 42, 11, 44, 18, 19, 27, 28]   \n",
       "\n",
       "                                     index_like_resp  \\\n",
       "0                                    [0, 2, 3, 4, 5]   \n",
       "1  [1, 66, 38, 7, 41, 10, 9, 45, 46, 15, 78, 54, ...   \n",
       "2                            [0, 2, 3, 7, 9, 13, 19]   \n",
       "3  [0, 1, 34, 36, 4, 7, 9, 41, 11, 42, 15, 16, 50...   \n",
       "4            [1, 33, 3, 6, 7, 8, 14, 21, 22, 29, 30]   \n",
       "\n",
       "                                index_dislike_prompt  \\\n",
       "0                                            [9, 11]   \n",
       "1  [64, 3, 5, 8, 73, 76, 16, 18, 22, 29, 33, 36, ...   \n",
       "2                                   [16, 17, 20, 22]   \n",
       "3        [35, 5, 38, 40, 12, 46, 47, 17, 18, 22, 28]   \n",
       "4        [32, 2, 38, 41, 13, 16, 17, 20, 24, 25, 31]   \n",
       "\n",
       "                                  index_dislike_resp  \n",
       "0                                      [8, 1, 12, 7]  \n",
       "1  [0, 2, 4, 6, 11, 12, 14, 17, 19, 20, 21, 27, 2...  \n",
       "2                             [4, 6, 11, 12, 15, 21]  \n",
       "3       [2, 3, 37, 6, 8, 10, 43, 13, 49, 25, 26, 30]  \n",
       "4  [0, 34, 36, 37, 5, 40, 9, 10, 43, 12, 15, 23, 26]  "
      ]
     },
     "execution_count": 29,
     "metadata": {},
     "output_type": "execute_result"
    }
   ],
   "source": [
    "train_group.head()"
   ]
  },
  {
   "cell_type": "code",
   "execution_count": 30,
   "metadata": {},
   "outputs": [
    {
     "data": {
      "text/plain": [
       "'Der Herr der Ringe: Die Rückkehr des Königs'"
      ]
     },
     "execution_count": 30,
     "metadata": {},
     "output_type": "execute_result"
    }
   ],
   "source": [
    "mapping_dict[8670]"
   ]
  },
  {
   "cell_type": "code",
   "execution_count": 31,
   "metadata": {},
   "outputs": [],
   "source": [
    "def map_with_names(row, col, mapping_dict):\n",
    "    return [mapping_dict.get(x, '') for x in np.array(row['item'])[row[col]] if len(mapping_dict.get(x, ''))>2]\n",
    "\n",
    "\n",
    "train_group['liked_prompt'] = train_group.apply(map_with_names, axis=1, col='index_like_prompt', mapping_dict=mapping_dict)\n",
    "train_group['liked_resp'] = train_group.apply(map_with_names, axis=1, col='index_like_resp', mapping_dict=mapping_dict)\n",
    "train_group['disliked_prompt'] = train_group.apply(map_with_names, axis=1, col='index_dislike_prompt', mapping_dict=mapping_dict)\n",
    "train_group['disliked_resp'] = train_group.apply(map_with_names, axis=1, col='index_dislike_resp', mapping_dict=mapping_dict)\n",
    "\n",
    "test_group['liked_prompt'] = test_group.apply(map_with_names, axis=1, col='index_like_prompt', mapping_dict=mapping_dict)\n",
    "test_group['liked_resp'] = test_group.apply(map_with_names, axis=1, col='index_like_resp', mapping_dict=mapping_dict)\n",
    "test_group['disliked_prompt'] = test_group.apply(map_with_names, axis=1, col='index_dislike_prompt', mapping_dict=mapping_dict)\n",
    "test_group['disliked_resp'] = test_group.apply(map_with_names, axis=1, col='index_dislike_resp', mapping_dict=mapping_dict)"
   ]
  },
  {
   "cell_type": "code",
   "execution_count": 32,
   "metadata": {},
   "outputs": [
    {
     "data": {
      "text/html": [
       "<div>\n",
       "<style scoped>\n",
       "    .dataframe tbody tr th:only-of-type {\n",
       "        vertical-align: middle;\n",
       "    }\n",
       "\n",
       "    .dataframe tbody tr th {\n",
       "        vertical-align: top;\n",
       "    }\n",
       "\n",
       "    .dataframe thead th {\n",
       "        text-align: right;\n",
       "    }\n",
       "</style>\n",
       "<table border=\"1\" class=\"dataframe\">\n",
       "  <thead>\n",
       "    <tr style=\"text-align: right;\">\n",
       "      <th></th>\n",
       "      <th>user</th>\n",
       "      <th>item</th>\n",
       "      <th>rating</th>\n",
       "      <th>len</th>\n",
       "      <th>index_like_prompt</th>\n",
       "      <th>index_like_resp</th>\n",
       "      <th>index_dislike_prompt</th>\n",
       "      <th>index_dislike_resp</th>\n",
       "      <th>liked_prompt</th>\n",
       "      <th>liked_resp</th>\n",
       "      <th>disliked_prompt</th>\n",
       "      <th>disliked_resp</th>\n",
       "    </tr>\n",
       "  </thead>\n",
       "  <tbody>\n",
       "    <tr>\n",
       "      <th>0</th>\n",
       "      <td>mycroft</td>\n",
       "      <td>[10547, 5029, 15987, 17226, 9609, 7479, 5, 328...</td>\n",
       "      <td>[1, 0, 1, 1, 1, 1, 1, 0, 0, 0, 1, 0, 0, 1]</td>\n",
       "      <td>14</td>\n",
       "      <td>[10, 13, 6]</td>\n",
       "      <td>[0, 2, 3, 4, 5]</td>\n",
       "      <td>[9, 11]</td>\n",
       "      <td>[8, 1, 12, 7]</td>\n",
       "      <td>[Catan, Talisman (Third Edition), Acquire]</td>\n",
       "      <td>[Betrayal at House on the Hill, Arkham Horror,...</td>\n",
       "      <td>[The Lord of the Rings, Runebound]</td>\n",
       "      <td>[Risk: Star Wars – Clone Wars Edition, Monopol...</td>\n",
       "    </tr>\n",
       "    <tr>\n",
       "      <th>1</th>\n",
       "      <td>-Loren-</td>\n",
       "      <td>[700, 27627, 478, 2471, 138788, 17166, 133038,...</td>\n",
       "      <td>[0, 1, 0, 0, 0, 0, 0, 1, 0, 1, 1, 0, 0, 1, 0, ...</td>\n",
       "      <td>79</td>\n",
       "      <td>[69, 70, 71, 74, 13, 23, 26, 35, 37, 42, 43, 4...</td>\n",
       "      <td>[1, 66, 38, 7, 41, 10, 9, 45, 46, 15, 78, 54, ...</td>\n",
       "      <td>[64, 3, 5, 8, 73, 76, 16, 18, 22, 29, 33, 36, ...</td>\n",
       "      <td>[0, 2, 4, 6, 11, 12, 14, 17, 19, 20, 21, 27, 2...</td>\n",
       "      <td>[Aton, Othello, Star Wars Miniatures, Middle-E...</td>\n",
       "      <td>[Talisman: Revised 4th Edition, Dungeon Twiste...</td>\n",
       "      <td>[Dungeons &amp; Dragons: Conquest of Nerath Board ...</td>\n",
       "      <td>[Battle Masters, Citadels, Dungeon Roll, Pathf...</td>\n",
       "    </tr>\n",
       "  </tbody>\n",
       "</table>\n",
       "</div>"
      ],
      "text/plain": [
       "       user                                               item  \\\n",
       "0   mycroft  [10547, 5029, 15987, 17226, 9609, 7479, 5, 328...   \n",
       "1   -Loren-  [700, 27627, 478, 2471, 138788, 17166, 133038,...   \n",
       "\n",
       "                                              rating  len  \\\n",
       "0         [1, 0, 1, 1, 1, 1, 1, 0, 0, 0, 1, 0, 0, 1]   14   \n",
       "1  [0, 1, 0, 0, 0, 0, 0, 1, 0, 1, 1, 0, 0, 1, 0, ...   79   \n",
       "\n",
       "                                   index_like_prompt  \\\n",
       "0                                        [10, 13, 6]   \n",
       "1  [69, 70, 71, 74, 13, 23, 26, 35, 37, 42, 43, 4...   \n",
       "\n",
       "                                     index_like_resp  \\\n",
       "0                                    [0, 2, 3, 4, 5]   \n",
       "1  [1, 66, 38, 7, 41, 10, 9, 45, 46, 15, 78, 54, ...   \n",
       "\n",
       "                                index_dislike_prompt  \\\n",
       "0                                            [9, 11]   \n",
       "1  [64, 3, 5, 8, 73, 76, 16, 18, 22, 29, 33, 36, ...   \n",
       "\n",
       "                                  index_dislike_resp  \\\n",
       "0                                      [8, 1, 12, 7]   \n",
       "1  [0, 2, 4, 6, 11, 12, 14, 17, 19, 20, 21, 27, 2...   \n",
       "\n",
       "                                        liked_prompt  \\\n",
       "0         [Catan, Talisman (Third Edition), Acquire]   \n",
       "1  [Aton, Othello, Star Wars Miniatures, Middle-E...   \n",
       "\n",
       "                                          liked_resp  \\\n",
       "0  [Betrayal at House on the Hill, Arkham Horror,...   \n",
       "1  [Talisman: Revised 4th Edition, Dungeon Twiste...   \n",
       "\n",
       "                                     disliked_prompt  \\\n",
       "0                 [The Lord of the Rings, Runebound]   \n",
       "1  [Dungeons & Dragons: Conquest of Nerath Board ...   \n",
       "\n",
       "                                       disliked_resp  \n",
       "0  [Risk: Star Wars – Clone Wars Edition, Monopol...  \n",
       "1  [Battle Masters, Citadels, Dungeon Roll, Pathf...  "
      ]
     },
     "execution_count": 32,
     "metadata": {},
     "output_type": "execute_result"
    }
   ],
   "source": [
    "train_group.head(2)"
   ]
  },
  {
   "cell_type": "code",
   "execution_count": 33,
   "metadata": {},
   "outputs": [],
   "source": [
    "train = []\n",
    "test = []\n",
    "for _, row in test_group.iterrows():\n",
    "    for item in row['liked_prompt']:\n",
    "        train.append({\n",
    "            'user_id': row['user'],\n",
    "            'item_id': item,\n",
    "            'score': 1\n",
    "        })\n",
    "    for item in row['disliked_prompt']:\n",
    "        train.append({\n",
    "            'user_id': row['user'],\n",
    "            'item_id': item,\n",
    "            'score': 0\n",
    "        })\n",
    "    for item in row['liked_resp']:\n",
    "        test.append({\n",
    "            'user_id': row['user'],\n",
    "            'item_id': item,\n",
    "            'score': 1\n",
    "        })\n",
    "    for item in row['disliked_resp']:\n",
    "        test.append({\n",
    "            'user_id': row['user'],\n",
    "            'item_id': item,\n",
    "            'score': 0\n",
    "        })\n",
    "\n",
    "pd.DataFrame(train).to_csv(\"train_adaptation.csv\")\n",
    "                    "
   ]
  },
  {
   "cell_type": "code",
   "execution_count": 34,
   "metadata": {},
   "outputs": [],
   "source": [
    "import random\n",
    "import itertools\n",
    "\n",
    "def prepare_user_prompt(row):\n",
    "    random.seed(22)\n",
    "    user_prompt = ''\n",
    "    liked_list = ', '\n",
    "    disliked_list = ', '\n",
    "    liked_part = \"\"\"I like the following items:\\n{liked_list}\\n\"\"\"\n",
    "    disliked_part = \"\"\"I dislike the following items:\\n{disliked_list}\\n\"\"\"\n",
    "    liked_items = sorted(row['liked_prompt'], key=lambda k: random.random())\n",
    "    disliked_items = sorted(row['disliked_prompt'], key=lambda k: random.random())\n",
    "    liked_list = liked_list.join(liked_items)\n",
    "    disliked_list = disliked_list.join(disliked_items)\n",
    "    if len(liked_items)>0:\n",
    "        user_prompt = user_prompt + liked_part.format(liked_list=liked_list)\n",
    "    if len(disliked_list)>0:\n",
    "        user_prompt = user_prompt + disliked_part.format(disliked_list=disliked_list)\n",
    "    \n",
    "    to_rank_list_str = ', '\n",
    "    response_part = \"\"\"\\nRank the following items:\\n{to_rank_list}\"\"\"\n",
    "    to_rank_list = list(itertools.chain(*[row['liked_resp'], row['disliked_resp']]))\n",
    "    to_rank_list = sorted(to_rank_list, key=lambda k: random.random())\n",
    "    to_rank_list = to_rank_list_str.join(to_rank_list)\n",
    "    user_prompt = user_prompt + response_part.format(to_rank_list=to_rank_list)\n",
    "    return user_prompt\n",
    "        \n",
    "def get_assistant_prompt(row):\n",
    "    ranked_list_str = ''\n",
    "    rank_part = \"\"\"Here a list:\\n{ranked_list}\\n\"\"\"\n",
    "    for i, x in enumerate(row['liked_resp']):\n",
    "        ranked_list_str = ranked_list_str + f\"{i+1}. {x}\\n\"\n",
    "    for i, x in enumerate(row['disliked_resp'], len(row['liked_resp'])):\n",
    "        ranked_list_str = ranked_list_str + f\"{i+1}. {x}\\n\"\n",
    "    return rank_part.format(ranked_list=ranked_list_str)[:-1]\n",
    "\n",
    "\n",
    "train_group['user_prompt'] = train_group.apply(prepare_user_prompt, axis=1)\n",
    "train_group['assistant_prompt'] = train_group.apply(get_assistant_prompt, axis=1)\n",
    "\n",
    "test_group['user_prompt'] = test_group.apply(prepare_user_prompt, axis=1)\n",
    "test_group['assistant_prompt'] = test_group.apply(get_assistant_prompt, axis=1)"
   ]
  },
  {
   "cell_type": "code",
   "execution_count": 35,
   "metadata": {},
   "outputs": [
    {
     "name": "stdout",
     "output_type": "stream",
     "text": [
      "I like the following items:\n",
      "Neta-Tanka: Deluxe Edition, Zombicide: Black Plague, The Brigade, Evolution: Climate, Burgle Bros., The Gallerist, Pandemic Legacy: Season 1, Trickerion: Legends of Illusion, Pax Pamir: Second Edition, Funny Friends, Chimera Station, Too Many Bones\n",
      "I dislike the following items:\n",
      "Dead Men Tell No Tales, Merchants & Marauders, Agricola, Eclipse, Caverna: The Cave Farmers, Terraforming Mars, Le Havre, The Manhattan Project, Coffee Traders, Gaia Project, Tzolk'in: The Mayan Calendar, Power Grid: The First Sparks, Grog Island, Food Chain Magnate, Race for the Galaxy, Beasty Bar, Splendor, Great Western Trail, DinoGenics, On Mars\n",
      "\n",
      "Rank the following items:\n",
      "Quirky Circuits, Captains of the Gulf, Igel Ärgern, Pangea, Spirit Island, Patchwork, Lords of Waterdeep, The 7th Continent, 7 Wonders, The Castles of Burgundy, Brass: Birmingham, Pandemic Legacy: Season 2, Terra Mystica, Time of Crisis: The Roman Empire in Turmoil, 235-284 AD, Through the Ages: A New Story of Civilization, Mechs vs. Minions, HeroQuest, Palm Island, Viral, Bios: Megafauna (Second Edition), A Feast for Odin, Wingspan, Betrayal at House on the Hill, Altiplano, The Voyages of Marco Polo, Evolution, Orléans, Lewis & Clark: The Expedition, Root, Azul, Cottage Garden, Power Grid: Factory Manager, Aeon's End, Clans of Caledonia, Drum Roll\n"
     ]
    }
   ],
   "source": [
    "print(train_group.loc[150, 'user_prompt'])"
   ]
  },
  {
   "cell_type": "code",
   "execution_count": 36,
   "metadata": {},
   "outputs": [
    {
     "name": "stdout",
     "output_type": "stream",
     "text": [
      "Here a list:\n",
      "1. The 7th Continent\n",
      "2. Lewis & Clark: The Expedition\n",
      "3. Clans of Caledonia\n",
      "4. Altiplano\n",
      "5. Pangea\n",
      "6. Root\n",
      "7. Evolution\n",
      "8. Spirit Island\n",
      "9. Captains of the Gulf\n",
      "10. Bios: Megafauna (Second Edition)\n",
      "11. Quirky Circuits\n",
      "12. Cottage Garden\n",
      "13. Mechs vs. Minions\n",
      "14. Palm Island\n",
      "15. Terra Mystica\n",
      "16. The Voyages of Marco Polo\n",
      "17. Azul\n",
      "18. Lords of Waterdeep\n",
      "19. The Castles of Burgundy\n",
      "20. Wingspan\n",
      "21. Patchwork\n",
      "22. Betrayal at House on the Hill\n",
      "23. A Feast for Odin\n",
      "24. Through the Ages: A New Story of Civilization\n",
      "25. Orléans\n",
      "26. Viral\n",
      "27. Igel Ärgern\n",
      "28. Drum Roll\n",
      "29. 7 Wonders\n",
      "30. Time of Crisis: The Roman Empire in Turmoil, 235-284 AD\n",
      "31. Pandemic Legacy: Season 2\n",
      "32. Power Grid: Factory Manager\n",
      "33. Aeon's End\n",
      "34. HeroQuest\n",
      "35. Brass: Birmingham\n",
      "\n"
     ]
    }
   ],
   "source": [
    "print(train_group.loc[150, 'assistant_prompt'])"
   ]
  },
  {
   "cell_type": "code",
   "execution_count": 37,
   "metadata": {},
   "outputs": [
    {
     "name": "stderr",
     "output_type": "stream",
     "text": [
      "\n",
      "A module that was compiled using NumPy 1.x cannot be run in\n",
      "NumPy 2.0.1 as it may crash. To support both 1.x and 2.x\n",
      "versions of NumPy, modules must be compiled with NumPy 2.0.\n",
      "Some module may need to rebuild instead e.g. with 'pybind11>=2.12'.\n",
      "\n",
      "If you are a user of the module, the easiest solution will be to\n",
      "downgrade to 'numpy<2' or try to upgrade the affected module.\n",
      "We expect that some modules will need time to support NumPy 2.\n",
      "\n",
      "Traceback (most recent call last):  File \"C:\\Users\\petru\\.pyenv\\pyenv-win\\versions\\3.10.0\\lib\\runpy.py\", line 196, in _run_module_as_main\n",
      "    return _run_code(code, main_globals, None,\n",
      "  File \"C:\\Users\\petru\\.pyenv\\pyenv-win\\versions\\3.10.0\\lib\\runpy.py\", line 86, in _run_code\n",
      "    exec(code, run_globals)\n",
      "  File \"c:\\Users\\petru\\Documents\\python_envs\\transformerVenv\\lib\\site-packages\\ipykernel_launcher.py\", line 18, in <module>\n",
      "    app.launch_new_instance()\n",
      "  File \"c:\\Users\\petru\\Documents\\python_envs\\transformerVenv\\lib\\site-packages\\traitlets\\config\\application.py\", line 1075, in launch_instance\n",
      "    app.start()\n",
      "  File \"c:\\Users\\petru\\Documents\\python_envs\\transformerVenv\\lib\\site-packages\\ipykernel\\kernelapp.py\", line 739, in start\n",
      "    self.io_loop.start()\n",
      "  File \"c:\\Users\\petru\\Documents\\python_envs\\transformerVenv\\lib\\site-packages\\tornado\\platform\\asyncio.py\", line 205, in start\n",
      "    self.asyncio_loop.run_forever()\n",
      "  File \"C:\\Users\\petru\\.pyenv\\pyenv-win\\versions\\3.10.0\\lib\\asyncio\\base_events.py\", line 595, in run_forever\n",
      "    self._run_once()\n",
      "  File \"C:\\Users\\petru\\.pyenv\\pyenv-win\\versions\\3.10.0\\lib\\asyncio\\base_events.py\", line 1881, in _run_once\n",
      "    handle._run()\n",
      "  File \"C:\\Users\\petru\\.pyenv\\pyenv-win\\versions\\3.10.0\\lib\\asyncio\\events.py\", line 80, in _run\n",
      "    self._context.run(self._callback, *self._args)\n",
      "  File \"c:\\Users\\petru\\Documents\\python_envs\\transformerVenv\\lib\\site-packages\\ipykernel\\kernelbase.py\", line 545, in dispatch_queue\n",
      "    await self.process_one()\n",
      "  File \"c:\\Users\\petru\\Documents\\python_envs\\transformerVenv\\lib\\site-packages\\ipykernel\\kernelbase.py\", line 534, in process_one\n",
      "    await dispatch(*args)\n",
      "  File \"c:\\Users\\petru\\Documents\\python_envs\\transformerVenv\\lib\\site-packages\\ipykernel\\kernelbase.py\", line 437, in dispatch_shell\n",
      "    await result\n",
      "  File \"c:\\Users\\petru\\Documents\\python_envs\\transformerVenv\\lib\\site-packages\\ipykernel\\ipkernel.py\", line 362, in execute_request\n",
      "    await super().execute_request(stream, ident, parent)\n",
      "  File \"c:\\Users\\petru\\Documents\\python_envs\\transformerVenv\\lib\\site-packages\\ipykernel\\kernelbase.py\", line 778, in execute_request\n",
      "    reply_content = await reply_content\n",
      "  File \"c:\\Users\\petru\\Documents\\python_envs\\transformerVenv\\lib\\site-packages\\ipykernel\\ipkernel.py\", line 449, in do_execute\n",
      "    res = shell.run_cell(\n",
      "  File \"c:\\Users\\petru\\Documents\\python_envs\\transformerVenv\\lib\\site-packages\\ipykernel\\zmqshell.py\", line 549, in run_cell\n",
      "    return super().run_cell(*args, **kwargs)\n",
      "  File \"c:\\Users\\petru\\Documents\\python_envs\\transformerVenv\\lib\\site-packages\\IPython\\core\\interactiveshell.py\", line 3075, in run_cell\n",
      "    result = self._run_cell(\n",
      "  File \"c:\\Users\\petru\\Documents\\python_envs\\transformerVenv\\lib\\site-packages\\IPython\\core\\interactiveshell.py\", line 3130, in _run_cell\n",
      "    result = runner(coro)\n",
      "  File \"c:\\Users\\petru\\Documents\\python_envs\\transformerVenv\\lib\\site-packages\\IPython\\core\\async_helpers.py\", line 128, in _pseudo_sync_runner\n",
      "    coro.send(None)\n",
      "  File \"c:\\Users\\petru\\Documents\\python_envs\\transformerVenv\\lib\\site-packages\\IPython\\core\\interactiveshell.py\", line 3334, in run_cell_async\n",
      "    has_raised = await self.run_ast_nodes(code_ast.body, cell_name,\n",
      "  File \"c:\\Users\\petru\\Documents\\python_envs\\transformerVenv\\lib\\site-packages\\IPython\\core\\interactiveshell.py\", line 3517, in run_ast_nodes\n",
      "    if await self.run_code(code, result, async_=asy):\n",
      "  File \"c:\\Users\\petru\\Documents\\python_envs\\transformerVenv\\lib\\site-packages\\IPython\\core\\interactiveshell.py\", line 3577, in run_code\n",
      "    exec(code_obj, self.user_global_ns, self.user_ns)\n",
      "  File \"C:\\Users\\petru\\AppData\\Local\\Temp\\ipykernel_40184\\446312449.py\", line 1, in <module>\n",
      "    from transformers import AutoTokenizer\n",
      "  File \"c:\\Users\\petru\\Documents\\python_envs\\transformerVenv\\lib\\site-packages\\transformers\\__init__.py\", line 26, in <module>\n",
      "    from . import dependency_versions_check\n",
      "  File \"c:\\Users\\petru\\Documents\\python_envs\\transformerVenv\\lib\\site-packages\\transformers\\dependency_versions_check.py\", line 16, in <module>\n",
      "    from .utils.versions import require_version, require_version_core\n",
      "  File \"c:\\Users\\petru\\Documents\\python_envs\\transformerVenv\\lib\\site-packages\\transformers\\utils\\__init__.py\", line 34, in <module>\n",
      "    from .generic import (\n",
      "  File \"c:\\Users\\petru\\Documents\\python_envs\\transformerVenv\\lib\\site-packages\\transformers\\utils\\generic.py\", line 462, in <module>\n",
      "    import torch.utils._pytree as _torch_pytree\n",
      "  File \"c:\\Users\\petru\\Documents\\python_envs\\transformerVenv\\lib\\site-packages\\torch\\__init__.py\", line 2120, in <module>\n",
      "    from torch._higher_order_ops import cond\n",
      "  File \"c:\\Users\\petru\\Documents\\python_envs\\transformerVenv\\lib\\site-packages\\torch\\_higher_order_ops\\__init__.py\", line 1, in <module>\n",
      "    from .cond import cond\n",
      "  File \"c:\\Users\\petru\\Documents\\python_envs\\transformerVenv\\lib\\site-packages\\torch\\_higher_order_ops\\cond.py\", line 5, in <module>\n",
      "    import torch._subclasses.functional_tensor\n",
      "  File \"c:\\Users\\petru\\Documents\\python_envs\\transformerVenv\\lib\\site-packages\\torch\\_subclasses\\functional_tensor.py\", line 42, in <module>\n",
      "    class FunctionalTensor(torch.Tensor):\n",
      "  File \"c:\\Users\\petru\\Documents\\python_envs\\transformerVenv\\lib\\site-packages\\torch\\_subclasses\\functional_tensor.py\", line 258, in FunctionalTensor\n",
      "    cpu = _conversion_method_template(device=torch.device(\"cpu\"))\n",
      "c:\\Users\\petru\\Documents\\python_envs\\transformerVenv\\lib\\site-packages\\torch\\_subclasses\\functional_tensor.py:258: UserWarning: Failed to initialize NumPy: _ARRAY_API not found (Triggered internally at C:\\actions-runner\\_work\\pytorch\\pytorch\\builder\\windows\\pytorch\\torch\\csrc\\utils\\tensor_numpy.cpp:84.)\n",
      "  cpu = _conversion_method_template(device=torch.device(\"cpu\"))\n"
     ]
    }
   ],
   "source": [
    "from transformers import AutoTokenizer\n",
    "tokenizer = AutoTokenizer.from_pretrained(\"../llama3\")\n",
    "tokenizer.pad_token = tokenizer.eos_token\n",
    "#tokenizer.chat_template =  \"{% set ns = namespace(i=0) %}\" \\\n",
    "#                            \"{% for message in messages %}\" \\\n",
    "#                                \"{% if message['role'] == 'system' and ns.i == 0 %}\" \\\n",
    "#                                       \"{{ bos_token +' [INST] <<SYS>>\\n' }}\" \\\n",
    "#                                       \"{{ message['content'] + ' <</SYS>>\\n'}}\" \\\n",
    "#                                \"{% elif message['role'] == 'user' %}\" \\\n",
    "#                                    \"{{ message['content'] + ' [/INST]\\n'}}\" \\\n",
    "#                                \"<|reserved_special_token_22|>\\n\"\\\n",
    "#                                \"{% elif message['role'] == 'assistant' %}\" \\\n",
    "#                                    \"{{ message['content'] + ' ' + eos_token }}\" \\\n",
    "#                                \"{% endif %}\" \\\n",
    "#                                \"{% set ns.i = ns.i+1 %}\" \\\n",
    "#                            \"{% endfor %}\"\n",
    "#\n",
    "tokenizer.chat_template =  \"{% set ns = namespace(i=0) %}\" \\\n",
    "                            \"{% for message in messages %}\" \\\n",
    "                                \"{% if message['role'] == 'system' and ns.i == 0 %}\" \\\n",
    "                                       \"{{ bos_token +' [INST] <<SYS>>\\n' }}\" \\\n",
    "                                       \"{{ message['content'] + ' <</SYS>>\\n'}}\" \\\n",
    "                                \"{% elif message['role'] == 'user' %}\" \\\n",
    "                                    \"{{ message['content'] + ' [/INST]\\n'}}\" \\\n",
    "                                \"{% elif message['role'] == 'assistant' %}\" \\\n",
    "                                    \"{{ message['content'] + '' + eos_token }}\" \\\n",
    "                                \"{% endif %}\" \\\n",
    "                                \"{% set ns.i = ns.i+1 %}\" \\\n",
    "                            \"{% endfor %}\""
   ]
  },
  {
   "cell_type": "code",
   "execution_count": 38,
   "metadata": {},
   "outputs": [],
   "source": [
    "def get_prompt(row, is_train=True):\n",
    "    messages = [\n",
    "    {\"role\": \"system\", \"content\": f\"You're operating as a {domain} recommendation system. Your task involves receiving a user's list of liked and disliked items, along with a set of candidate items, and then reordering them based on preferences.\"},\n",
    "    {\"role\": \"user\", \"content\": row['user_prompt']}\n",
    "    ]\n",
    "    if is_train:\n",
    "        messages.append({\"role\": \"assistant\", \"content\": row['assistant_prompt']})\n",
    "    return tokenizer.apply_chat_template(messages, tokenize=False)"
   ]
  },
  {
   "cell_type": "code",
   "execution_count": 39,
   "metadata": {},
   "outputs": [],
   "source": [
    "train_group['prompt'] = train_group.apply(get_prompt, axis=1, is_train=True)\n",
    "test_group['prompt'] = test_group.apply(get_prompt, axis=1, is_train=False)"
   ]
  },
  {
   "cell_type": "code",
   "execution_count": 40,
   "metadata": {},
   "outputs": [
    {
     "data": {
      "text/html": [
       "<div>\n",
       "<style scoped>\n",
       "    .dataframe tbody tr th:only-of-type {\n",
       "        vertical-align: middle;\n",
       "    }\n",
       "\n",
       "    .dataframe tbody tr th {\n",
       "        vertical-align: top;\n",
       "    }\n",
       "\n",
       "    .dataframe thead th {\n",
       "        text-align: right;\n",
       "    }\n",
       "</style>\n",
       "<table border=\"1\" class=\"dataframe\">\n",
       "  <thead>\n",
       "    <tr style=\"text-align: right;\">\n",
       "      <th></th>\n",
       "      <th>user</th>\n",
       "      <th>item</th>\n",
       "      <th>rating</th>\n",
       "      <th>len</th>\n",
       "      <th>index_like_prompt</th>\n",
       "      <th>index_like_resp</th>\n",
       "      <th>index_dislike_prompt</th>\n",
       "      <th>index_dislike_resp</th>\n",
       "      <th>liked_prompt</th>\n",
       "      <th>liked_resp</th>\n",
       "      <th>disliked_prompt</th>\n",
       "      <th>disliked_resp</th>\n",
       "      <th>user_prompt</th>\n",
       "      <th>assistant_prompt</th>\n",
       "      <th>prompt</th>\n",
       "    </tr>\n",
       "  </thead>\n",
       "  <tbody>\n",
       "    <tr>\n",
       "      <th>0</th>\n",
       "      <td>mycroft</td>\n",
       "      <td>[10547, 5029, 15987, 17226, 9609, 7479, 5, 328...</td>\n",
       "      <td>[1, 0, 1, 1, 1, 1, 1, 0, 0, 0, 1, 0, 0, 1]</td>\n",
       "      <td>14</td>\n",
       "      <td>[10, 13, 6]</td>\n",
       "      <td>[0, 2, 3, 4, 5]</td>\n",
       "      <td>[9, 11]</td>\n",
       "      <td>[8, 1, 12, 7]</td>\n",
       "      <td>[Catan, Talisman (Third Edition), Acquire]</td>\n",
       "      <td>[Betrayal at House on the Hill, Arkham Horror,...</td>\n",
       "      <td>[The Lord of the Rings, Runebound]</td>\n",
       "      <td>[Risk: Star Wars – Clone Wars Edition, Monopol...</td>\n",
       "      <td>I like the following items:\\nAcquire, Talisman...</td>\n",
       "      <td>Here a list:\\n1. Betrayal at House on the Hill...</td>\n",
       "      <td>&lt;|begin_of_text|&gt; [INST] &lt;&lt;SYS&gt;&gt;\\nYou're opera...</td>\n",
       "    </tr>\n",
       "    <tr>\n",
       "      <th>1</th>\n",
       "      <td>-Loren-</td>\n",
       "      <td>[700, 27627, 478, 2471, 138788, 17166, 133038,...</td>\n",
       "      <td>[0, 1, 0, 0, 0, 0, 0, 1, 0, 1, 1, 0, 0, 1, 0, ...</td>\n",
       "      <td>79</td>\n",
       "      <td>[69, 70, 71, 74, 13, 23, 26, 35, 37, 42, 43, 4...</td>\n",
       "      <td>[1, 66, 38, 7, 41, 10, 9, 45, 46, 15, 78, 54, ...</td>\n",
       "      <td>[64, 3, 5, 8, 73, 76, 16, 18, 22, 29, 33, 36, ...</td>\n",
       "      <td>[0, 2, 4, 6, 11, 12, 14, 17, 19, 20, 21, 27, 2...</td>\n",
       "      <td>[Aton, Othello, Star Wars Miniatures, Middle-E...</td>\n",
       "      <td>[Talisman: Revised 4th Edition, Dungeon Twiste...</td>\n",
       "      <td>[Dungeons &amp; Dragons: Conquest of Nerath Board ...</td>\n",
       "      <td>[Battle Masters, Citadels, Dungeon Roll, Pathf...</td>\n",
       "      <td>I like the following items:\\nStar Wars Miniatu...</td>\n",
       "      <td>Here a list:\\n1. Talisman: Revised 4th Edition...</td>\n",
       "      <td>&lt;|begin_of_text|&gt; [INST] &lt;&lt;SYS&gt;&gt;\\nYou're opera...</td>\n",
       "    </tr>\n",
       "  </tbody>\n",
       "</table>\n",
       "</div>"
      ],
      "text/plain": [
       "       user                                               item  \\\n",
       "0   mycroft  [10547, 5029, 15987, 17226, 9609, 7479, 5, 328...   \n",
       "1   -Loren-  [700, 27627, 478, 2471, 138788, 17166, 133038,...   \n",
       "\n",
       "                                              rating  len  \\\n",
       "0         [1, 0, 1, 1, 1, 1, 1, 0, 0, 0, 1, 0, 0, 1]   14   \n",
       "1  [0, 1, 0, 0, 0, 0, 0, 1, 0, 1, 1, 0, 0, 1, 0, ...   79   \n",
       "\n",
       "                                   index_like_prompt  \\\n",
       "0                                        [10, 13, 6]   \n",
       "1  [69, 70, 71, 74, 13, 23, 26, 35, 37, 42, 43, 4...   \n",
       "\n",
       "                                     index_like_resp  \\\n",
       "0                                    [0, 2, 3, 4, 5]   \n",
       "1  [1, 66, 38, 7, 41, 10, 9, 45, 46, 15, 78, 54, ...   \n",
       "\n",
       "                                index_dislike_prompt  \\\n",
       "0                                            [9, 11]   \n",
       "1  [64, 3, 5, 8, 73, 76, 16, 18, 22, 29, 33, 36, ...   \n",
       "\n",
       "                                  index_dislike_resp  \\\n",
       "0                                      [8, 1, 12, 7]   \n",
       "1  [0, 2, 4, 6, 11, 12, 14, 17, 19, 20, 21, 27, 2...   \n",
       "\n",
       "                                        liked_prompt  \\\n",
       "0         [Catan, Talisman (Third Edition), Acquire]   \n",
       "1  [Aton, Othello, Star Wars Miniatures, Middle-E...   \n",
       "\n",
       "                                          liked_resp  \\\n",
       "0  [Betrayal at House on the Hill, Arkham Horror,...   \n",
       "1  [Talisman: Revised 4th Edition, Dungeon Twiste...   \n",
       "\n",
       "                                     disliked_prompt  \\\n",
       "0                 [The Lord of the Rings, Runebound]   \n",
       "1  [Dungeons & Dragons: Conquest of Nerath Board ...   \n",
       "\n",
       "                                       disliked_resp  \\\n",
       "0  [Risk: Star Wars – Clone Wars Edition, Monopol...   \n",
       "1  [Battle Masters, Citadels, Dungeon Roll, Pathf...   \n",
       "\n",
       "                                         user_prompt  \\\n",
       "0  I like the following items:\\nAcquire, Talisman...   \n",
       "1  I like the following items:\\nStar Wars Miniatu...   \n",
       "\n",
       "                                    assistant_prompt  \\\n",
       "0  Here a list:\\n1. Betrayal at House on the Hill...   \n",
       "1  Here a list:\\n1. Talisman: Revised 4th Edition...   \n",
       "\n",
       "                                              prompt  \n",
       "0  <|begin_of_text|> [INST] <<SYS>>\\nYou're opera...  \n",
       "1  <|begin_of_text|> [INST] <<SYS>>\\nYou're opera...  "
      ]
     },
     "execution_count": 40,
     "metadata": {},
     "output_type": "execute_result"
    }
   ],
   "source": [
    "train_group.head(2)"
   ]
  },
  {
   "cell_type": "code",
   "execution_count": 41,
   "metadata": {},
   "outputs": [],
   "source": [
    "def get_description_liked(row):\n",
    "    liked_item_index = row['index_like_resp']\n",
    "    likex_items = np.array(row['item'])[liked_item_index]\n",
    "    return '\\n'.join([item_desc_dict.get(y, '') for y in likex_items])"
   ]
  },
  {
   "cell_type": "code",
   "execution_count": 42,
   "metadata": {},
   "outputs": [],
   "source": [
    "train_group['descriptions'] = train_group['item'].apply(lambda x: [item_desc_dict.get(y, '') for y in x if len(item_desc_dict.get(y, ''))>2])\n",
    "#train_group['descriptions'] = train_group.apply(get_description_liked, axis=1)"
   ]
  },
  {
   "cell_type": "code",
   "execution_count": 43,
   "metadata": {},
   "outputs": [
    {
     "data": {
      "text/html": [
       "<div>\n",
       "<style scoped>\n",
       "    .dataframe tbody tr th:only-of-type {\n",
       "        vertical-align: middle;\n",
       "    }\n",
       "\n",
       "    .dataframe tbody tr th {\n",
       "        vertical-align: top;\n",
       "    }\n",
       "\n",
       "    .dataframe thead th {\n",
       "        text-align: right;\n",
       "    }\n",
       "</style>\n",
       "<table border=\"1\" class=\"dataframe\">\n",
       "  <thead>\n",
       "    <tr style=\"text-align: right;\">\n",
       "      <th></th>\n",
       "      <th>user</th>\n",
       "      <th>item</th>\n",
       "      <th>rating</th>\n",
       "      <th>len</th>\n",
       "      <th>index_like_prompt</th>\n",
       "      <th>index_like_resp</th>\n",
       "      <th>index_dislike_prompt</th>\n",
       "      <th>index_dislike_resp</th>\n",
       "      <th>liked_prompt</th>\n",
       "      <th>liked_resp</th>\n",
       "      <th>disliked_prompt</th>\n",
       "      <th>disliked_resp</th>\n",
       "      <th>user_prompt</th>\n",
       "      <th>assistant_prompt</th>\n",
       "      <th>prompt</th>\n",
       "      <th>descriptions</th>\n",
       "    </tr>\n",
       "  </thead>\n",
       "  <tbody>\n",
       "    <tr>\n",
       "      <th>0</th>\n",
       "      <td>mycroft</td>\n",
       "      <td>[10547, 5029, 15987, 17226, 9609, 7479, 5, 328...</td>\n",
       "      <td>[1, 0, 1, 1, 1, 1, 1, 0, 0, 0, 1, 0, 0, 1]</td>\n",
       "      <td>14</td>\n",
       "      <td>[10, 13, 6]</td>\n",
       "      <td>[0, 2, 3, 4, 5]</td>\n",
       "      <td>[9, 11]</td>\n",
       "      <td>[8, 1, 12, 7]</td>\n",
       "      <td>[Catan, Talisman (Third Edition), Acquire]</td>\n",
       "      <td>[Betrayal at House on the Hill, Arkham Horror,...</td>\n",
       "      <td>[The Lord of the Rings, Runebound]</td>\n",
       "      <td>[Risk: Star Wars – Clone Wars Edition, Monopol...</td>\n",
       "      <td>I like the following items:\\nAcquire, Talisman...</td>\n",
       "      <td>Here a list:\\n1. Betrayal at House on the Hill...</td>\n",
       "      <td>&lt;|begin_of_text|&gt; [INST] &lt;&lt;SYS&gt;&gt;\\nYou're opera...</td>\n",
       "      <td>[Betrayal at House on the Hill is a board game...</td>\n",
       "    </tr>\n",
       "    <tr>\n",
       "      <th>1</th>\n",
       "      <td>-Loren-</td>\n",
       "      <td>[700, 27627, 478, 2471, 138788, 17166, 133038,...</td>\n",
       "      <td>[0, 1, 0, 0, 0, 0, 0, 1, 0, 1, 1, 0, 0, 1, 0, ...</td>\n",
       "      <td>79</td>\n",
       "      <td>[69, 70, 71, 74, 13, 23, 26, 35, 37, 42, 43, 4...</td>\n",
       "      <td>[1, 66, 38, 7, 41, 10, 9, 45, 46, 15, 78, 54, ...</td>\n",
       "      <td>[64, 3, 5, 8, 73, 76, 16, 18, 22, 29, 33, 36, ...</td>\n",
       "      <td>[0, 2, 4, 6, 11, 12, 14, 17, 19, 20, 21, 27, 2...</td>\n",
       "      <td>[Aton, Othello, Star Wars Miniatures, Middle-E...</td>\n",
       "      <td>[Talisman: Revised 4th Edition, Dungeon Twiste...</td>\n",
       "      <td>[Dungeons &amp; Dragons: Conquest of Nerath Board ...</td>\n",
       "      <td>[Battle Masters, Citadels, Dungeon Roll, Pathf...</td>\n",
       "      <td>I like the following items:\\nStar Wars Miniatu...</td>\n",
       "      <td>Here a list:\\n1. Talisman: Revised 4th Edition...</td>\n",
       "      <td>&lt;|begin_of_text|&gt; [INST] &lt;&lt;SYS&gt;&gt;\\nYou're opera...</td>\n",
       "      <td>[Battle Masters is a board game. An alternate ...</td>\n",
       "    </tr>\n",
       "  </tbody>\n",
       "</table>\n",
       "</div>"
      ],
      "text/plain": [
       "       user                                               item  \\\n",
       "0   mycroft  [10547, 5029, 15987, 17226, 9609, 7479, 5, 328...   \n",
       "1   -Loren-  [700, 27627, 478, 2471, 138788, 17166, 133038,...   \n",
       "\n",
       "                                              rating  len  \\\n",
       "0         [1, 0, 1, 1, 1, 1, 1, 0, 0, 0, 1, 0, 0, 1]   14   \n",
       "1  [0, 1, 0, 0, 0, 0, 0, 1, 0, 1, 1, 0, 0, 1, 0, ...   79   \n",
       "\n",
       "                                   index_like_prompt  \\\n",
       "0                                        [10, 13, 6]   \n",
       "1  [69, 70, 71, 74, 13, 23, 26, 35, 37, 42, 43, 4...   \n",
       "\n",
       "                                     index_like_resp  \\\n",
       "0                                    [0, 2, 3, 4, 5]   \n",
       "1  [1, 66, 38, 7, 41, 10, 9, 45, 46, 15, 78, 54, ...   \n",
       "\n",
       "                                index_dislike_prompt  \\\n",
       "0                                            [9, 11]   \n",
       "1  [64, 3, 5, 8, 73, 76, 16, 18, 22, 29, 33, 36, ...   \n",
       "\n",
       "                                  index_dislike_resp  \\\n",
       "0                                      [8, 1, 12, 7]   \n",
       "1  [0, 2, 4, 6, 11, 12, 14, 17, 19, 20, 21, 27, 2...   \n",
       "\n",
       "                                        liked_prompt  \\\n",
       "0         [Catan, Talisman (Third Edition), Acquire]   \n",
       "1  [Aton, Othello, Star Wars Miniatures, Middle-E...   \n",
       "\n",
       "                                          liked_resp  \\\n",
       "0  [Betrayal at House on the Hill, Arkham Horror,...   \n",
       "1  [Talisman: Revised 4th Edition, Dungeon Twiste...   \n",
       "\n",
       "                                     disliked_prompt  \\\n",
       "0                 [The Lord of the Rings, Runebound]   \n",
       "1  [Dungeons & Dragons: Conquest of Nerath Board ...   \n",
       "\n",
       "                                       disliked_resp  \\\n",
       "0  [Risk: Star Wars – Clone Wars Edition, Monopol...   \n",
       "1  [Battle Masters, Citadels, Dungeon Roll, Pathf...   \n",
       "\n",
       "                                         user_prompt  \\\n",
       "0  I like the following items:\\nAcquire, Talisman...   \n",
       "1  I like the following items:\\nStar Wars Miniatu...   \n",
       "\n",
       "                                    assistant_prompt  \\\n",
       "0  Here a list:\\n1. Betrayal at House on the Hill...   \n",
       "1  Here a list:\\n1. Talisman: Revised 4th Edition...   \n",
       "\n",
       "                                              prompt  \\\n",
       "0  <|begin_of_text|> [INST] <<SYS>>\\nYou're opera...   \n",
       "1  <|begin_of_text|> [INST] <<SYS>>\\nYou're opera...   \n",
       "\n",
       "                                        descriptions  \n",
       "0  [Betrayal at House on the Hill is a board game...  \n",
       "1  [Battle Masters is a board game. An alternate ...  "
      ]
     },
     "execution_count": 43,
     "metadata": {},
     "output_type": "execute_result"
    }
   ],
   "source": [
    "train_group.head(2)"
   ]
  },
  {
   "cell_type": "code",
   "execution_count": 44,
   "metadata": {},
   "outputs": [],
   "source": [
    "train_group.to_pickle(os.path.join(datapath, f'{dataset}_train_dataset_graph.pkl'))\n",
    "test_group.to_pickle(os.path.join(datapath, f'{dataset}_test_dataset_graph.pkl'))"
   ]
  },
  {
   "cell_type": "code",
   "execution_count": 45,
   "metadata": {},
   "outputs": [],
   "source": [
    "prompts = train_group['prompt'].tolist() #* 3"
   ]
  },
  {
   "cell_type": "code",
   "execution_count": 46,
   "metadata": {},
   "outputs": [],
   "source": [
    "descriptions = list(item_desc_dict.values())"
   ]
  },
  {
   "cell_type": "code",
   "execution_count": 47,
   "metadata": {},
   "outputs": [],
   "source": [
    "descriptions = [f'{tokenizer.bos_token} ' + x + f' {tokenizer.eos_token}' for x in descriptions]"
   ]
  },
  {
   "cell_type": "code",
   "execution_count": 48,
   "metadata": {},
   "outputs": [],
   "source": [
    "import json\n",
    "\n",
    "with open(os.path.join(datapath, f'{dataset}_graph_kn_train_set.jsonl'), 'w') as outfile:\n",
    "    for x in descriptions:\n",
    "        json.dump({'text':x}, outfile)\n",
    "        outfile.write('\\n')"
   ]
  },
  {
   "cell_type": "code",
   "execution_count": 48,
   "metadata": {},
   "outputs": [],
   "source": [
    "import random \n",
    "\n",
    "random.seed(22)\n",
    "train_set = prompts + descriptions* 3\n",
    "\n",
    "random.shuffle(train_set)"
   ]
  },
  {
   "cell_type": "code",
   "execution_count": 49,
   "metadata": {},
   "outputs": [
    {
     "data": {
      "text/plain": [
       "199670"
      ]
     },
     "execution_count": 49,
     "metadata": {},
     "output_type": "execute_result"
    }
   ],
   "source": [
    "len(train_set)"
   ]
  },
  {
   "cell_type": "code",
   "execution_count": 50,
   "metadata": {},
   "outputs": [],
   "source": [
    "import json\n",
    "\n",
    "with open(os.path.join(datapath, f'{dataset}_train_set_kgraph.jsonl'), 'w') as outfile:\n",
    "    for x in train_set:\n",
    "        json.dump({'text':x}, outfile)\n",
    "        outfile.write('\\n')"
   ]
  },
  {
   "cell_type": "code",
   "execution_count": 51,
   "metadata": {},
   "outputs": [],
   "source": [
    "import json\n",
    "\n",
    "with open(os.path.join(datapath, f'{dataset}_train_set_no_kn.jsonl'), 'w') as outfile:\n",
    "    for x in train_group['prompt'].tolist():\n",
    "        json.dump({'text':x}, outfile)\n",
    "        outfile.write('\\n')"
   ]
  },
  {
   "cell_type": "code",
   "execution_count": 53,
   "metadata": {},
   "outputs": [],
   "source": [
    "prompts = test_group['prompt'].tolist()"
   ]
  },
  {
   "cell_type": "code",
   "execution_count": 54,
   "metadata": {},
   "outputs": [],
   "source": [
    "import json\n",
    "\n",
    "with open(os.path.join(datapath, f'{dataset}_test_set.jsonl'), 'w') as outfile:\n",
    "    for x in prompts:\n",
    "        json.dump({'text':x}, outfile)\n",
    "        outfile.write('\\n')"
   ]
  },
  {
   "cell_type": "markdown",
   "metadata": {},
   "source": [
    "# Baseline"
   ]
  },
  {
   "cell_type": "code",
   "execution_count": 49,
   "metadata": {},
   "outputs": [],
   "source": [
    "train_bs = pd.concat([test_group.loc[:, ['user', 'index_like_prompt', 'index_dislike_prompt', 'item']],\\\n",
    "                      train_group.loc[:, ['user', 'index_like_prompt', 'index_dislike_prompt', 'item']]])\n",
    "test_bs = test_group.loc[:, ['user', 'index_like_resp', 'index_dislike_resp', 'item']]"
   ]
  },
  {
   "cell_type": "code",
   "execution_count": 50,
   "metadata": {},
   "outputs": [],
   "source": [
    "train_bs['bs_format'] = train_bs.apply(lambda x:[{'user_id:token': x['user'], 'item_id:token': x['item'][item], 'rating:float': 1} for item in x['index_like_prompt']], axis=1)\n",
    "train_bs['bs_format'] = train_bs['bs_format'] + train_bs.apply(lambda x:[{'user_id:token': x['user'], 'item_id:token': x['item'][item], 'rating:float': 0} for item in x['index_dislike_prompt']], axis=1)\n",
    "\n",
    "test_bs['bs_format'] = test_bs.apply(lambda x:[{'user_id:token': x['user'], 'item_id:token': x['item'][item], 'rating:float': 1} for item in x['index_like_resp']], axis=1)\n",
    "test_bs['bs_format'] = test_bs['bs_format'] + test_bs.apply(lambda x:[{'user_id:token': x['user'], 'item_id:token': x['item'][item], 'rating:float': 0} for item in x['index_dislike_resp']], axis=1)"
   ]
  },
  {
   "cell_type": "code",
   "execution_count": 51,
   "metadata": {},
   "outputs": [],
   "source": [
    "item_set_bs = set(x['item_id:token'] for x in list(itertools.chain(*test_bs['bs_format'].tolist())) + list(itertools.chain(*train_bs['bs_format'].tolist())))"
   ]
  },
  {
   "cell_type": "code",
   "execution_count": 52,
   "metadata": {},
   "outputs": [],
   "source": [
    "property_graph_bs = property_graph[property_graph['item'].isin(item_set_bs)].rename(columns={\n",
    "    'item':\"head_id:token\",\n",
    "    'rel': \"relation_id:token\",\n",
    "    'prop': \"tail_id:token\"\n",
    "})\n",
    "link_bs = property_graph_bs.loc[:, ['head_id:token']].copy()\n",
    "link_bs['item_id:token'] = link_bs.loc[:, ['head_id:token']].apply(lambda x:x)\n",
    "link_bs = link_bs.rename(columns={\n",
    "    'head_id:token': \"entity_id:token\",\n",
    "})\n",
    "\n",
    "property_graph_bs.loc[:, ['head_id:token', 'relation_id:token', 'tail_id:token']].to_csv(os.path.join(datapath, 'baseline', f'{dataset}.kg'), sep='\\t', index=False)\n",
    "link_bs.to_csv(os.path.join(datapath, 'baseline', f'{dataset}.link'), sep='\\t', index=False)"
   ]
  },
  {
   "cell_type": "code",
   "execution_count": 62,
   "metadata": {},
   "outputs": [],
   "source": [
    "import itertools\n",
    "\n",
    "os.makedirs(os.path.join(datapath, 'baseline'), exist_ok=True)\n",
    "pd.DataFrame(list(itertools.chain(*test_bs['bs_format'].tolist()))).to_csv(os.path.join(datapath, 'baseline', f'{dataset}.part3.inter'), sep='\\t', index=False)\n",
    "pd.DataFrame(list(itertools.chain(*train_bs['bs_format'].tolist()))).to_csv(os.path.join(datapath, 'baseline', f'{dataset}.part1.inter'), sep='\\t', index=False)"
   ]
  },
  {
   "cell_type": "markdown",
   "metadata": {},
   "source": [
    "# EXTRA"
   ]
  },
  {
   "cell_type": "code",
   "execution_count": 264,
   "metadata": {},
   "outputs": [],
   "source": [
    "splits = np.array_split(train_group['descriptions'].to_list(), 10)"
   ]
  },
  {
   "cell_type": "code",
   "execution_count": 265,
   "metadata": {},
   "outputs": [],
   "source": [
    "lens = []\n",
    "for split in splits:\n",
    "    tok = tokenizer(split.tolist(), return_length=True)\n",
    "    lens.append(tok['length'])"
   ]
  },
  {
   "cell_type": "code",
   "execution_count": 266,
   "metadata": {},
   "outputs": [
    {
     "data": {
      "text/plain": [
       "count     1505.000000\n",
       "mean      5111.520266\n",
       "std       3790.858846\n",
       "min          1.000000\n",
       "25%       2230.000000\n",
       "50%       4281.000000\n",
       "75%       7250.000000\n",
       "max      24073.000000\n",
       "dtype: float64"
      ]
     },
     "metadata": {},
     "output_type": "display_data"
    }
   ],
   "source": [
    "display(pd.Series(list(chain(*lens))).describe())"
   ]
  },
  {
   "cell_type": "code",
   "execution_count": 243,
   "metadata": {},
   "outputs": [
    {
     "data": {
      "text/plain": [
       "[128027]"
      ]
     },
     "execution_count": 243,
     "metadata": {},
     "output_type": "execute_result"
    }
   ],
   "source": [
    "tokenizer.encode(\"<|reserved_special_token_22|>\", add_special_tokens=False)"
   ]
  },
  {
   "cell_type": "code",
   "execution_count": null,
   "metadata": {},
   "outputs": [],
   "source": [
    "if dataset in ['dbbook', 'movielens']:\n",
    "    item_prop_df = pd.read_csv(os.path.join(datapath, 'item-prop', 'train.tsv'), \\\n",
    "                names=['item', 'prop', 'rel'], sep='\\t')\n",
    "else:\n",
    "    item_prop_df = pd.read_csv(os.path.join(datapath, 'item-prop', 'train.tsv'), \\\n",
    "                names=['item', 'rel', 'prop'], sep='\\t')"
   ]
  },
  {
   "cell_type": "code",
   "execution_count": null,
   "metadata": {},
   "outputs": [],
   "source": [
    "item_prop_df"
   ]
  },
  {
   "cell_type": "code",
   "execution_count": null,
   "metadata": {},
   "outputs": [],
   "source": [
    "if dataset == 'dbbook':\n",
    "    mapping_rel = pd.read_csv(os.path.join(datapath, 'mapping_relations.tsv'), \\\n",
    "            names=['id_rel', 'name_rel'], sep='\\t')\n",
    "else:\n",
    "    mapping_rel = pd.read_csv(os.path.join(datapath, 'mapping_relations.tsv'), \\\n",
    "                names=['name_rel', 'id_rel'], sep='\\t')\n",
    "mapping_rel.head()"
   ]
  },
  {
   "cell_type": "code",
   "execution_count": null,
   "metadata": {},
   "outputs": [],
   "source": [
    "mapping_rel['name_rel_red']=mapping_rel['name_rel'].apply(lambda x: x.split(\"/\")[-1])"
   ]
  },
  {
   "cell_type": "code",
   "execution_count": null,
   "metadata": {},
   "outputs": [],
   "source": [
    "mapping_rel"
   ]
  },
  {
   "cell_type": "code",
   "execution_count": null,
   "metadata": {},
   "outputs": [],
   "source": [
    "mapping_rel[mapping_rel['id_rel'].isin(item_prop_df['rel'].unique())]"
   ]
  },
  {
   "cell_type": "code",
   "execution_count": null,
   "metadata": {},
   "outputs": [],
   "source": [
    "item_desription = pd.read_csv(os.path.join(datapath, dataset+'.txt'), sep=';;', names=['item_id', 'description'],  on_bad_lines='skip')"
   ]
  },
  {
   "cell_type": "code",
   "execution_count": null,
   "metadata": {},
   "outputs": [],
   "source": [
    "item_desription.head()"
   ]
  },
  {
   "cell_type": "code",
   "execution_count": null,
   "metadata": {},
   "outputs": [],
   "source": [
    "len(item_desription['description'].unique())"
   ]
  },
  {
   "cell_type": "code",
   "execution_count": null,
   "metadata": {},
   "outputs": [],
   "source": [
    "item_desription.shape"
   ]
  },
  {
   "cell_type": "code",
   "execution_count": null,
   "metadata": {},
   "outputs": [],
   "source": [
    "len(item_desription[item_desription['item_id'].isin(user_item_df['item'].unique())]['description'].unique())"
   ]
  },
  {
   "cell_type": "code",
   "execution_count": null,
   "metadata": {},
   "outputs": [],
   "source": []
  }
 ],
 "metadata": {
  "kernelspec": {
   "display_name": "transfromers_env",
   "language": "python",
   "name": "python3"
  },
  "language_info": {
   "codemirror_mode": {
    "name": "ipython",
    "version": 3
   },
   "file_extension": ".py",
   "mimetype": "text/x-python",
   "name": "python",
   "nbconvert_exporter": "python",
   "pygments_lexer": "ipython3",
   "version": "3.10.0"
  }
 },
 "nbformat": 4,
 "nbformat_minor": 2
}
