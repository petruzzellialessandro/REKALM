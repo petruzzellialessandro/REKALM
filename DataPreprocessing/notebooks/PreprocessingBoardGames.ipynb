{
 "cells": [
  {
   "cell_type": "code",
   "execution_count": 1,
   "metadata": {},
   "outputs": [],
   "source": [
    "import pandas as pd\n",
    "from ast import literal_eval\n",
    "import numpy as np"
   ]
  },
  {
   "cell_type": "code",
   "execution_count": 4,
   "metadata": {},
   "outputs": [
    {
     "name": "stderr",
     "output_type": "stream",
     "text": [
      "C:\\Users\\petru\\AppData\\Local\\Temp\\ipykernel_24344\\242640057.py:8: DtypeWarning: Columns (29,48) have mixed types. Specify dtype option on import or set low_memory=False.\n",
      "  info_items = pd.read_csv(os.path.join(starting_data_path, 'games_detailed_info.csv'), index_col=0)\n"
     ]
    }
   ],
   "source": [
    "dataset = 'boardgamegeek'\n",
    "\n",
    "import os\n",
    "datapath = os.path.join('..', 'data', dataset)\n",
    "\n",
    "os.makedirs(datapath, exist_ok=True)\n",
    "starting_data_path = os.path.join('..', 'data', 'boardgames_archive')\n",
    "info_items = pd.read_csv(os.path.join(starting_data_path, 'games_detailed_info.csv'), index_col=0) \n",
    "info_items.replace(np.nan, '[]', inplace=True)\n",
    "info_items.to_csv(os.path.join(datapath,'info.csv'), index=False)"
   ]
  },
  {
   "cell_type": "code",
   "execution_count": 5,
   "metadata": {},
   "outputs": [
    {
     "name": "stderr",
     "output_type": "stream",
     "text": [
      "C:\\Users\\petru\\AppData\\Local\\Temp\\ipykernel_24344\\1908206490.py:1: DtypeWarning: Columns (28) have mixed types. Specify dtype option on import or set low_memory=False.\n",
      "  info_items = pd.read_csv(os.path.join(datapath,'info.csv'), converters={'alternate': literal_eval,\\\n"
     ]
    }
   ],
   "source": [
    "info_items = pd.read_csv(os.path.join(datapath,'info.csv'), converters={'alternate': literal_eval,\\\n",
    "                                                'boardgamecategory': literal_eval,\\\n",
    "                                                'boardgamemechanic': literal_eval,\\\n",
    "                                                'boardgamefamily': literal_eval,\\\n",
    "                                                'boardgameexpansion': literal_eval,\\\n",
    "                                                'boardgameimplementation': literal_eval,\\\n",
    "                                                'boardgamedesigner': literal_eval,\\\n",
    "                                                'boardgameartist': literal_eval,\\\n",
    "                                                'boardgamepublisher': literal_eval})"
   ]
  },
  {
   "cell_type": "code",
   "execution_count": 22,
   "metadata": {},
   "outputs": [
    {
     "data": {
      "text/plain": [
       "21631"
      ]
     },
     "execution_count": 22,
     "metadata": {},
     "output_type": "execute_result"
    }
   ],
   "source": [
    "len(info_items)"
   ]
  },
  {
   "cell_type": "code",
   "execution_count": null,
   "metadata": {},
   "outputs": [],
   "source": [
    "#import urllib.request\n",
    "#import swifter\n",
    "#\n",
    "#altready_down = set([x.replace('.jpg', '') for x in os.listdir(os.path.join(starting_data_path, 'images'))])\n",
    "#\n",
    "#def download_images(row):\n",
    "#    id_ = row['id']\n",
    "#    if id_ in altready_down:\n",
    "#        return\n",
    "#    else:\n",
    "#        if 'https' in row['image']:\n",
    "#            urllib.request.urlretrieve(row['image'], os.path.join(starting_data_path, 'images', f\"{id_}.jpg\"))\n",
    "#        else:\n",
    "#            return\n",
    "#\n",
    "##os.makedirs(os.path.join(starting_data_path, 'images'))\n",
    "#info_items.swifter.apply(download_images, axis=1)"
   ]
  },
  {
   "cell_type": "code",
   "execution_count": null,
   "metadata": {},
   "outputs": [],
   "source": [
    "rev = pd.read_csv(os.path.join(starting_data_path,'bgg-19m-reviews.csv'), index_col=0)"
   ]
  },
  {
   "cell_type": "code",
   "execution_count": null,
   "metadata": {},
   "outputs": [],
   "source": [
    "rev['rating'].describe()"
   ]
  },
  {
   "cell_type": "code",
   "execution_count": null,
   "metadata": {},
   "outputs": [],
   "source": [
    "168733"
   ]
  },
  {
   "cell_type": "code",
   "execution_count": null,
   "metadata": {},
   "outputs": [],
   "source": [
    "agg_df = rev.groupby('user').agg({\n",
    "    'ID': list\n",
    "})\n",
    "agg_df = agg_df.reset_index()\n",
    "agg_df['count'] = agg_df['ID'].apply(len)\n",
    "agg_df = agg_df[agg_df['count']>10]\n",
    "\n",
    "agg_df = agg_df[agg_df['count']<100]\n",
    "core_10_user = set(agg_df['user'].tolist())\n",
    "\n",
    "rev = rev[rev['user'].isin(core_10_user)]"
   ]
  },
  {
   "cell_type": "code",
   "execution_count": null,
   "metadata": {},
   "outputs": [],
   "source": [
    "from itertools import chain\n",
    "\n",
    "core_items = set(chain(*agg_df['ID'].tolist()))"
   ]
  },
  {
   "cell_type": "code",
   "execution_count": null,
   "metadata": {},
   "outputs": [],
   "source": [
    "info_items.columns"
   ]
  },
  {
   "cell_type": "code",
   "execution_count": null,
   "metadata": {},
   "outputs": [],
   "source": [
    "info_items = info_items.loc[:, ['type', 'id', 'thumbnail', 'image', 'primary', 'alternate',\n",
    "       'description', 'yearpublished', 'minplayers', 'maxplayers',\n",
    "       'suggested_num_players', 'suggested_playerage',\n",
    "       'suggested_language_dependence', 'playingtime', 'minplaytime',\n",
    "       'maxplaytime', 'minage', 'boardgamecategory', 'boardgamemechanic',\n",
    "       'boardgamefamily', 'boardgameexpansion', 'boardgameimplementation',\n",
    "       'boardgamedesigner', 'boardgameartist', 'boardgamepublisher',\n",
    "       'usersrated',]]"
   ]
  },
  {
   "cell_type": "code",
   "execution_count": null,
   "metadata": {},
   "outputs": [],
   "source": [
    "info_items = info_items[info_items['id'].isin(core_items)]"
   ]
  },
  {
   "cell_type": "code",
   "execution_count": null,
   "metadata": {},
   "outputs": [],
   "source": [
    "#.to_csv(\"games.txt\", sep=\";\", index=False)\n",
    "file_name = os.path.join(datapath,'boardgamegeek.txt')\n",
    "with open(file_name, 'w') as f:\n",
    "      for _, row in info_items.loc[:, ['id', 'description']].iterrows():\n",
    "        f.write(f\"{row['id']};;{row['description']}\\n\")"
   ]
  },
  {
   "cell_type": "code",
   "execution_count": null,
   "metadata": {},
   "outputs": [],
   "source": [
    "rev['binary_like'] = rev['rating'].apply(lambda x: 1 if x > 7 else 0)"
   ]
  },
  {
   "cell_type": "code",
   "execution_count": null,
   "metadata": {},
   "outputs": [],
   "source": [
    "rev['binary_like'].describe()"
   ]
  },
  {
   "cell_type": "code",
   "execution_count": null,
   "metadata": {},
   "outputs": [],
   "source": [
    "info_items = info_items.loc[:, ['type', 'id', 'primary', 'alternate',\n",
    "       'yearpublished', 'minplayers', 'maxplayers',\n",
    "       'playingtime', 'minplaytime',\n",
    "       'maxplaytime', 'minage', 'boardgamecategory', 'boardgamemechanic',\n",
    "       'boardgamefamily', 'boardgameexpansion', 'boardgameimplementation',\n",
    "       'boardgamedesigner', 'boardgameartist', 'boardgamepublisher']]"
   ]
  },
  {
   "cell_type": "code",
   "execution_count": null,
   "metadata": {},
   "outputs": [],
   "source": [
    "set(info_items['type'].tolist())"
   ]
  },
  {
   "cell_type": "code",
   "execution_count": null,
   "metadata": {},
   "outputs": [],
   "source": [
    "type(info_items.loc[0, 'alternate'])"
   ]
  },
  {
   "cell_type": "code",
   "execution_count": null,
   "metadata": {},
   "outputs": [],
   "source": [
    "import numpy as np\n",
    "import itertools\n",
    "import re \n",
    "set_prop = set()\n",
    "for col in info_items.columns:\n",
    "    set_prop_new = []\n",
    "    if col == 'id':\n",
    "        continue\n",
    "    if type(info_items.loc[0, col])==list:\n",
    "        set_prop_new = set([re.sub(r'[^\\x00-\\x7F]+', '', x).strip() if len(x)>3 else \"\" for x in set(list(itertools.chain(*info_items.loc[:, col].tolist()))) ])\n",
    "        set_prop = set_prop.union(set(list(filter(lambda x: len(x)>3, set_prop_new))))\n",
    "        continue\n",
    "    if str(info_items.loc[0, col]).isnumeric():\n",
    "        set_prop_new = set(str(x) for x in info_items.loc[:, col].tolist())\n",
    "        set_prop = set_prop.union(set_prop_new)\n",
    "        continue\n",
    "    else:\n",
    "        set_prop_new = set([re.sub(r'[^\\x00-\\x7F]+', '', x).strip() if len(x)>3 else \"\" for x in info_items.loc[:, col].tolist()])\n",
    "        set_prop = set_prop.union(set(list(filter(lambda x: len(x)>3, set_prop_new))))\n",
    "        continue"
   ]
  },
  {
   "cell_type": "code",
   "execution_count": null,
   "metadata": {},
   "outputs": [],
   "source": [
    "len(set_prop)"
   ]
  },
  {
   "cell_type": "code",
   "execution_count": null,
   "metadata": {},
   "outputs": [],
   "source": [
    "mapping_dict = {\n",
    "    i: prop for i, prop in enumerate(set_prop)\n",
    "}\n",
    "\n",
    "file_name = os.path.join(datapath, 'mapped_prop.csv')\n",
    "with open(file_name, 'w') as f:\n",
    "      for id_, name_ in mapping_dict.items():\n",
    "        f.write(f\"{id_};;{name_}\\n\")"
   ]
  },
  {
   "cell_type": "code",
   "execution_count": null,
   "metadata": {},
   "outputs": [],
   "source": [
    "mapping_dict_col = {\n",
    "    i: prop for i, prop in enumerate([x for x in info_items.columns if x != 'id'])\n",
    "}\n",
    "file_name = os.path.join(datapath,'mapped_rel.csv')\n",
    "with open(file_name, 'w') as f:\n",
    "      for id_, name_ in mapping_dict_col.items():\n",
    "        f.write(f\"{id_};;{name_}\\n\")"
   ]
  },
  {
   "cell_type": "code",
   "execution_count": null,
   "metadata": {},
   "outputs": [],
   "source": [
    "mapping_dict_col_inv  = {v:k for k, v in mapping_dict_col.items()}\n",
    "mapping_dict_inv = {v:k for k, v in mapping_dict.items()}\n",
    "rel = []\n",
    "for _, row in info_items.iterrows():\n",
    "    for col in info_items.columns:\n",
    "        if col == 'id':\n",
    "            continue\n",
    "        if type(row[col])==list:\n",
    "            rel.extend([{\n",
    "                'id': row['id'],\n",
    "                'rel': mapping_dict_col_inv[col],\n",
    "                'prop': mapping_dict_inv.get(x, \"\")\n",
    "            } for x in row[col]])\n",
    "        else:\n",
    "            rel.append({\n",
    "                'id': row['id'],\n",
    "                'rel': mapping_dict_col_inv[col],\n",
    "                'prop': mapping_dict_inv.get(row[col], \"\")\n",
    "            })"
   ]
  },
  {
   "cell_type": "code",
   "execution_count": null,
   "metadata": {},
   "outputs": [],
   "source": [
    "os.makedirs(os.path.join(datapath, 'item-prop'), exist_ok=True)\n",
    "\n",
    "\n",
    "temp = pd.DataFrame(list(filter(lambda x: len(str(x['prop']))>2, rel)))\n",
    "from sklearn.model_selection import train_test_split\n",
    "\n",
    "train, test = train_test_split(temp, test_size=0.2)\n",
    "\n",
    "train.loc[:, ['id', 'prop', 'rel']].to_csv(os.path.join(datapath, 'item-prop', \"train.tsv\"), sep='\\t', index=False, header=False)\n",
    "test.loc[:, ['id', 'prop', 'rel']].to_csv(os.path.join(datapath, 'item-prop', \"test.tsv\"), sep='\\t', index=False, header=False)"
   ]
  },
  {
   "cell_type": "code",
   "execution_count": null,
   "metadata": {},
   "outputs": [],
   "source": [
    "for col in info_items.columns:\n",
    "    set_prop_new = []\n",
    "    if type(info_items.loc[0, col])==list:\n",
    "        set_prop_new = set([re.sub(r'[^\\x00-\\x7F]+', '', x).strip() if len(x)>3 else \"\" for x in set(list(itertools.chain(*info_items.loc[:, col].tolist()))) ])\n",
    "        set_prop = set_prop.union(set(list(filter(lambda x: len(x)>3, set_prop_new))))\n",
    "        continue\n",
    "    if str(info_items.loc[0, col]).isnumeric():\n",
    "        set_prop_new = set(str(x) for x in info_items.loc[:, col].tolist())\n",
    "        set_prop = set_prop.union(set_prop_new)\n",
    "        continue\n",
    "    else:\n",
    "        set_prop_new = set([re.sub(r'[^\\x00-\\x7F]+', '', x).strip() if len(x)>3 else \"\" for x in info_items.loc[:, col].tolist()])\n",
    "        set_prop = set_prop.union(set(list(filter(lambda x: len(x)>3, set_prop_new))))\n",
    "        continue"
   ]
  },
  {
   "cell_type": "code",
   "execution_count": null,
   "metadata": {},
   "outputs": [],
   "source": [
    "df_train = rev.loc[:, ['user', 'ID', 'binary_like']]\n",
    "rev.head()"
   ]
  },
  {
   "cell_type": "code",
   "execution_count": null,
   "metadata": {},
   "outputs": [],
   "source": [
    "df_train.to_csv(os.path.join(datapath,\"interactions.csv\"), sep=\";\", index=False)"
   ]
  },
  {
   "cell_type": "code",
   "execution_count": null,
   "metadata": {},
   "outputs": [],
   "source": [
    "info_items.loc[:, ['id', 'primary']].to_csv(os.path.join(datapath,\"mapped_entities.csv\"), sep=\";\", index=False)"
   ]
  },
  {
   "cell_type": "code",
   "execution_count": 3,
   "metadata": {},
   "outputs": [],
   "source": [
    "df_train = pd.read_csv(os.path.join(datapath,\"interactions.csv\"), sep=\";\")"
   ]
  },
  {
   "cell_type": "code",
   "execution_count": 16,
   "metadata": {},
   "outputs": [
    {
     "name": "stdout",
     "output_type": "stream",
     "text": [
      "# users:  168733\n",
      "# items:  21772\n",
      "# interaction:  6279384\n",
      "# sparsity:  99.82906984428442\n"
     ]
    }
   ],
   "source": [
    "user_ = len(df_train['user'].unique())\n",
    "items_ = len(df_train['ID'].unique())\n",
    "\n",
    "print(\"# users: \", user_)\n",
    "print(\"# items: \", items_)\n",
    "print(\"# interaction: \", len(df_train))\n",
    "print(\"# sparsity: \", (1-len(df_train)/(user_*items_))*100)"
   ]
  },
  {
   "cell_type": "code",
   "execution_count": null,
   "metadata": {},
   "outputs": [],
   "source": [
    "from sklearn.model_selection import train_test_split\n",
    "\n",
    "train, test = train_test_split(df_train, test_size=0.2)"
   ]
  },
  {
   "cell_type": "code",
   "execution_count": null,
   "metadata": {},
   "outputs": [],
   "source": [
    "os.makedirs(os.path.join(datapath, 'user-item'), exist_ok=True)"
   ]
  },
  {
   "cell_type": "code",
   "execution_count": null,
   "metadata": {},
   "outputs": [],
   "source": [
    "train.to_csv(os.path.join(datapath, 'user-item', 'train.tsv'), sep='\\t', index=False, header=False)"
   ]
  },
  {
   "cell_type": "code",
   "execution_count": null,
   "metadata": {},
   "outputs": [],
   "source": [
    "test.to_csv(os.path.join(datapath,'user-item', 'test.tsv'), sep='\\t', index=False, header=False)"
   ]
  }
 ],
 "metadata": {
  "kernelspec": {
   "display_name": ".venv",
   "language": "python",
   "name": "python3"
  },
  "language_info": {
   "codemirror_mode": {
    "name": "ipython",
    "version": 3
   },
   "file_extension": ".py",
   "mimetype": "text/x-python",
   "name": "python",
   "nbconvert_exporter": "python",
   "pygments_lexer": "ipython3",
   "version": "3.10.0"
  }
 },
 "nbformat": 4,
 "nbformat_minor": 2
}
